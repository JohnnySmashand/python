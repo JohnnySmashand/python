{
 "cells": [
  {
   "cell_type": "markdown",
   "metadata": {},
   "source": [
    "Dekoratory,tworzenie dekoratorów- metaklasy, wzorce projektowe\n",
    "klasy moga sluzyc do porzadkowania funkcjonalnosci- do tego sluza metody statyczne, sa to metody zwiazane z klasa bezposrednio"
   ]
  },
  {
   "cell_type": "code",
   "execution_count": 29,
   "metadata": {},
   "outputs": [],
   "source": [
    "import numpy as np\n",
    "class KlasaStatyczna:\n",
    "\n",
    "    instance_count = 0\n",
    "\n",
    "\n",
    "    def __init__(self, y):\n",
    "        self.y = y\n",
    "        KlasaStatyczna.instance_count += 1\n",
    "\n",
    "    \n",
    "    #destruktor-metoda wywolywana kiedy obirekt jest niszczony, mozemy dzieki temu np. zamknac polaczenie z baza danych itd\n",
    "    def __del__(self):\n",
    "        KlasaStatyczna.instance_count -= 1\n",
    "    \n",
    "\n",
    "    @staticmethod#dekorator\n",
    "    #metody statyczne- nie ma self w argumencie, nie dziala obiekt, funkcja przywiazana do danej klasy \n",
    "    def static_method():\n",
    "        print(f\"To jest metoda statyczna\")\n",
    "        #teraz musimy ja dobrac w dekorator- owiniecie funkcji inna funkcja\n",
    "    \n",
    "\n",
    "    #metoda klasowa\n",
    "    @classmethod\n",
    "    def licznik_instacji(cls):#tutaj juz mamy argument, cls- odwolanie do klasy ktora wywoluje metode \n",
    "        print(f\"Istnieje {cls.instance_count} obiektów klasy\")\n",
    "\n",
    "    @classmethod\n",
    "    def random_object(cls):\n",
    "        rv = np.random.normal(0,2)\n",
    "        return cls(rv)\n",
    "\n",
    "\n",
    "        "
   ]
  },
  {
   "cell_type": "code",
   "execution_count": 30,
   "metadata": {},
   "outputs": [
    {
     "name": "stdout",
     "output_type": "stream",
     "text": [
      "To jest metoda statyczna\n"
     ]
    }
   ],
   "source": [
    "KlasaStatyczna.static_method()"
   ]
  },
  {
   "cell_type": "code",
   "execution_count": 31,
   "metadata": {},
   "outputs": [
    {
     "name": "stdout",
     "output_type": "stream",
     "text": [
      "Istnieje 0 obiektów klasy\n"
     ]
    }
   ],
   "source": [
    "KlasaStatyczna.licznik_instacji()"
   ]
  },
  {
   "cell_type": "code",
   "execution_count": 32,
   "metadata": {},
   "outputs": [
    {
     "name": "stdout",
     "output_type": "stream",
     "text": [
      "Istnieje 0 obiektów klasy\n",
      "Istnieje 1 obiektów klasy\n",
      "Istnieje 0 obiektów klasy\n"
     ]
    }
   ],
   "source": [
    "KlasaStatyczna.licznik_instacji()\n",
    "\n",
    "o1 = KlasaStatyczna(5)\n",
    "o2 = KlasaStatyczna(10)\n",
    "\n",
    "KlasaStatyczna.licznik_instacji()\n",
    "\n",
    "del o2\n",
    "\n",
    "\n",
    "KlasaStatyczna.licznik_instacji()"
   ]
  },
  {
   "cell_type": "markdown",
   "metadata": {},
   "source": [
    "factory method- metoda klasy ktora tworzy obiekty klasy , w predefiniowany sposob"
   ]
  },
  {
   "cell_type": "code",
   "execution_count": 40,
   "metadata": {},
   "outputs": [
    {
     "data": {
      "text/plain": [
       "1.0647351310651467"
      ]
     },
     "execution_count": 40,
     "metadata": {},
     "output_type": "execute_result"
    }
   ],
   "source": [
    "o4 = KlasaStatyczna.random_object()\n",
    "o4.y"
   ]
  },
  {
   "cell_type": "markdown",
   "metadata": {},
   "source": []
  },
  {
   "cell_type": "markdown",
   "metadata": {},
   "source": [
    "Zbuduj klase o nastepujacych cechach\n",
    "1. Metody statyczne do konwersji farenheit na celsjusza i na odwrot\n",
    "2. w obiekcie ma przechowywac wylacznie temperature w st. celsjusza\n",
    "3. utworzyc metody klasowae pozwalajace na tworzenie obiektow , podajac temperature w farenheitach i kelvinach"
   ]
  },
  {
   "cell_type": "code",
   "execution_count": null,
   "metadata": {},
   "outputs": [],
   "source": [
    "class Temperatura():\n",
    "    def __init__(self,c):\n",
    "        self.c = c\n",
    "\n",
    "    @staticmethod\n",
    "    def c_to_f(c):\n",
    "        return c * 9/5 + 32\n",
    "    @staticmethod\n",
    "    def c_to_k(c):\n",
    "        return c + 273.15\n",
    "    @staticmethod\n",
    "    def k_to_c(c):\n",
    "        return c- 273.15\n",
    "    @staticmethod\n",
    "    def f_to_c(c):\n",
    "        return (c - 32) * 5/9\n",
    "    @classmethod\n",
    "    def From_Kelvin(cls,k):\n",
    "        celsjusz = cls.k_to_c(k)\n",
    "        return cls(celsjusz)\n",
    "    @classmethod\n",
    "    def From_Fahr(cls, f):\n",
    "        celsjusz = Temperatura.f_to_c(f)\n",
    "        return cls(celsjusz)\n",
    "\n",
    "\n",
    "    "
   ]
  },
  {
   "cell_type": "code",
   "execution_count": 56,
   "metadata": {},
   "outputs": [],
   "source": [
    "t1= Temperatura.c_to_f(20)\n",
    "t2 = Temperatura.c_to_k(25)\n",
    "t3 = Temperatura.k_to_c(298.15)\n",
    "t4= Temperatura.f_to_c(68)"
   ]
  },
  {
   "cell_type": "code",
   "execution_count": 57,
   "metadata": {},
   "outputs": [
    {
     "data": {
      "text/plain": [
       "25.0"
      ]
     },
     "execution_count": 57,
     "metadata": {},
     "output_type": "execute_result"
    }
   ],
   "source": [
    "t3"
   ]
  },
  {
   "cell_type": "code",
   "execution_count": 71,
   "metadata": {},
   "outputs": [],
   "source": [
    "t5 = Temperatura.From_Kelvin(20)"
   ]
  },
  {
   "cell_type": "code",
   "execution_count": 73,
   "metadata": {},
   "outputs": [
    {
     "data": {
      "text/plain": [
       "-253.14999999999998"
      ]
     },
     "execution_count": 73,
     "metadata": {},
     "output_type": "execute_result"
    }
   ],
   "source": [
    "t5.c"
   ]
  },
  {
   "cell_type": "markdown",
   "metadata": {},
   "source": [
    "Metaklasy- klasa ktora towryzy inne klasy"
   ]
  },
  {
   "cell_type": "code",
   "execution_count": 76,
   "metadata": {},
   "outputs": [],
   "source": [
    "NowaKlasa = type(\"Nowa Klasa\", (object,), {\"x1\":5, \"x2\":6})"
   ]
  },
  {
   "cell_type": "code",
   "execution_count": 78,
   "metadata": {},
   "outputs": [],
   "source": [
    "class UpperCaseAtributtesMeta(type):\n",
    "\n",
    "    def __new__(cls,name,bases,dct):\n",
    "        uppercase_attributes = {}\n",
    "\n",
    "        for key, value in dct.items():\n",
    "            if not key.startswith('__'):\n",
    "                uppercase_attributes[key.upper()] = value\n",
    "            else:\n",
    "                uppercase_attributes[key]= value\n",
    "            \n",
    "\n",
    "        return super().__new__(cls,name,bases,uppercase_attributes)\n",
    "    \n",
    "\n",
    "class KlasaTestowa(metaclass= UpperCaseAtributtesMeta):\n",
    "    atrybut_1 = \"wartość1\"\n",
    "    atrybut_2 = \"wartość2\""
   ]
  },
  {
   "cell_type": "code",
   "execution_count": 79,
   "metadata": {},
   "outputs": [
    {
     "ename": "AttributeError",
     "evalue": "type object 'KlasaTestowa' has no attribute 'atrybut_1'",
     "output_type": "error",
     "traceback": [
      "\u001b[1;31m---------------------------------------------------------------------------\u001b[0m",
      "\u001b[1;31mAttributeError\u001b[0m                            Traceback (most recent call last)",
      "Cell \u001b[1;32mIn[79], line 1\u001b[0m\n\u001b[1;32m----> 1\u001b[0m KlasaTestowa\u001b[38;5;241m.\u001b[39matrybut_1\n",
      "\u001b[1;31mAttributeError\u001b[0m: type object 'KlasaTestowa' has no attribute 'atrybut_1'"
     ]
    }
   ],
   "source": [
    "KlasaTestowa.atrybut_1"
   ]
  },
  {
   "cell_type": "code",
   "execution_count": 80,
   "metadata": {},
   "outputs": [
    {
     "data": {
      "text/plain": [
       "'wartość1'"
      ]
     },
     "execution_count": 80,
     "metadata": {},
     "output_type": "execute_result"
    }
   ],
   "source": [
    "KlasaTestowa.ATRYBUT_1"
   ]
  },
  {
   "cell_type": "code",
   "execution_count": null,
   "metadata": {},
   "outputs": [],
   "source": [
    "class MethodNameValidator(type):\n",
    "    def __new__(cls,name,bases,dct):\n",
    "        for key in dct:\n",
    "            if callable(dct[key]) and not key.startswith('__') and key[0].isupper():\n",
    "                raise ValueError(f\"Metoda {key} nie zaczyna się z malej litery\")\n",
    "            \n",
    "        return super().__new__(cls,name,bases,dct)"
   ]
  },
  {
   "cell_type": "code",
   "execution_count": 86,
   "metadata": {},
   "outputs": [],
   "source": [
    "class Klasa1(metaclass = MethodNameValidator):\n",
    "\n",
    "\n",
    "    def dobra_nazwa(self,x):\n",
    "        return x\n"
   ]
  },
  {
   "cell_type": "markdown",
   "metadata": {},
   "source": [
    "Wzorce projektowania klas- stworzenie klasy wylacznie z jednym obiektem\n",
    "FastApi, flask\n"
   ]
  },
  {
   "cell_type": "code",
   "execution_count": null,
   "metadata": {},
   "outputs": [],
   "source": [
    "class Singleton:#powszechnesłowo bardzo powszechne i szeroko stosowane\n",
    "    _instance = None\n",
    "\n",
    "\n",
    "    def __new__(cls,*args,**kwargs):\n",
    "        if not cls._instance:\n",
    "            cls._instance = super(Singleton, cls).__new__(cls)\n",
    "        return cls._instance\n",
    "    \n",
    "\n",
    "    def __init__(self, value):\n",
    "        if not hasattr(self, '_initialized'):\n",
    "            self.value = value\n",
    "            self._initialized = True\n",
    "    "
   ]
  },
  {
   "cell_type": "code",
   "execution_count": 92,
   "metadata": {},
   "outputs": [],
   "source": [
    "\n",
    "singleton1 = Singleton(10)\n",
    "singleton2 = Singleton(20)"
   ]
  },
  {
   "cell_type": "code",
   "execution_count": 94,
   "metadata": {},
   "outputs": [
    {
     "name": "stdout",
     "output_type": "stream",
     "text": [
      "10\n",
      "10\n"
     ]
    }
   ],
   "source": [
    "print(singleton1.value)\n",
    "print(singleton2.value)"
   ]
  },
  {
   "cell_type": "code",
   "execution_count": 95,
   "metadata": {},
   "outputs": [
    {
     "name": "stdout",
     "output_type": "stream",
     "text": [
      "True\n"
     ]
    }
   ],
   "source": [
    "print(singleton1 is singleton2)"
   ]
  }
 ],
 "metadata": {
  "kernelspec": {
   "display_name": "base",
   "language": "python",
   "name": "python3"
  },
  "language_info": {
   "codemirror_mode": {
    "name": "ipython",
    "version": 3
   },
   "file_extension": ".py",
   "mimetype": "text/x-python",
   "name": "python",
   "nbconvert_exporter": "python",
   "pygments_lexer": "ipython3",
   "version": "3.12.4"
  }
 },
 "nbformat": 4,
 "nbformat_minor": 2
}
