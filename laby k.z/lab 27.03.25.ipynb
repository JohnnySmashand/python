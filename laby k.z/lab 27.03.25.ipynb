{
 "cells": [
  {
   "cell_type": "markdown",
   "metadata": {},
   "source": [
    "Dzis robimy overloading\n"
   ]
  },
  {
   "cell_type": "code",
   "execution_count": 1,
   "metadata": {},
   "outputs": [],
   "source": [
    "a = 5\n",
    "b= 10\n"
   ]
  },
  {
   "cell_type": "code",
   "execution_count": 2,
   "metadata": {},
   "outputs": [
    {
     "data": {
      "text/plain": [
       "int"
      ]
     },
     "execution_count": 2,
     "metadata": {},
     "output_type": "execute_result"
    }
   ],
   "source": [
    "type(a)"
   ]
  },
  {
   "cell_type": "code",
   "execution_count": 3,
   "metadata": {},
   "outputs": [
    {
     "data": {
      "text/plain": [
       "15"
      ]
     },
     "execution_count": 3,
     "metadata": {},
     "output_type": "execute_result"
    }
   ],
   "source": [
    "a+b"
   ]
  },
  {
   "cell_type": "markdown",
   "metadata": {},
   "source": [
    "a+b == a.__add__(b)\n",
    "Operatory to nic innego jak funkcja\n"
   ]
  },
  {
   "cell_type": "code",
   "execution_count": 4,
   "metadata": {},
   "outputs": [
    {
     "data": {
      "text/plain": [
       "15"
      ]
     },
     "execution_count": 4,
     "metadata": {},
     "output_type": "execute_result"
    }
   ],
   "source": [
    "a.__add__(b)"
   ]
  },
  {
   "cell_type": "code",
   "execution_count": 5,
   "metadata": {},
   "outputs": [],
   "source": [
    "l1=[1,2,3]\n",
    "l2=[3,4,5]"
   ]
  },
  {
   "cell_type": "code",
   "execution_count": 6,
   "metadata": {},
   "outputs": [
    {
     "data": {
      "text/plain": [
       "[1, 2, 3, 3, 4, 5]"
      ]
     },
     "execution_count": 6,
     "metadata": {},
     "output_type": "execute_result"
    }
   ],
   "source": [
    "l1+l2"
   ]
  },
  {
   "cell_type": "code",
   "execution_count": null,
   "metadata": {},
   "outputs": [
    {
     "data": {
      "text/plain": [
       "array([4, 6, 8])"
      ]
     },
     "execution_count": 8,
     "metadata": {},
     "output_type": "execute_result"
    }
   ],
   "source": [
    "import numpy as np\n",
    "a1= np.array(l1)\n",
    "a2= np.array(l2)\n",
    "\n",
    "a1+a2"
   ]
  },
  {
   "cell_type": "markdown",
   "metadata": {},
   "source": [
    "#przykład"
   ]
  },
  {
   "cell_type": "code",
   "execution_count": null,
   "metadata": {},
   "outputs": [],
   "source": [
    "\n",
    "import numpy as np\n",
    "class Vector2D:\n",
    "\n",
    "    def __init__(self, x, y):   \n",
    "        self.v= np.array([x,y])\n",
    "\n",
    "    def __repr__(self):#wyswietlenie w sposob opisowy\n",
    "        \n",
    "        return f\"Vector 2D ({self.v[0], self.v[1]})\"\n",
    "        \n",
    "    def __add__(self, v2):#dodwanie wektorow\n",
    "\n",
    "        if not isinstance(v2, Vector2D):\n",
    "            raise NotImplementedError(\"Brak implementacji\")\n",
    "        \n",
    "        v_new = Vector2D(self.v[0]+v2.v[0],#wspolrzene x\n",
    "                         self.v[1]+v2.v[1])#wspolrzedne y\n",
    "        \n",
    "        return v_new\n",
    "    def __sub__(self, v2):#odejmowanie wektorów \n",
    "        v_new = Vector2D(self.v[0] - v2.v[0],#wspolrzene x\n",
    "                         self.v[1] - v2.v[1])#wspolrzedne y\n",
    "        \n",
    "\n",
    "        return v_new\n",
    "\n",
    "    def __mul__(self, b):#mnozenie\n",
    "\n",
    "        #mnozenie przez skalar\n",
    "        if isinstance(b,(int,float)):\n",
    "            return Vector2D(self.v[0] * b,\n",
    "                            self.v[1] * b)\n",
    "         #iloczyn skalarny\n",
    "        if isinstance(b,Vector2D):\n",
    "            return self.v[0] * b.v[0] + self.v[1] * b.v[1]\n",
    "\n",
    "        return None\n",
    "       \n",
    "    \n",
    "\n",
    "\n",
    "    def __rmul__(self, b):\n",
    "\n",
    "         return self * b\n",
    "\n",
    "        "
   ]
  },
  {
   "cell_type": "code",
   "execution_count": 68,
   "metadata": {},
   "outputs": [],
   "source": [
    "v1= Vector2D(2,3)\n",
    "v2=Vector2D(4,5)\n",
    "v3=Vector2D(1,5)"
   ]
  },
  {
   "cell_type": "code",
   "execution_count": 69,
   "metadata": {},
   "outputs": [
    {
     "data": {
      "text/plain": [
       "Vector 2D ((-1, 3))"
      ]
     },
     "execution_count": 69,
     "metadata": {},
     "output_type": "execute_result"
    }
   ],
   "source": [
    "v1 - v2 + v3"
   ]
  },
  {
   "cell_type": "code",
   "execution_count": 70,
   "metadata": {},
   "outputs": [
    {
     "data": {
      "text/plain": [
       "23"
      ]
     },
     "execution_count": 70,
     "metadata": {},
     "output_type": "execute_result"
    }
   ],
   "source": [
    "v1 * v2"
   ]
  },
  {
   "cell_type": "code",
   "execution_count": 71,
   "metadata": {},
   "outputs": [
    {
     "data": {
      "text/plain": [
       "Vector 2D ((10, 15))"
      ]
     },
     "execution_count": 71,
     "metadata": {},
     "output_type": "execute_result"
    }
   ],
   "source": [
    "5* v1"
   ]
  },
  {
   "cell_type": "markdown",
   "metadata": {},
   "source": [
    "zrobic tak dla liczb zespolonych\n",
    "dodawanie,odejmowanie, mnozenie, modul\n",
    "1. Zaimplementuj klase reprezentujaca liczby zespolone\n",
    "2. zaimplementuj dodawania, odejmowanie, mnozenie liczb zespolonych, \n",
    "3. zaimplementuj modul liczby zespolonej\n",
    "4. zaimplementoj  porownywanie liczb zepolonych . Porowwanie interpretujemy jako porownanie modulow\n",
    "5. zaimplementuj konwersje liczby zespolonej do stringa\n"
   ]
  },
  {
   "cell_type": "code",
   "execution_count": 106,
   "metadata": {},
   "outputs": [],
   "source": [
    "import math\n",
    "class LiczbaZespolona:\n",
    "\n",
    "    def __init__(self, a,b):\n",
    "        self.a = a#rzeczywista\n",
    "        self.b = b #urojona\n",
    "    def __repr__(self):\n",
    "        return f\"Liczba zespolona : {self.a} + {self.b}i\"\n",
    "    def __add__(self,c):\n",
    "        return LiczbaZespolona(self.a + c.a , self.b + c.b)\n",
    "    def __sub__(self,c):\n",
    "        return LiczbaZespolona(self.a - c.a , self.b - c.b)\n",
    "    \n",
    "    def __mul__(self,c):\n",
    "        r = self.a *c.a - self.b  * c.b\n",
    "        i = self.a * c.a + self.b * c.b\n",
    "        return LiczbaZespolona(r, i)\n",
    "    def modul(self):\n",
    "        return math.sqrt(self.a **2 + self.b **2)\n",
    "    def __eq__(self, c):\n",
    "        return self.a  == c.a and self.b == c.b\n",
    "    def __str__(self):\n",
    "        if self.b >=0:\n",
    "            sign  = \"+\"\n",
    "        else:\n",
    "            sign = '-'\n",
    "        return f\"{self.a}{sign} {abs(self.b)}\"\n",
    "    \n",
    "    \n",
    "    \n"
   ]
  },
  {
   "cell_type": "code",
   "execution_count": 104,
   "metadata": {},
   "outputs": [],
   "source": [
    "l1 = LiczbaZespolona(1,2)\n",
    "l2 = LiczbaZespolona(1,2)\n"
   ]
  },
  {
   "cell_type": "code",
   "execution_count": null,
   "metadata": {},
   "outputs": [
    {
     "data": {
      "text/plain": [
       "True"
      ]
     },
     "execution_count": 105,
     "metadata": {},
     "output_type": "execute_result"
    }
   ],
   "source": []
  },
  {
   "cell_type": "code",
   "execution_count": 101,
   "metadata": {},
   "outputs": [
    {
     "data": {
      "text/plain": [
       "2.23606797749979"
      ]
     },
     "execution_count": 101,
     "metadata": {},
     "output_type": "execute_result"
    }
   ],
   "source": [
    "LiczbaZespolona.modul(l1)"
   ]
  },
  {
   "cell_type": "markdown",
   "metadata": {},
   "source": []
  },
  {
   "cell_type": "markdown",
   "metadata": {},
   "source": [
    "## Ćwiczenie\n",
    "\n",
    "**Zaimplementuj wektory prędkości ze szczególnej teorii względności!**\n",
    "\n",
    "### Reguły dodawania prędkości:\n",
    "\n",
    "\\[\n",
    "\\vec{w} = \\frac{\\vec{u} + \\vec{v}}{1 + \\frac{\\vec{u}\\cdot\\vec{v}}{c^2}}\n",
    "\\]\n",
    "\n",
    "gdzie:\n",
    "\n",
    "- \\(\\vec{u}, \\vec{v}, \\vec{w}\\) – wektory prędkości  \n",
    "- \\(c\\) – prędkość światła  \n",
    "\n",
    "**Znormalizuj składowe wektora do prędkości światła, tak by zawierały się w przedziale** \\([-1, 1]\\).\n"
   ]
  },
  {
   "cell_type": "code",
   "execution_count": null,
   "metadata": {},
   "outputs": [],
   "source": [
    "import numpy as np\n",
    "class RVector:\n",
    "    def __init__(self,x, y , c = 1):\n",
    "        self.RVector = np.array([x,y])\n",
    "        self.c = c\n",
    "    \n",
    "\n",
    "\n",
    "\n",
    "\n",
    "\n",
    "\n",
    "    def __mul__(self, b):#mnozenie\n",
    "         #iloczyn skalarny\n",
    "        if isinstance(b,RVector):\n",
    "            return self.v[0] * b.v[0] + self.v[1] * b.v[1]\n",
    "\n",
    "        return None\n",
    "    "
   ]
  }
 ],
 "metadata": {
  "kernelspec": {
   "display_name": "base",
   "language": "python",
   "name": "python3"
  },
  "language_info": {
   "codemirror_mode": {
    "name": "ipython",
    "version": 3
   },
   "file_extension": ".py",
   "mimetype": "text/x-python",
   "name": "python",
   "nbconvert_exporter": "python",
   "pygments_lexer": "ipython3",
   "version": "3.12.4"
  }
 },
 "nbformat": 4,
 "nbformat_minor": 2
}
