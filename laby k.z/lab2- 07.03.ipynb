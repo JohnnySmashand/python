{
 "cells": [
  {
   "cell_type": "code",
   "execution_count": 1,
   "metadata": {},
   "outputs": [],
   "source": [
    "class Samochod:\n",
    "    def __init__(self,\n",
    "                marka : str,\n",
    "                model: str, \n",
    "                rok: int):\n",
    "        self.marka = marka\n",
    "        self.model = model\n",
    "        self.rok = rok\n",
    "    def opis(self):\n",
    "        return f\"{self.marka} {self.model} z roku {self.rok}\"\n",
    "    def __repr__(self):\n",
    "        return self.opis()\n",
    "    "
   ]
  },
  {
   "cell_type": "code",
   "execution_count": 92,
   "metadata": {},
   "outputs": [],
   "source": [
    "moj_samochod = Samochod(\"audi\", \"a3\", \"2010\")"
   ]
  },
  {
   "cell_type": "code",
   "execution_count": 93,
   "metadata": {},
   "outputs": [
    {
     "data": {
      "text/plain": [
       "audi a3 z roku 2010"
      ]
     },
     "execution_count": 93,
     "metadata": {},
     "output_type": "execute_result"
    }
   ],
   "source": [
    "moj_samochod"
   ]
  },
  {
   "cell_type": "code",
   "execution_count": 94,
   "metadata": {},
   "outputs": [],
   "source": [
    "samochod_kolegi = Samochod(\"Fiat\",\"Uno\", 1990)"
   ]
  },
  {
   "cell_type": "code",
   "execution_count": 95,
   "metadata": {},
   "outputs": [
    {
     "data": {
      "text/plain": [
       "Fiat Uno z roku 1990"
      ]
     },
     "execution_count": 95,
     "metadata": {},
     "output_type": "execute_result"
    }
   ],
   "source": [
    "samochod_kolegi"
   ]
  },
  {
   "cell_type": "markdown",
   "metadata": {},
   "source": [
    "Zadanie1- \n",
    "\n",
    "zdefiniuj klase lampka, ktora zawiera atrybuty:\n",
    "-kolor- dowolnie zdefiniowany \n",
    "-moc lampki w watach\n",
    "-wlaczona- flaga logiczna czy lampka jest wlaczona\n",
    "Metody:\n",
    "- do wlaczania/wylaczania lampki \n",
    "-do zmiany koloru lampki\n",
    "-do wypisania statusu lampki"
   ]
  },
  {
   "cell_type": "code",
   "execution_count": 96,
   "metadata": {},
   "outputs": [],
   "source": [
    "class Lampka:\n",
    "    def __init__(self,\n",
    "                kolor: str,\n",
    "                moc: int,\n",
    "                on_off: bool):\n",
    "        self.kolor = kolor\n",
    "        self.moc = moc\n",
    "        self.on_off = on_off\n",
    "    def opis(self):\n",
    "        return f\"Lampka ma {self.kolor} kolor, jej moc to {self.moc} W  i jest {self.on_off}\"\n",
    "    def __repr__(self):\n",
    "        return self.opis()\n",
    "    def turn_on_off(self):\n",
    "        if self.on_off == True:\n",
    "            self.on_off = False\n",
    "        else:\n",
    "            self.on_off = True\n",
    "    def zmienKolor(self,nowyKolor):\n",
    "        self.kolor = nowyKolor\n",
    "\n",
    "\n",
    "\n",
    "   \n"
   ]
  },
  {
   "cell_type": "code",
   "execution_count": 97,
   "metadata": {},
   "outputs": [
    {
     "data": {
      "text/plain": [
       "Lampka ma zielony kolor, jej moc to 75 W  i jest True"
      ]
     },
     "execution_count": 97,
     "metadata": {},
     "output_type": "execute_result"
    }
   ],
   "source": [
    "moja_lampka = Lampka(\"zielony\",75,True)\n",
    "moja_lampka"
   ]
  },
  {
   "cell_type": "code",
   "execution_count": 98,
   "metadata": {},
   "outputs": [
    {
     "data": {
      "text/plain": [
       "Lampka ma zielony kolor, jej moc to 75 W  i jest False"
      ]
     },
     "execution_count": 98,
     "metadata": {},
     "output_type": "execute_result"
    }
   ],
   "source": [
    "moja_lampka.turn_on_off()\n",
    "moja_lampka"
   ]
  },
  {
   "cell_type": "code",
   "execution_count": 99,
   "metadata": {},
   "outputs": [
    {
     "data": {
      "text/plain": [
       "'Lampka ma zielony kolor, jej moc to 75 W  i jest False'"
      ]
     },
     "execution_count": 99,
     "metadata": {},
     "output_type": "execute_result"
    }
   ],
   "source": [
    "moja_lampka.opis()\n",
    "\n"
   ]
  },
  {
   "cell_type": "code",
   "execution_count": 100,
   "metadata": {},
   "outputs": [
    {
     "data": {
      "text/plain": [
       "Lampka ma niebieski kolor, jej moc to 75 W  i jest False"
      ]
     },
     "execution_count": 100,
     "metadata": {},
     "output_type": "execute_result"
    }
   ],
   "source": [
    "moja_lampka.zmienKolor(nowyKolor= \"niebieski\")\n",
    "moja_lampka"
   ]
  },
  {
   "cell_type": "markdown",
   "metadata": {},
   "source": [
    "Atrybuty klasy:\n",
    "dwa podkreslniki przed zmienna oznaczaja ze jest to zmienna prywatna"
   ]
  },
  {
   "cell_type": "code",
   "execution_count": 101,
   "metadata": {},
   "outputs": [],
   "source": [
    "class KontoBankowe:\n",
    "\n",
    "    oprocentowanie = 0.05 # atrybut klasy\n",
    "    \n",
    "    def __init__(self, wlasciciel , saldo_poczatkowe):\n",
    "        self.__wlasciciel = wlasciciel\n",
    "        self.__saldo = saldo_poczatkowe\n",
    "    def wplata(self,kwota):\n",
    "        self.__saldo +=kwota\n",
    "    def wyplata(self,kwota):\n",
    "        if kwota <= self.__saldo:\n",
    "            self.__saldo -=kwota\n",
    "        else:\n",
    "            raise ValueError(f\"Za mało pieniędzy na koncie.\")\n",
    "    def nalicz_odsetki(self):\n",
    "        self.__saldo += self.oprocentowanie * self.__saldo\n",
    "    def wyswietl_saldo(self):\n",
    "        return f\"Saldo konta {self.__saldo}. Konto nalezy do  {self.__wlasciciel}\"\n",
    "    \n",
    "    def get_saldo(self):\n",
    "        return self.__saldo"
   ]
  },
  {
   "cell_type": "code",
   "execution_count": 102,
   "metadata": {},
   "outputs": [
    {
     "data": {
      "text/plain": [
       "'Saldo konta 15750.0. Konto nalezy do  Jakub'"
      ]
     },
     "execution_count": 102,
     "metadata": {},
     "output_type": "execute_result"
    }
   ],
   "source": [
    "moje_konto = KontoBankowe(\"Jakub\", 10000)\n",
    "moje_konto.wplata(10000)\n",
    "moje_konto.wyplata(5000)\n",
    "moje_konto.nalicz_odsetki()\n",
    "moje_konto.wyswietl_saldo()"
   ]
  },
  {
   "cell_type": "code",
   "execution_count": 103,
   "metadata": {},
   "outputs": [],
   "source": [
    "moje_konto.__wlasciciel = \"Ja\""
   ]
  },
  {
   "cell_type": "code",
   "execution_count": 104,
   "metadata": {},
   "outputs": [
    {
     "data": {
      "text/plain": [
       "'Saldo konta 15750.0. Konto nalezy do  Jakub'"
      ]
     },
     "execution_count": 104,
     "metadata": {},
     "output_type": "execute_result"
    }
   ],
   "source": [
    "moje_konto.wyswietl_saldo()"
   ]
  },
  {
   "cell_type": "code",
   "execution_count": 106,
   "metadata": {},
   "outputs": [
    {
     "data": {
      "text/plain": [
       "15750.0"
      ]
     },
     "execution_count": 106,
     "metadata": {},
     "output_type": "execute_result"
    }
   ],
   "source": [
    "moje_konto.get_saldo()"
   ]
  }
 ],
 "metadata": {
  "kernelspec": {
   "display_name": "base",
   "language": "python",
   "name": "python3"
  },
  "language_info": {
   "codemirror_mode": {
    "name": "ipython",
    "version": 3
   },
   "file_extension": ".py",
   "mimetype": "text/x-python",
   "name": "python",
   "nbconvert_exporter": "python",
   "pygments_lexer": "ipython3",
   "version": "3.12.4"
  }
 },
 "nbformat": 4,
 "nbformat_minor": 2
}
