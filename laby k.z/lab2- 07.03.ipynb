{
 "cells": [
  {
   "cell_type": "code",
   "metadata": {
    "ExecuteTime": {
     "end_time": "2025-04-24T16:13:07.375192Z",
     "start_time": "2025-04-24T16:13:07.369689Z"
    }
   },
   "source": [
    "class Samochod:\n",
    "    def __init__(self,\n",
    "                marka : str,\n",
    "                model: str, \n",
    "                rok: int):\n",
    "        self.marka = marka\n",
    "        self.model = model\n",
    "        self.rok = rok\n",
    "    def opis(self):\n",
    "        return f\"{self.marka} {self.model} z roku {self.rok}\"\n",
    "    def __repr__(self):\n",
    "        return self.opis()\n",
    "    "
   ],
   "outputs": [],
   "execution_count": 1
  },
  {
   "cell_type": "code",
   "metadata": {
    "ExecuteTime": {
     "end_time": "2025-04-24T16:13:14.425398Z",
     "start_time": "2025-04-24T16:13:14.421279Z"
    }
   },
   "source": [
    "moj_samochod = Samochod(\"audi\", \"a3\", \"2010\")"
   ],
   "outputs": [],
   "execution_count": 3
  },
  {
   "cell_type": "code",
   "metadata": {
    "ExecuteTime": {
     "end_time": "2025-04-24T16:13:16.335456Z",
     "start_time": "2025-04-24T16:13:16.328156Z"
    }
   },
   "source": [
    "moj_samochod"
   ],
   "outputs": [
    {
     "data": {
      "text/plain": [
       "audi a3 z roku 2010"
      ]
     },
     "execution_count": 4,
     "metadata": {},
     "output_type": "execute_result"
    }
   ],
   "execution_count": 4
  },
  {
   "cell_type": "code",
   "metadata": {
    "ExecuteTime": {
     "end_time": "2025-04-24T16:13:35.188867Z",
     "start_time": "2025-04-24T16:13:35.184731Z"
    }
   },
   "source": [
    "samochod_kolegi = Samochod(\"Fiat\",\"Uno\", 1990)"
   ],
   "outputs": [],
   "execution_count": 7
  },
  {
   "cell_type": "code",
   "metadata": {
    "ExecuteTime": {
     "end_time": "2025-04-24T16:13:35.983389Z",
     "start_time": "2025-04-24T16:13:35.977317Z"
    }
   },
   "source": [
    "samochod_kolegi"
   ],
   "outputs": [
    {
     "data": {
      "text/plain": [
       "Fiat Uno z roku 1990"
      ]
     },
     "execution_count": 8,
     "metadata": {},
     "output_type": "execute_result"
    }
   ],
   "execution_count": 8
  },
  {
   "cell_type": "markdown",
   "metadata": {},
   "source": [
    "Zadanie1- \n",
    "\n",
    "zdefiniuj klase lampka, ktora zawiera atrybuty:\n",
    "-kolor- dowolnie zdefiniowany \n",
    "-moc lampki w watach\n",
    "-wlaczona- flaga logiczna czy lampka jest wlaczona\n",
    "Metody:\n",
    "- do wlaczania/wylaczania lampki \n",
    "-do zmiany koloru lampki\n",
    "-do wypisania statusu lampki"
   ]
  },
  {
   "cell_type": "code",
   "metadata": {
    "ExecuteTime": {
     "end_time": "2025-04-24T16:13:54.680724Z",
     "start_time": "2025-04-24T16:13:54.675472Z"
    }
   },
   "source": [
    "class Lampka:\n",
    "    def __init__(self,\n",
    "                kolor: str,\n",
    "                moc: int,\n",
    "                on_off: bool):\n",
    "        self.kolor = kolor\n",
    "        self.moc = moc\n",
    "        self.on_off = on_off\n",
    "    def opis(self):\n",
    "        return f\"Lampka ma {self.kolor} kolor, jej moc to {self.moc} W  i jest {self.on_off}\"\n",
    "    def __repr__(self):\n",
    "        return self.opis()\n",
    "    def turn_on_off(self):\n",
    "        if self.on_off == True:\n",
    "            self.on_off = False\n",
    "        else:\n",
    "            self.on_off = True\n",
    "    def zmienKolor(self,nowyKolor):\n",
    "        self.kolor = nowyKolor\n",
    "\n",
    "\n",
    "\n",
    "   \n"
   ],
   "outputs": [],
   "execution_count": 9
  },
  {
   "cell_type": "code",
   "metadata": {
    "ExecuteTime": {
     "end_time": "2025-04-24T16:13:58.136139Z",
     "start_time": "2025-04-24T16:13:58.130296Z"
    }
   },
   "source": [
    "moja_lampka = Lampka(\"zielony\",75,True)\n",
    "moja_lampka"
   ],
   "outputs": [
    {
     "data": {
      "text/plain": [
       "Lampka ma zielony kolor, jej moc to 75 W  i jest True"
      ]
     },
     "execution_count": 10,
     "metadata": {},
     "output_type": "execute_result"
    }
   ],
   "execution_count": 10
  },
  {
   "cell_type": "code",
   "execution_count": 98,
   "metadata": {},
   "outputs": [
    {
     "data": {
      "text/plain": [
       "Lampka ma zielony kolor, jej moc to 75 W  i jest False"
      ]
     },
     "execution_count": 98,
     "metadata": {},
     "output_type": "execute_result"
    }
   ],
   "source": [
    "moja_lampka.turn_on_off()\n",
    "moja_lampka"
   ]
  },
  {
   "cell_type": "code",
   "execution_count": 99,
   "metadata": {},
   "outputs": [
    {
     "data": {
      "text/plain": [
       "'Lampka ma zielony kolor, jej moc to 75 W  i jest False'"
      ]
     },
     "execution_count": 99,
     "metadata": {},
     "output_type": "execute_result"
    }
   ],
   "source": [
    "moja_lampka.opis()\n",
    "\n"
   ]
  },
  {
   "cell_type": "code",
   "execution_count": 100,
   "metadata": {},
   "outputs": [
    {
     "data": {
      "text/plain": [
       "Lampka ma niebieski kolor, jej moc to 75 W  i jest False"
      ]
     },
     "execution_count": 100,
     "metadata": {},
     "output_type": "execute_result"
    }
   ],
   "source": [
    "moja_lampka.zmienKolor(nowyKolor= \"niebieski\")\n",
    "moja_lampka"
   ]
  },
  {
   "cell_type": "markdown",
   "metadata": {},
   "source": [
    "Atrybuty klasy:\n",
    "dwa podkreslniki przed zmienna oznaczaja ze jest to zmienna prywatna"
   ]
  },
  {
   "cell_type": "code",
   "metadata": {
    "ExecuteTime": {
     "end_time": "2025-04-24T16:14:10.947412Z",
     "start_time": "2025-04-24T16:14:10.941889Z"
    }
   },
   "source": [
    "class KontoBankowe:\n",
    "\n",
    "    oprocentowanie = 0.05 # atrybut klasy\n",
    "    \n",
    "    def __init__(self, wlasciciel , saldo_poczatkowe):\n",
    "        self.__wlasciciel = wlasciciel\n",
    "        self.__saldo = saldo_poczatkowe\n",
    "    def wplata(self,kwota):\n",
    "        self.__saldo +=kwota\n",
    "    def wyplata(self,kwota):\n",
    "        if kwota <= self.__saldo:\n",
    "            self.__saldo -=kwota\n",
    "        else:\n",
    "            raise ValueError(f\"Za mało pieniędzy na koncie.\")\n",
    "    def nalicz_odsetki(self):\n",
    "        self.__saldo += self.oprocentowanie * self.__saldo\n",
    "    def wyswietl_saldo(self):\n",
    "        return f\"Saldo konta {self.__saldo}. Konto nalezy do  {self.__wlasciciel}\"\n",
    "    \n",
    "    def get_saldo(self):\n",
    "        return self.__saldo"
   ],
   "outputs": [],
   "execution_count": 11
  },
  {
   "cell_type": "code",
   "metadata": {
    "ExecuteTime": {
     "end_time": "2025-04-24T16:15:26.735785Z",
     "start_time": "2025-04-24T16:15:26.730034Z"
    }
   },
   "source": [
    "moje_konto = KontoBankowe(\"Jakub\", 10000)\n",
    "moje_konto.wplata(10000)\n",
    "moje_konto.wyplata(5000)\n",
    "moje_konto.nalicz_odsetki()\n",
    "moje_konto.wyswietl_saldo()\n"
   ],
   "outputs": [
    {
     "data": {
      "text/plain": [
       "'Saldo konta 15750.0. Konto nalezy do  Jakub'"
      ]
     },
     "execution_count": 14,
     "metadata": {},
     "output_type": "execute_result"
    }
   ],
   "execution_count": 14
  },
  {
   "cell_type": "code",
   "metadata": {
    "ExecuteTime": {
     "end_time": "2025-04-24T16:15:29.050424Z",
     "start_time": "2025-04-24T16:15:29.046138Z"
    }
   },
   "source": [
    "moje_konto.__wlasciciel = \"Ja\""
   ],
   "outputs": [],
   "execution_count": 15
  },
  {
   "cell_type": "code",
   "metadata": {
    "ExecuteTime": {
     "end_time": "2025-04-24T16:15:31.346823Z",
     "start_time": "2025-04-24T16:15:31.340879Z"
    }
   },
   "source": [
    "moje_konto.wyswietl_saldo()"
   ],
   "outputs": [
    {
     "data": {
      "text/plain": [
       "'Saldo konta 15750.0. Konto nalezy do  Jakub'"
      ]
     },
     "execution_count": 16,
     "metadata": {},
     "output_type": "execute_result"
    }
   ],
   "execution_count": 16
  },
  {
   "cell_type": "code",
   "metadata": {
    "ExecuteTime": {
     "end_time": "2025-04-24T16:15:34.931943Z",
     "start_time": "2025-04-24T16:15:34.927370Z"
    }
   },
   "source": [
    "moje_konto.get_saldo()"
   ],
   "outputs": [
    {
     "data": {
      "text/plain": [
       "15750.0"
      ]
     },
     "execution_count": 17,
     "metadata": {},
     "output_type": "execute_result"
    }
   ],
   "execution_count": 17
  }
 ],
 "metadata": {
  "kernelspec": {
   "display_name": "base",
   "language": "python",
   "name": "python3"
  },
  "language_info": {
   "codemirror_mode": {
    "name": "ipython",
    "version": 3
   },
   "file_extension": ".py",
   "mimetype": "text/x-python",
   "name": "python",
   "nbconvert_exporter": "python",
   "pygments_lexer": "ipython3",
   "version": "3.12.4"
  }
 },
 "nbformat": 4,
 "nbformat_minor": 2
}
