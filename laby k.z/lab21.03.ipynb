{
 "cells": [
  {
   "cell_type": "markdown",
   "metadata": {},
   "source": [
    "Dziedziczenie,polimorfizm- mozliwosc zaimportowania tej samej metody w roznych klasach, w taki sposob aby robila cos dla klasy ,, sklearn-biblioteka do uczenia maszynowego,\n"
   ]
  },
  {
   "cell_type": "code",
   "execution_count": 86,
   "metadata": {},
   "outputs": [],
   "source": [
    "class Pojazd:\n",
    "    kategoria_prawa_jazdy = None\n",
    "\n",
    "    def __init__(self,marka, model):\n",
    "        self.marka = marka\n",
    "        self.model= model\n",
    "    \n",
    "    def opis(self):\n",
    "        return f\"Pojazd marki {self.marka}  model: {self.model} \"\n",
    "class Samochod(Pojazd):\n",
    "    kategoria_prawa_jazdy = 'B'\n",
    "\n",
    "    def __init__(self, marka, model, segment):\n",
    "        super().__init__(marka,model)\n",
    "\n",
    "        self.segment = segment\n",
    "\n",
    "    def opis(self):\n",
    "        return f\"Samochod marki {self.marka} {self.model}, Typ nadwozia: {self.segment} {self.kategoria_prawa_jazdy}\"\n",
    "    \n",
    "class Motocykl(Pojazd):\n",
    "    kategoria_prawa_jazdy = \"A\""
   ]
  },
  {
   "cell_type": "code",
   "execution_count": 87,
   "metadata": {},
   "outputs": [
    {
     "data": {
      "text/plain": [
       "'Samochod marki Polonez XD, Typ nadwozia: Sedan B'"
      ]
     },
     "execution_count": 87,
     "metadata": {},
     "output_type": "execute_result"
    }
   ],
   "source": [
    "p = Samochod(\"Polonez\", \"XD\",\"Sedan\")\n",
    "p.opis()"
   ]
  },
  {
   "cell_type": "code",
   "execution_count": 31,
   "metadata": {},
   "outputs": [
    {
     "data": {
      "text/plain": [
       "'Pojazd marki Yamaha  model: MT 07'"
      ]
     },
     "execution_count": 31,
     "metadata": {},
     "output_type": "execute_result"
    }
   ],
   "source": [
    "m = Motocykl(\"Yamaha\", \"MT 07\")\n",
    "m.opis()"
   ]
  },
  {
   "cell_type": "code",
   "execution_count": 10,
   "metadata": {},
   "outputs": [
    {
     "data": {
      "text/plain": [
       "'B'"
      ]
     },
     "execution_count": 10,
     "metadata": {},
     "output_type": "execute_result"
    }
   ],
   "source": [
    "p.kategoria_prawa_jazdy\n"
   ]
  },
  {
   "cell_type": "markdown",
   "metadata": {},
   "source": [
    "Przykład poliformizmu"
   ]
  },
  {
   "cell_type": "code",
   "execution_count": 34,
   "metadata": {},
   "outputs": [],
   "source": [
    "def przedstawPojazd( pojazd : Pojazd):\n",
    "    print(pojazd.opis())"
   ]
  },
  {
   "cell_type": "code",
   "execution_count": 35,
   "metadata": {},
   "outputs": [
    {
     "name": "stdout",
     "output_type": "stream",
     "text": [
      "Samochod marki Polonez XD, Typ nadwozia: Sedan\n",
      "Pojazd marki Yamaha  model: MT 07\n"
     ]
    }
   ],
   "source": [
    "przedstawPojazd(p)\n",
    "przedstawPojazd(m)"
   ]
  },
  {
   "cell_type": "markdown",
   "metadata": {},
   "source": [
    "#Garaż\n",
    "Utworz klase garazu: \n",
    "-ktora ma jedno pole 'pojazdy', bedace lista pojazdow w garazu\n",
    "-ma metode dodaj pojazd\n",
    "- ma metode przedstaw pojazd"
   ]
  },
  {
   "cell_type": "code",
   "execution_count": 76,
   "metadata": {},
   "outputs": [
    {
     "name": "stdout",
     "output_type": "stream",
     "text": [
      "Pojazd marki Audi  model: B5\n",
      "Pojazd marki Yamaha  model: MT 07\n"
     ]
    }
   ],
   "source": [
    "class Garaz: \n",
    "    def __init__(self):\n",
    "        self.__pojazdy = []\n",
    "    def dodaj_pojazd(self, pojazd : Pojazd):\n",
    "        self.__pojazdy.append(pojazd)\n",
    "        \n",
    "    def przedstawPojazd(self):\n",
    "        for p in self.__pojazdy:\n",
    "            print(p.opis())\n",
    "moj_garaz= Garaz()\n",
    "moj_garaz.dodaj_pojazd(Pojazd(\"Audi\",\"B5\",\"Liftback\"))\n",
    "moj_garaz.dodaj_pojazd(m)\n",
    "\n",
    "\n",
    "moj_garaz.przedstawPojazd()\n",
    " \n",
    "    \n",
    " \n",
    "   \n"
   ]
  },
  {
   "cell_type": "markdown",
   "metadata": {},
   "source": [
    "Kompozycja"
   ]
  },
  {
   "cell_type": "code",
   "execution_count": 1,
   "metadata": {},
   "outputs": [],
   "source": [
    "class Silnik:\n",
    "    def __init__(self,pojemnosc,moc):\n",
    "        self.pojemnosc = pojemnosc\n",
    "        self.moc = moc\n",
    "    def opis(self):\n",
    "        return f\" Pojemnosc:{self.pojemnosc}, moc:{self.moc}\"\n",
    "\n",
    "\n",
    "\n",
    "\n",
    "class Pojazd:\n",
    "    kategoria_prawa_jazdy = None\n",
    "\n",
    "    def __init__(self,marka, model,silnik):\n",
    "        self.marka = marka\n",
    "        self.model= model\n",
    "        self.silnik = silnik\n",
    "    \n",
    "    def opis(self):\n",
    "        return f\"Pojazd marki {self.marka}  model: {self.model}\"\n",
    "class Samochod(Pojazd):\n",
    "    kategoria_prawa_jazdy = 'B'\n",
    "\n",
    "    def __init__(self, marka, model, silnik,  segment):\n",
    "        super().__init__(marka,model,silnik)\n",
    "\n",
    "        self.segment = segment\n",
    "\n",
    "    def opis(self):\n",
    "        return f\"Samochod marki {self.marka} {self.model}, Typ nadwozia: {self.segment}\"\n",
    "    \n",
    "class Motocykl(Pojazd):\n",
    "    kategoria_prawa_jazdy = \"A\""
   ]
  },
  {
   "cell_type": "code",
   "execution_count": 14,
   "metadata": {},
   "outputs": [
    {
     "data": {
      "text/plain": [
       "'Samochod marki Audi a5, Typ nadwozia: Liftback'"
      ]
     },
     "execution_count": 14,
     "metadata": {},
     "output_type": "execute_result"
    }
   ],
   "source": [
    "s = Samochod(\"Audi\",\"a5\",Silnik(2000,200),\"Liftback\")\n",
    "s.opis()"
   ]
  },
  {
   "cell_type": "code",
   "execution_count": 84,
   "metadata": {},
   "outputs": [
    {
     "data": {
      "text/plain": [
       "' Pojemnosc:2000, moc:200'"
      ]
     },
     "execution_count": 84,
     "metadata": {},
     "output_type": "execute_result"
    }
   ],
   "source": [
    "s.silnik.opis()"
   ]
  },
  {
   "cell_type": "markdown",
   "metadata": {},
   "source": [
    "Pola: gatunek, metody : czy_ma_kregoslup\n",
    "opis\n",
    "przemieszczanie - zwraca nam string czy chodzi czy lata\n",
    "Zwierzęta to klasa głowna, potem są dwie klasy kręgowce i bezkręgowce w kręgowcach są ssaki i ptaki a w bezkręgowcach pierścienice. Pola będą takie \"gatunek\" metody \"czy_ma_kręgosłup\" \"opis()\" \"przemieszczanie()\""
   ]
  },
  {
   "cell_type": "code",
   "execution_count": 8,
   "metadata": {},
   "outputs": [],
   "source": [
    "class Zwierzeta:\n",
    "    przemieszczanie = None\n",
    "\n",
    "    def __init__(self,gatunek):\n",
    "        self.gatunek = gatunek\n",
    "    def czy_ma_kregoslup(self):\n",
    "        return None\n",
    "    def opis(self):\n",
    "        return f\"To zwierze jest gatunku : {self.gatunek}\"\n",
    "class Kregowce(Zwierzeta):\n",
    "    \n",
    "    def czy_ma_kregoslup(self):\n",
    "        return True\n",
    "class Bezkregowce(Zwierzeta):\n",
    "    def czy_ma_kregoslup(self):\n",
    "        return False\n",
    "class Ssaki(Kregowce):\n",
    "    przemieszczanie = \"Chodzi\"\n",
    "    def opis(self):\n",
    "        return f\"To zwierze jest gatunku : {self.gatunek}, i {self.przemieszczanie}\"\n",
    "class Ptaki(Kregowce):\n",
    "    przemieszczanie = \"Lata\"\n",
    "    def opis(self):\n",
    "        return f\"To zwierze jest gatunku : {self.gatunek}, i {self.przemieszczanie}\"\n",
    "class Pierscienice(Bezkregowce):\n",
    "    przemieszczanie = \"pełza\"\n",
    "    def opis(self):\n",
    "        return f\"To zwierze jest gatunku : {self.gatunek}, i {self.przemieszczanie}\"\n",
    "class Owady(Bezkregowce):\n",
    "    przemieszczanie = \"Lata\"\n",
    "    def opis(self):\n",
    "        return f\"To zwierze jest gatunku : {self.gatunek}, i {self.przemieszczanie}\"\n",
    "\n",
    "\n",
    "    \n"
   ]
  },
  {
   "cell_type": "code",
   "execution_count": 13,
   "metadata": {},
   "outputs": [
    {
     "data": {
      "text/plain": [
       "'To zwierze jest gatunku : Mucha'"
      ]
     },
     "execution_count": 13,
     "metadata": {},
     "output_type": "execute_result"
    }
   ],
   "source": [
    "Zwierze=Zwierzeta(\"Mucha\")\n",
    "Zwierze.opis()\n"
   ]
  },
  {
   "cell_type": "code",
   "execution_count": null,
   "metadata": {},
   "outputs": [],
   "source": []
  }
 ],
 "metadata": {
  "kernelspec": {
   "display_name": "base",
   "language": "python",
   "name": "python3"
  },
  "language_info": {
   "codemirror_mode": {
    "name": "ipython",
    "version": 3
   },
   "file_extension": ".py",
   "mimetype": "text/x-python",
   "name": "python",
   "nbconvert_exporter": "python",
   "pygments_lexer": "ipython3",
   "version": "3.12.4"
  }
 },
 "nbformat": 4,
 "nbformat_minor": 2
}
