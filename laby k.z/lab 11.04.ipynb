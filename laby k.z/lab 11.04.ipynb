{
 "cells": [
  {
   "cell_type": "markdown",
   "metadata": {},
   "source": [
    "Złożonosć algorytmów i ich analiza, w praktryce mamy do czynienia z przxetwarzaniem sporej ilosci danych. Od tego jak je przetwarzamy zalezy od tego jak szybko dostaniemy wynik\n"
   ]
  },
  {
   "cell_type": "code",
   "metadata": {
    "ExecuteTime": {
     "end_time": "2025-04-24T17:28:20.519867Z",
     "start_time": "2025-04-24T17:28:20.508198Z"
    }
   },
   "source": [
    "import pandas as pd\n",
    "import numpy as np\n",
    "import math\n",
    "\n",
    "\n",
    "\n",
    "n_values = np.arange(10,101,10)\n",
    "\n",
    "\n",
    "data = {\n",
    "    '1': np.ones_like(n_values),\n",
    "    'n': n_values,\n",
    "    'log(n)': np.log(n_values),\n",
    "    'n^2': n_values ** 2,\n",
    "    'n^3': n_values ** 3,\n",
    "    '2^n': np.power(2,n_values),\n",
    "    'n!' : [math.factorial(n) for n in n_values]\n",
    "    }\n",
    "\n",
    "\n",
    "df = pd.DataFrame(data)\n",
    "\n",
    "df\n"
   ],
   "outputs": [
    {
     "data": {
      "text/plain": [
       "   1    n    log(n)    n^2      n^3                  2^n  \\\n",
       "0  1   10  2.302585    100     1000                 1024   \n",
       "1  1   20  2.995732    400     8000              1048576   \n",
       "2  1   30  3.401197    900    27000           1073741824   \n",
       "3  1   40  3.688879   1600    64000        1099511627776   \n",
       "4  1   50  3.912023   2500   125000     1125899906842624   \n",
       "5  1   60  4.094345   3600   216000  1152921504606846976   \n",
       "6  1   70  4.248495   4900   343000                    0   \n",
       "7  1   80  4.382027   6400   512000                    0   \n",
       "8  1   90  4.499810   8100   729000                    0   \n",
       "9  1  100  4.605170  10000  1000000                    0   \n",
       "\n",
       "                                                  n!  \n",
       "0                                            3628800  \n",
       "1                                2432902008176640000  \n",
       "2                  265252859812191058636308480000000  \n",
       "3   815915283247897734345611269596115894272000000000  \n",
       "4  3041409320171337804361260816606476884437764156...  \n",
       "5  8320987112741390144276341183223364380754172606...  \n",
       "6  1197857166996989179607278372168909873645893814...  \n",
       "7  7156945704626380229481153372318653216558465734...  \n",
       "8  1485715964481761497309522733620825737885569961...  \n",
       "9  9332621544394415268169923885626670049071596826...  "
      ],
      "text/html": [
       "<div>\n",
       "<style scoped>\n",
       "    .dataframe tbody tr th:only-of-type {\n",
       "        vertical-align: middle;\n",
       "    }\n",
       "\n",
       "    .dataframe tbody tr th {\n",
       "        vertical-align: top;\n",
       "    }\n",
       "\n",
       "    .dataframe thead th {\n",
       "        text-align: right;\n",
       "    }\n",
       "</style>\n",
       "<table border=\"1\" class=\"dataframe\">\n",
       "  <thead>\n",
       "    <tr style=\"text-align: right;\">\n",
       "      <th></th>\n",
       "      <th>1</th>\n",
       "      <th>n</th>\n",
       "      <th>log(n)</th>\n",
       "      <th>n^2</th>\n",
       "      <th>n^3</th>\n",
       "      <th>2^n</th>\n",
       "      <th>n!</th>\n",
       "    </tr>\n",
       "  </thead>\n",
       "  <tbody>\n",
       "    <tr>\n",
       "      <th>0</th>\n",
       "      <td>1</td>\n",
       "      <td>10</td>\n",
       "      <td>2.302585</td>\n",
       "      <td>100</td>\n",
       "      <td>1000</td>\n",
       "      <td>1024</td>\n",
       "      <td>3628800</td>\n",
       "    </tr>\n",
       "    <tr>\n",
       "      <th>1</th>\n",
       "      <td>1</td>\n",
       "      <td>20</td>\n",
       "      <td>2.995732</td>\n",
       "      <td>400</td>\n",
       "      <td>8000</td>\n",
       "      <td>1048576</td>\n",
       "      <td>2432902008176640000</td>\n",
       "    </tr>\n",
       "    <tr>\n",
       "      <th>2</th>\n",
       "      <td>1</td>\n",
       "      <td>30</td>\n",
       "      <td>3.401197</td>\n",
       "      <td>900</td>\n",
       "      <td>27000</td>\n",
       "      <td>1073741824</td>\n",
       "      <td>265252859812191058636308480000000</td>\n",
       "    </tr>\n",
       "    <tr>\n",
       "      <th>3</th>\n",
       "      <td>1</td>\n",
       "      <td>40</td>\n",
       "      <td>3.688879</td>\n",
       "      <td>1600</td>\n",
       "      <td>64000</td>\n",
       "      <td>1099511627776</td>\n",
       "      <td>815915283247897734345611269596115894272000000000</td>\n",
       "    </tr>\n",
       "    <tr>\n",
       "      <th>4</th>\n",
       "      <td>1</td>\n",
       "      <td>50</td>\n",
       "      <td>3.912023</td>\n",
       "      <td>2500</td>\n",
       "      <td>125000</td>\n",
       "      <td>1125899906842624</td>\n",
       "      <td>3041409320171337804361260816606476884437764156...</td>\n",
       "    </tr>\n",
       "    <tr>\n",
       "      <th>5</th>\n",
       "      <td>1</td>\n",
       "      <td>60</td>\n",
       "      <td>4.094345</td>\n",
       "      <td>3600</td>\n",
       "      <td>216000</td>\n",
       "      <td>1152921504606846976</td>\n",
       "      <td>8320987112741390144276341183223364380754172606...</td>\n",
       "    </tr>\n",
       "    <tr>\n",
       "      <th>6</th>\n",
       "      <td>1</td>\n",
       "      <td>70</td>\n",
       "      <td>4.248495</td>\n",
       "      <td>4900</td>\n",
       "      <td>343000</td>\n",
       "      <td>0</td>\n",
       "      <td>1197857166996989179607278372168909873645893814...</td>\n",
       "    </tr>\n",
       "    <tr>\n",
       "      <th>7</th>\n",
       "      <td>1</td>\n",
       "      <td>80</td>\n",
       "      <td>4.382027</td>\n",
       "      <td>6400</td>\n",
       "      <td>512000</td>\n",
       "      <td>0</td>\n",
       "      <td>7156945704626380229481153372318653216558465734...</td>\n",
       "    </tr>\n",
       "    <tr>\n",
       "      <th>8</th>\n",
       "      <td>1</td>\n",
       "      <td>90</td>\n",
       "      <td>4.499810</td>\n",
       "      <td>8100</td>\n",
       "      <td>729000</td>\n",
       "      <td>0</td>\n",
       "      <td>1485715964481761497309522733620825737885569961...</td>\n",
       "    </tr>\n",
       "    <tr>\n",
       "      <th>9</th>\n",
       "      <td>1</td>\n",
       "      <td>100</td>\n",
       "      <td>4.605170</td>\n",
       "      <td>10000</td>\n",
       "      <td>1000000</td>\n",
       "      <td>0</td>\n",
       "      <td>9332621544394415268169923885626670049071596826...</td>\n",
       "    </tr>\n",
       "  </tbody>\n",
       "</table>\n",
       "</div>"
      ]
     },
     "execution_count": 18,
     "metadata": {},
     "output_type": "execute_result"
    }
   ],
   "execution_count": 18
  },
  {
   "cell_type": "markdown",
   "metadata": {},
   "source": [
    "Ocena stopnia złożonośći algorytmu"
   ]
  },
  {
   "cell_type": "code",
   "metadata": {
    "ExecuteTime": {
     "end_time": "2025-04-24T17:28:20.651452Z",
     "start_time": "2025-04-24T17:28:20.645740Z"
    }
   },
   "source": [
    "def silnia(n):\n",
    "    if n ==0:\n",
    "        return 1\n",
    "    else:\n",
    "        return n * silnia(n-1)\n",
    "silnia(5)"
   ],
   "outputs": [
    {
     "data": {
      "text/plain": [
       "120"
      ]
     },
     "execution_count": 19,
     "metadata": {},
     "output_type": "execute_result"
    }
   ],
   "execution_count": 19
  },
  {
   "cell_type": "markdown",
   "metadata": {},
   "source": [
    "notacja- O(wyraz ktory jest najwiekszy) np O(logn), O(n^2) itd\n",
    "O(f(n)) * O(g(n)) = O(f(n)*g(n))\n",
    "nApisz funkcje czy podana liczba znajduje sie w podanej liscie , \n",
    "\n",
    "\n"
   ]
  },
  {
   "cell_type": "code",
   "metadata": {
    "ExecuteTime": {
     "end_time": "2025-04-24T17:28:20.761368Z",
     "start_time": "2025-04-24T17:28:20.755617Z"
    }
   },
   "source": [
    "\n",
    "def szukaj(lista,target):\n",
    "    for i in range(len(lista)):\n",
    "        if lista[i] == target:\n",
    "            return i\n",
    "        \n",
    "    return -1\n",
    "        \n",
    "lista = [0,1,3,4,12,14,16]\n",
    "target = 16\n",
    "szukaj(lista,target)"
   ],
   "outputs": [
    {
     "data": {
      "text/plain": [
       "6"
      ]
     },
     "execution_count": 20,
     "metadata": {},
     "output_type": "execute_result"
    }
   ],
   "execution_count": 20
  },
  {
   "cell_type": "markdown",
   "metadata": {},
   "source": [
    "jak widzimy petle to komponent n\n",
    "petla w petli : 0(n^2)"
   ]
  },
  {
   "cell_type": "code",
   "metadata": {
    "ExecuteTime": {
     "end_time": "2025-04-24T17:28:20.839866Z",
     "start_time": "2025-04-24T17:28:20.835168Z"
    }
   },
   "source": [
    "#przeszukiwanuie binarne\n",
    "def recursive_binary_search(arr,target,left, right):\n",
    "\n",
    "    if left > right:\n",
    "        return -1\n",
    "    \n",
    "    mid = (left + right) // 2\n",
    "    if arr[mid] == target:\n",
    "        return mid\n",
    "    elif arr[mid] < target:\n",
    "        return recursive_binary_search(arr, target, mid+1, target)\n",
    "    else:\n",
    "        return recursive_binary_search(arr,target, left, mid -1)\n",
    "\n"
   ],
   "outputs": [],
   "execution_count": 21
  },
  {
   "cell_type": "code",
   "metadata": {
    "ExecuteTime": {
     "end_time": "2025-04-24T17:28:20.942510Z",
     "start_time": "2025-04-24T17:28:20.886933Z"
    }
   },
   "source": [
    "tablica = [i for i in range(1,1000000)]"
   ],
   "outputs": [],
   "execution_count": 22
  },
  {
   "cell_type": "code",
   "metadata": {
    "ExecuteTime": {
     "end_time": "2025-04-24T17:28:20.967825Z",
     "start_time": "2025-04-24T17:28:20.961711Z"
    }
   },
   "source": [
    "recursive_binary_search(tablica,3,0,9)"
   ],
   "outputs": [
    {
     "data": {
      "text/plain": [
       "2"
      ]
     },
     "execution_count": 23,
     "metadata": {},
     "output_type": "execute_result"
    }
   ],
   "execution_count": 23
  },
  {
   "cell_type": "code",
   "metadata": {
    "ExecuteTime": {
     "end_time": "2025-04-24T17:28:21.000161Z",
     "start_time": "2025-04-24T17:28:20.992193Z"
    }
   },
   "source": [
    "\n",
    "def binary_search(zbior, s): # zbiór - uporządkowany zbiór liczb, s - wartość szukana\n",
    "    l = 0 # indeks pierwszego elementu w zbiorze\n",
    "    p = len(zbior) - 1 # indeks ostatniego elementu w zbiorze\n",
    "    while l <= p:\n",
    "        sr = (l + p)//2 # wyznaczamy indeks środkowego elementu zbioru\n",
    "        if s == zbior[sr]: # jeśli znaleźliśmy szukaną wartość\n",
    "            return sr\n",
    "        if s < zbior[sr]: # jeśli szukana wartość jest mniejsza od elementu środkowego\n",
    "            p = sr - 1 # to ograniczamy przeszukiwanie do zbioru dla indeksów z przedziału [l, sr - 1]\n",
    "        else: # w przeciwnym razie\n",
    "            l = sr + 1 # ograniczamy przeszukiwanie do zbioru dla indeksów z przedziału [sr + 1, p]\n",
    "    return -1 # jeśli nie znaleziono szukanej wartości\n",
    "\n",
    "\n",
    "zbior = [1, 2, 5, 7, 9, 12, 14, 19] # uporządkowany zbiór liczb\n",
    "s = 9\n",
    "if binary_search(zbior, s) == -1:\n",
    "    print(\"nie znaleziono liczby\", s)\n",
    "else:\n",
    "    print(\"Liczba\", s, \"znajduje się pod indeksem\", binary_search(zbior, s))"
   ],
   "outputs": [
    {
     "name": "stdout",
     "output_type": "stream",
     "text": [
      "Liczba 9 znajduje się pod indeksem 4\n"
     ]
    }
   ],
   "execution_count": 24
  },
  {
   "cell_type": "code",
   "metadata": {
    "ExecuteTime": {
     "end_time": "2025-04-24T17:28:21.109109Z",
     "start_time": "2025-04-24T17:28:21.046692Z"
    }
   },
   "source": [
    "from time import time\n",
    "szukana = 23123\n",
    "t1= time()\n",
    "np.searchsorted(tablica,szukana)\n",
    "t2 = time()\n",
    "print(f\"Zajeło to: {t2-t1}\")"
   ],
   "outputs": [
    {
     "name": "stdout",
     "output_type": "stream",
     "text": [
      "Zajeło to: 0.05737042427062988\n"
     ]
    }
   ],
   "execution_count": 25
  },
  {
   "cell_type": "code",
   "metadata": {
    "ExecuteTime": {
     "end_time": "2025-04-24T17:28:21.191931Z",
     "start_time": "2025-04-24T17:28:21.131505Z"
    }
   },
   "source": [
    "np.searchsorted(tablica,112)# zbior w numpy do przeszukiwania binarnego"
   ],
   "outputs": [
    {
     "data": {
      "text/plain": [
       "np.int64(111)"
      ]
     },
     "execution_count": 26,
     "metadata": {},
     "output_type": "execute_result"
    }
   ],
   "execution_count": 26
  }
 ],
 "metadata": {
  "kernelspec": {
   "display_name": "base",
   "language": "python",
   "name": "python3"
  },
  "language_info": {
   "codemirror_mode": {
    "name": "ipython",
    "version": 3
   },
   "file_extension": ".py",
   "mimetype": "text/x-python",
   "name": "python",
   "nbconvert_exporter": "python",
   "pygments_lexer": "ipython3",
   "version": "3.12.4"
  }
 },
 "nbformat": 4,
 "nbformat_minor": 2
}
