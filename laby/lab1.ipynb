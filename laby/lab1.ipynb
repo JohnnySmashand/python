{
 "cells": [
  {
   "cell_type": "markdown",
   "metadata": {},
   "source": [
    "System kontroli wersji: Git, GitHub itd.\n",
    "Kontrola wersji:\n",
    "Git, github\n",
    "uzywanie kontorli wersji to zapisywanie checkpointow w kodzie, ma to na celu wspomoc , wrocic do poprzednich checkpointow. W przypadku pracy w grupie jest to pogodzenie tego kto robil dany checkpoint\n",
    "Dwa rodzaje kontroli wersji: \n",
    "-scentralizowane\n",
    "-zdecentralizowane\n",
    "git zalicza sie do zdecentralizowanych, zdecentralizowane: kazdy uytkownik tworzy sobie repozytorium na swoim dysku. Dane moga byc przesylane do glownego repozytorium, i za pomoca jakis tam metod laczy sie to pomiedzy deweloperami\n",
    "nie robimy comitow do glownej galezi(main/master) . Git przypomina galez: sklada sie z elementow takich jak (branch, commit, merge). Najpierw poprzez branch odchodzimy od glownej galezi, commit to to co robimy w kodzie zmieniamy , potem za pomoca merge dolaczamy zmodyfikowany kod do main/master(glownej galezi)\n",
    "github - pozwala na hostowanie repozytoriów w sposob zdalny\n",
    "-pelni role medium spolecznosciowego(taki facebook dla programistow)\n"
   ]
  },
  {
   "cell_type": "code",
   "execution_count": null,
   "metadata": {},
   "outputs": [],
   "source": []
  }
 ],
 "metadata": {
  "language_info": {
   "name": "python"
  }
 },
 "nbformat": 4,
 "nbformat_minor": 2
}
