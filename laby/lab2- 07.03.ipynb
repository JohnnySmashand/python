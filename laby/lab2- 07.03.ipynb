{
 "cells": [
  {
   "cell_type": "code",
   "metadata": {
    "ExecuteTime": {
     "end_time": "2025-04-21T19:42:28.391414Z",
     "start_time": "2025-04-21T19:42:28.386063Z"
    }
   },
   "source": [
    "class Samochod:\n",
    "    def __init__(self,\n",
    "                marka : str,\n",
    "                model: str, \n",
    "                rok: int):\n",
    "        self.marka = marka\n",
    "        self.model = model\n",
    "        self.rok = rok\n",
    "    def opis(self):\n",
    "        return f\"{self.marka} {self.model} z roku {self.rok}\"\n",
    "    def __repr__(self):\n",
    "        return self.opis()\n",
    "    "
   ],
   "outputs": [],
   "execution_count": 17
  },
  {
   "cell_type": "code",
   "metadata": {
    "ExecuteTime": {
     "end_time": "2025-04-21T19:42:28.432090Z",
     "start_time": "2025-04-21T19:42:28.427170Z"
    }
   },
   "source": [
    "moj_samochod = Samochod(\"audi\", \"a3\", \"2010\")"
   ],
   "outputs": [],
   "execution_count": 18
  },
  {
   "cell_type": "code",
   "metadata": {
    "ExecuteTime": {
     "end_time": "2025-04-21T19:42:28.462030Z",
     "start_time": "2025-04-21T19:42:28.456851Z"
    }
   },
   "source": [
    "moj_samochod"
   ],
   "outputs": [
    {
     "data": {
      "text/plain": [
       "audi a3 z roku 2010"
      ]
     },
     "execution_count": 19,
     "metadata": {},
     "output_type": "execute_result"
    }
   ],
   "execution_count": 19
  },
  {
   "cell_type": "code",
   "metadata": {
    "ExecuteTime": {
     "end_time": "2025-04-21T19:42:28.546342Z",
     "start_time": "2025-04-21T19:42:28.542491Z"
    }
   },
   "source": [
    "samochod_kolegi = Samochod(\"Fiat\",\"Uno\", 1990)"
   ],
   "outputs": [],
   "execution_count": 20
  },
  {
   "cell_type": "code",
   "metadata": {
    "ExecuteTime": {
     "end_time": "2025-04-21T19:42:28.583381Z",
     "start_time": "2025-04-21T19:42:28.578317Z"
    }
   },
   "source": [
    "samochod_kolegi"
   ],
   "outputs": [
    {
     "data": {
      "text/plain": [
       "Fiat Uno z roku 1990"
      ]
     },
     "execution_count": 21,
     "metadata": {},
     "output_type": "execute_result"
    }
   ],
   "execution_count": 21
  },
  {
   "cell_type": "markdown",
   "metadata": {},
   "source": [
    "Zadanie1- \n",
    "\n",
    "zdefiniuj klase lampka, ktora zawiera atrybuty:\n",
    "-kolor- dowolnie zdefiniowany \n",
    "-moc lampki w watach\n",
    "-wlaczona- flaga logiczna czy lampka jest wlaczona\n",
    "Metody:\n",
    "- do wlaczania/wylaczania lampki \n",
    "-do zmiany koloru lampki\n",
    "-do wypisania statusu lampki"
   ]
  },
  {
   "cell_type": "code",
   "metadata": {
    "ExecuteTime": {
     "end_time": "2025-04-21T19:42:28.649312Z",
     "start_time": "2025-04-21T19:42:28.642258Z"
    }
   },
   "source": [
    "class Lampka:\n",
    "    def __init__(self,\n",
    "                kolor: str,\n",
    "                moc: int,\n",
    "                on_off: bool):\n",
    "        self.kolor = kolor\n",
    "        self.moc = moc\n",
    "        self.on_off = on_off\n",
    "    def opis(self):\n",
    "        return f\"Lampka ma {self.kolor} kolor, jej moc to {self.moc} W  i jest {self.on_off}\"\n",
    "    def __repr__(self):\n",
    "        return self.opis()\n",
    "    def turn_on_off(self):\n",
    "        if self.on_off == True:\n",
    "            self.on_off = False\n",
    "        else:\n",
    "            self.on_off = True\n",
    "    def zmienKolor(self,nowyKolor):\n",
    "        self.kolor = nowyKolor\n",
    "\n",
    "\n",
    "\n",
    "   \n"
   ],
   "outputs": [],
   "execution_count": 22
  },
  {
   "cell_type": "code",
   "metadata": {
    "ExecuteTime": {
     "end_time": "2025-04-21T19:42:28.714806Z",
     "start_time": "2025-04-21T19:42:28.708186Z"
    }
   },
   "source": [
    "moja_lampka = Lampka(\"zielony\",75,True)\n",
    "moja_lampka"
   ],
   "outputs": [
    {
     "data": {
      "text/plain": [
       "Lampka ma zielony kolor, jej moc to 75 W  i jest True"
      ]
     },
     "execution_count": 23,
     "metadata": {},
     "output_type": "execute_result"
    }
   ],
   "execution_count": 23
  },
  {
   "cell_type": "code",
   "metadata": {
    "ExecuteTime": {
     "end_time": "2025-04-21T19:42:28.851293Z",
     "start_time": "2025-04-21T19:42:28.844926Z"
    }
   },
   "source": [
    "moja_lampka.turn_on_off()\n",
    "moja_lampka"
   ],
   "outputs": [
    {
     "data": {
      "text/plain": [
       "Lampka ma zielony kolor, jej moc to 75 W  i jest False"
      ]
     },
     "execution_count": 24,
     "metadata": {},
     "output_type": "execute_result"
    }
   ],
   "execution_count": 24
  },
  {
   "cell_type": "code",
   "metadata": {
    "ExecuteTime": {
     "end_time": "2025-04-21T19:42:28.949771Z",
     "start_time": "2025-04-21T19:42:28.944287Z"
    }
   },
   "source": [
    "moja_lampka.opis()\n",
    "\n"
   ],
   "outputs": [
    {
     "data": {
      "text/plain": [
       "'Lampka ma zielony kolor, jej moc to 75 W  i jest False'"
      ]
     },
     "execution_count": 25,
     "metadata": {},
     "output_type": "execute_result"
    }
   ],
   "execution_count": 25
  },
  {
   "cell_type": "code",
   "metadata": {
    "ExecuteTime": {
     "end_time": "2025-04-21T19:42:29.058110Z",
     "start_time": "2025-04-21T19:42:29.053456Z"
    }
   },
   "source": [
    "moja_lampka.zmienKolor(nowyKolor= \"niebieski\")\n",
    "moja_lampka"
   ],
   "outputs": [
    {
     "data": {
      "text/plain": [
       "Lampka ma niebieski kolor, jej moc to 75 W  i jest False"
      ]
     },
     "execution_count": 26,
     "metadata": {},
     "output_type": "execute_result"
    }
   ],
   "execution_count": 26
  },
  {
   "cell_type": "markdown",
   "metadata": {},
   "source": [
    "Atrybuty klasy:\n",
    "dwa podkreslniki przed zmienna oznaczaja ze jest to zmienna prywatna"
   ]
  },
  {
   "cell_type": "code",
   "metadata": {
    "ExecuteTime": {
     "end_time": "2025-04-21T19:42:29.157581Z",
     "start_time": "2025-04-21T19:42:29.150679Z"
    }
   },
   "source": [
    "class KontoBankowe:\n",
    "\n",
    "    oprocentowanie = 0.05 # atrybut klasy\n",
    "    \n",
    "    def __init__(self, wlasciciel , saldo_poczatkowe):\n",
    "        self.__wlasciciel = wlasciciel\n",
    "        self.__saldo = saldo_poczatkowe\n",
    "    def wplata(self,kwota):\n",
    "        self.__saldo +=kwota\n",
    "    def wyplata(self,kwota):\n",
    "        if kwota <= self.__saldo:\n",
    "            self.__saldo -=kwota\n",
    "        else:\n",
    "            raise ValueError(f\"Za mało pieniędzy na koncie.\")\n",
    "    def nalicz_odsetki(self):\n",
    "        self.__saldo += self.oprocentowanie * self.__saldo\n",
    "    def wyswietl_saldo(self):\n",
    "        return f\"Saldo konta {self.__saldo}. Konto nalezy do  {self.__wlasciciel}\"\n",
    "    \n",
    "    def get_saldo(self):\n",
    "        return self.__saldo"
   ],
   "outputs": [],
   "execution_count": 27
  },
  {
   "cell_type": "code",
   "metadata": {
    "ExecuteTime": {
     "end_time": "2025-04-21T19:42:29.212319Z",
     "start_time": "2025-04-21T19:42:29.207071Z"
    }
   },
   "source": [
    "moje_konto = KontoBankowe(\"Jakub\", 10000)\n",
    "moje_konto.wplata(10000)\n",
    "moje_konto.wyplata(5000)\n",
    "moje_konto.nalicz_odsetki()\n",
    "moje_konto.wyswietl_saldo()"
   ],
   "outputs": [
    {
     "data": {
      "text/plain": [
       "'Saldo konta 15750.0. Konto nalezy do  Jakub'"
      ]
     },
     "execution_count": 28,
     "metadata": {},
     "output_type": "execute_result"
    }
   ],
   "execution_count": 28
  },
  {
   "cell_type": "code",
   "metadata": {
    "ExecuteTime": {
     "end_time": "2025-04-21T19:42:29.287068Z",
     "start_time": "2025-04-21T19:42:29.282900Z"
    }
   },
   "source": [
    "moje_konto.__wlasciciel = \"Ja\""
   ],
   "outputs": [],
   "execution_count": 29
  },
  {
   "cell_type": "code",
   "metadata": {
    "ExecuteTime": {
     "end_time": "2025-04-21T19:42:29.331706Z",
     "start_time": "2025-04-21T19:42:29.326738Z"
    }
   },
   "source": [
    "moje_konto.wyswietl_saldo()"
   ],
   "outputs": [
    {
     "data": {
      "text/plain": [
       "'Saldo konta 15750.0. Konto nalezy do  Jakub'"
      ]
     },
     "execution_count": 30,
     "metadata": {},
     "output_type": "execute_result"
    }
   ],
   "execution_count": 30
  },
  {
   "cell_type": "code",
   "metadata": {
    "ExecuteTime": {
     "end_time": "2025-04-21T19:42:29.404468Z",
     "start_time": "2025-04-21T19:42:29.399063Z"
    }
   },
   "source": [
    "moje_konto.get_saldo()"
   ],
   "outputs": [
    {
     "data": {
      "text/plain": [
       "15750.0"
      ]
     },
     "execution_count": 31,
     "metadata": {},
     "output_type": "execute_result"
    }
   ],
   "execution_count": 31
  }
 ],
 "metadata": {
  "kernelspec": {
   "display_name": "base",
   "language": "python",
   "name": "python3"
  },
  "language_info": {
   "codemirror_mode": {
    "name": "ipython",
    "version": 3
   },
   "file_extension": ".py",
   "mimetype": "text/x-python",
   "name": "python",
   "nbconvert_exporter": "python",
   "pygments_lexer": "ipython3",
   "version": "3.12.4"
  }
 },
 "nbformat": 4,
 "nbformat_minor": 2
}
