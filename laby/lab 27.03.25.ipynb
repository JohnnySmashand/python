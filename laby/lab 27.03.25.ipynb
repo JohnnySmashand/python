{
 "cells": [
  {
   "cell_type": "markdown",
   "metadata": {},
   "source": [
    "Dzis robimy overloading\n"
   ]
  },
  {
   "cell_type": "code",
   "metadata": {
    "ExecuteTime": {
     "end_time": "2025-04-21T19:44:11.720011Z",
     "start_time": "2025-04-21T19:44:11.716102Z"
    }
   },
   "source": [
    "a = 5\n",
    "b= 10\n"
   ],
   "outputs": [],
   "execution_count": 14
  },
  {
   "cell_type": "code",
   "metadata": {
    "ExecuteTime": {
     "end_time": "2025-04-21T19:44:11.740007Z",
     "start_time": "2025-04-21T19:44:11.735020Z"
    }
   },
   "source": [
    "type(a)"
   ],
   "outputs": [
    {
     "data": {
      "text/plain": [
       "int"
      ]
     },
     "execution_count": 15,
     "metadata": {},
     "output_type": "execute_result"
    }
   ],
   "execution_count": 15
  },
  {
   "cell_type": "code",
   "metadata": {
    "ExecuteTime": {
     "end_time": "2025-04-21T19:44:11.770152Z",
     "start_time": "2025-04-21T19:44:11.765310Z"
    }
   },
   "source": [
    "a+b"
   ],
   "outputs": [
    {
     "data": {
      "text/plain": [
       "15"
      ]
     },
     "execution_count": 16,
     "metadata": {},
     "output_type": "execute_result"
    }
   ],
   "execution_count": 16
  },
  {
   "cell_type": "markdown",
   "metadata": {},
   "source": [
    "a+b == a.__add__(b)\n",
    "Operatory to nic innego jak funkcja\n"
   ]
  },
  {
   "cell_type": "code",
   "metadata": {
    "ExecuteTime": {
     "end_time": "2025-04-21T19:44:11.805225Z",
     "start_time": "2025-04-21T19:44:11.800339Z"
    }
   },
   "source": [
    "a.__add__(b)"
   ],
   "outputs": [
    {
     "data": {
      "text/plain": [
       "15"
      ]
     },
     "execution_count": 17,
     "metadata": {},
     "output_type": "execute_result"
    }
   ],
   "execution_count": 17
  },
  {
   "cell_type": "code",
   "metadata": {
    "ExecuteTime": {
     "end_time": "2025-04-21T19:44:11.839396Z",
     "start_time": "2025-04-21T19:44:11.834770Z"
    }
   },
   "source": [
    "l1=[1,2,3]\n",
    "l2=[3,4,5]"
   ],
   "outputs": [],
   "execution_count": 18
  },
  {
   "cell_type": "code",
   "metadata": {
    "ExecuteTime": {
     "end_time": "2025-04-21T19:44:11.868951Z",
     "start_time": "2025-04-21T19:44:11.863337Z"
    }
   },
   "source": [
    "l1+l2"
   ],
   "outputs": [
    {
     "data": {
      "text/plain": [
       "[1, 2, 3, 3, 4, 5]"
      ]
     },
     "execution_count": 19,
     "metadata": {},
     "output_type": "execute_result"
    }
   ],
   "execution_count": 19
  },
  {
   "cell_type": "code",
   "metadata": {
    "ExecuteTime": {
     "end_time": "2025-04-21T19:44:11.919739Z",
     "start_time": "2025-04-21T19:44:11.914088Z"
    }
   },
   "source": [
    "import numpy as np\n",
    "a1= np.array(l1)\n",
    "a2= np.array(l2)\n",
    "\n",
    "a1+a2"
   ],
   "outputs": [
    {
     "data": {
      "text/plain": [
       "array([4, 6, 8])"
      ]
     },
     "execution_count": 20,
     "metadata": {},
     "output_type": "execute_result"
    }
   ],
   "execution_count": 20
  },
  {
   "cell_type": "markdown",
   "metadata": {},
   "source": [
    "#przykład"
   ]
  },
  {
   "cell_type": "code",
   "metadata": {
    "ExecuteTime": {
     "end_time": "2025-04-21T19:44:11.959099Z",
     "start_time": "2025-04-21T19:44:11.951666Z"
    }
   },
   "source": [
    "\n",
    "import numpy as np\n",
    "class Vector2D:\n",
    "\n",
    "    def __init__(self, x, y):   \n",
    "        self.v= np.array([x,y])\n",
    "\n",
    "    def __repr__(self):#wyswietlenie w sposob opisowy\n",
    "        \n",
    "        return f\"Vector 2D ({self.v[0], self.v[1]})\"\n",
    "        \n",
    "    def __add__(self, v2):#dodwanie wektorow\n",
    "\n",
    "        if not isinstance(v2, Vector2D):\n",
    "            raise NotImplementedError(\"Brak implementacji\")\n",
    "        \n",
    "        v_new = Vector2D(self.v[0]+v2.v[0],#wspolrzene x\n",
    "                         self.v[1]+v2.v[1])#wspolrzedne y\n",
    "        \n",
    "        return v_new\n",
    "    def __sub__(self, v2):#odejmowanie wektorów \n",
    "        v_new = Vector2D(self.v[0] - v2.v[0],#wspolrzene x\n",
    "                         self.v[1] - v2.v[1])#wspolrzedne y\n",
    "        \n",
    "\n",
    "        return v_new\n",
    "\n",
    "    def __mul__(self, b):#mnozenie\n",
    "\n",
    "        #mnozenie przez skalar\n",
    "        if isinstance(b,(int,float)):\n",
    "            return Vector2D(self.v[0] * b,\n",
    "                            self.v[1] * b)\n",
    "         #iloczyn skalarny\n",
    "        if isinstance(b,Vector2D):\n",
    "            return self.v[0] * b.v[0] + self.v[1] * b.v[1]\n",
    "\n",
    "        return None\n",
    "       \n",
    "    \n",
    "\n",
    "\n",
    "    def __rmul__(self, b):\n",
    "\n",
    "         return self * b\n",
    "\n",
    "        "
   ],
   "outputs": [],
   "execution_count": 21
  },
  {
   "cell_type": "code",
   "metadata": {
    "ExecuteTime": {
     "end_time": "2025-04-21T19:44:11.986618Z",
     "start_time": "2025-04-21T19:44:11.982294Z"
    }
   },
   "source": [
    "v1= Vector2D(2,3)\n",
    "v2=Vector2D(4,5)\n",
    "v3=Vector2D(1,5)"
   ],
   "outputs": [],
   "execution_count": 22
  },
  {
   "cell_type": "code",
   "metadata": {
    "ExecuteTime": {
     "end_time": "2025-04-21T19:44:12.011737Z",
     "start_time": "2025-04-21T19:44:12.006280Z"
    }
   },
   "source": [
    "v1 - v2 + v3"
   ],
   "outputs": [
    {
     "data": {
      "text/plain": [
       "Vector 2D ((np.int64(-1), np.int64(3)))"
      ]
     },
     "execution_count": 23,
     "metadata": {},
     "output_type": "execute_result"
    }
   ],
   "execution_count": 23
  },
  {
   "cell_type": "code",
   "metadata": {
    "ExecuteTime": {
     "end_time": "2025-04-21T19:44:12.052503Z",
     "start_time": "2025-04-21T19:44:12.046141Z"
    }
   },
   "source": [
    "v1 * v2"
   ],
   "outputs": [
    {
     "data": {
      "text/plain": [
       "np.int64(23)"
      ]
     },
     "execution_count": 24,
     "metadata": {},
     "output_type": "execute_result"
    }
   ],
   "execution_count": 24
  },
  {
   "cell_type": "code",
   "metadata": {
    "ExecuteTime": {
     "end_time": "2025-04-21T19:44:12.109289Z",
     "start_time": "2025-04-21T19:44:12.103737Z"
    }
   },
   "source": [
    "5* v1"
   ],
   "outputs": [
    {
     "data": {
      "text/plain": [
       "Vector 2D ((np.int64(10), np.int64(15)))"
      ]
     },
     "execution_count": 25,
     "metadata": {},
     "output_type": "execute_result"
    }
   ],
   "execution_count": 25
  },
  {
   "cell_type": "markdown",
   "metadata": {},
   "source": [
    "zrobic tak dla liczb zespolonych\n",
    "dodawanie,odejmowanie, mnozenie, modul\n",
    "1. Zaimplementuj klase reprezentujaca liczby zespolone\n",
    "2. zaimplementuj dodawania, odejmowanie, mnozenie liczb zespolonych, \n",
    "3. zaimplementuj modul liczby zespolonej\n",
    "4. zaimplementoj  porownywanie liczb zepolonych . Porowwanie interpretujemy jako porownanie modulow\n",
    "5. zaimplementuj konwersje liczby zespolonej do stringa\n"
   ]
  },
  {
   "cell_type": "code",
   "metadata": {
    "ExecuteTime": {
     "end_time": "2025-04-21T19:44:12.163855Z",
     "start_time": "2025-04-21T19:44:12.157420Z"
    }
   },
   "source": [
    "import math\n",
    "class LiczbaZespolona:\n",
    "\n",
    "    def __init__(self, a,b):\n",
    "        self.a = a#rzeczywista\n",
    "        self.b = b #urojona\n",
    "    def __repr__(self):\n",
    "        return f\"Liczba zespolona : {self.a} + {self.b}i\"\n",
    "    def __add__(self,c):\n",
    "        return LiczbaZespolona(self.a + c.a , self.b + c.b)\n",
    "    def __sub__(self,c):\n",
    "        return LiczbaZespolona(self.a - c.a , self.b - c.b)\n",
    "    \n",
    "    def __mul__(self,c):\n",
    "        r = self.a *c.a - self.b  * c.b\n",
    "        i = self.a * c.a + self.b * c.b\n",
    "        return LiczbaZespolona(r, i)\n",
    "    def modul(self):\n",
    "        return math.sqrt(self.a **2 + self.b **2)\n",
    "    def __eq__(self, c):\n",
    "        return self.a  == c.a and self.b == c.b\n",
    "    def __str__(self):\n",
    "        if self.b >=0:\n",
    "            sign  = \"+\"\n",
    "        else:\n",
    "            sign = '-'\n",
    "        return f\"{self.a}{sign} {abs(self.b)}\"\n",
    "    \n",
    "    \n",
    "    \n"
   ],
   "outputs": [],
   "execution_count": 26
  },
  {
   "cell_type": "code",
   "metadata": {
    "ExecuteTime": {
     "end_time": "2025-04-21T19:44:12.198133Z",
     "start_time": "2025-04-21T19:44:12.193486Z"
    }
   },
   "source": [
    "l1 = LiczbaZespolona(1,2)\n",
    "l2 = LiczbaZespolona(1,2)\n"
   ],
   "outputs": [],
   "execution_count": 27
  },
  {
   "cell_type": "code",
   "metadata": {
    "ExecuteTime": {
     "end_time": "2025-04-21T19:44:12.231433Z",
     "start_time": "2025-04-21T19:44:12.228497Z"
    }
   },
   "source": [],
   "outputs": [],
   "execution_count": null
  },
  {
   "cell_type": "code",
   "metadata": {
    "ExecuteTime": {
     "end_time": "2025-04-21T19:44:12.275807Z",
     "start_time": "2025-04-21T19:44:12.270662Z"
    }
   },
   "source": [
    "LiczbaZespolona.modul(l1)"
   ],
   "outputs": [
    {
     "data": {
      "text/plain": [
       "2.23606797749979"
      ]
     },
     "execution_count": 28,
     "metadata": {},
     "output_type": "execute_result"
    }
   ],
   "execution_count": 28
  },
  {
   "cell_type": "markdown",
   "metadata": {},
   "source": []
  },
  {
   "cell_type": "markdown",
   "metadata": {},
   "source": [
    "## Ćwiczenie\n",
    "\n",
    "**Zaimplementuj wektory prędkości ze szczególnej teorii względności!**\n",
    "\n",
    "### Reguły dodawania prędkości:\n",
    "\n",
    "\\[\n",
    "\\vec{w} = \\frac{\\vec{u} + \\vec{v}}{1 + \\frac{\\vec{u}\\cdot\\vec{v}}{c^2}}\n",
    "\\]\n",
    "\n",
    "gdzie:\n",
    "\n",
    "- \\(\\vec{u}, \\vec{v}, \\vec{w}\\) – wektory prędkości  \n",
    "- \\(c\\) – prędkość światła  \n",
    "\n",
    "**Znormalizuj składowe wektora do prędkości światła, tak by zawierały się w przedziale** \\([-1, 1]\\).\n"
   ]
  },
  {
   "cell_type": "code",
   "metadata": {
    "ExecuteTime": {
     "end_time": "2025-04-21T19:44:12.325487Z",
     "start_time": "2025-04-21T19:44:12.320715Z"
    }
   },
   "source": [
    "import numpy as np\n",
    "class RVector:\n",
    "    def __init__(self,x, y , c = 1):\n",
    "        self.RVector = np.array([x,y])\n",
    "        self.c = c\n",
    "    \n",
    "\n",
    "\n",
    "\n",
    "\n",
    "\n",
    "\n",
    "    def __mul__(self, b):#mnozenie\n",
    "         #iloczyn skalarny\n",
    "        if isinstance(b,RVector):\n",
    "            return self.v[0] * b.v[0] + self.v[1] * b.v[1]\n",
    "\n",
    "        return None\n",
    "    "
   ],
   "outputs": [],
   "execution_count": 29
  }
 ],
 "metadata": {
  "kernelspec": {
   "display_name": "base",
   "language": "python",
   "name": "python3"
  },
  "language_info": {
   "codemirror_mode": {
    "name": "ipython",
    "version": 3
   },
   "file_extension": ".py",
   "mimetype": "text/x-python",
   "name": "python",
   "nbconvert_exporter": "python",
   "pygments_lexer": "ipython3",
   "version": "3.12.4"
  }
 },
 "nbformat": 4,
 "nbformat_minor": 2
}
