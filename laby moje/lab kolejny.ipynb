{
 "cells": [
  {
   "cell_type": "code",
   "execution_count": null,
   "id": "initial_id",
   "metadata": {
    "collapsed": true
   },
   "outputs": [],
   "source": [
    ""
   ]
  },
  {
   "metadata": {
    "ExecuteTime": {
     "end_time": "2025-03-28T07:08:23.325370Z",
     "start_time": "2025-03-28T07:08:23.313306Z"
    }
   },
   "cell_type": "code",
   "source": [
    "a =5\n",
    "b= 10"
   ],
   "id": "95a50a3ed5c69171",
   "outputs": [
    {
     "data": {
      "text/plain": [
       "15"
      ]
     },
     "execution_count": 4,
     "metadata": {},
     "output_type": "execute_result"
    }
   ],
   "execution_count": 4
  },
  {
   "metadata": {
    "ExecuteTime": {
     "end_time": "2025-03-28T07:09:08.479216Z",
     "start_time": "2025-03-28T07:09:08.469258Z"
    }
   },
   "cell_type": "code",
   "source": "type(a)",
   "id": "63f263fe2152dd26",
   "outputs": [
    {
     "data": {
      "text/plain": [
       "int"
      ]
     },
     "execution_count": 5,
     "metadata": {},
     "output_type": "execute_result"
    }
   ],
   "execution_count": 5
  },
  {
   "metadata": {
    "ExecuteTime": {
     "end_time": "2025-03-28T07:09:09.568381Z",
     "start_time": "2025-03-28T07:09:09.559683Z"
    }
   },
   "cell_type": "code",
   "source": "a+b",
   "id": "1de829cd334fcfc2",
   "outputs": [
    {
     "data": {
      "text/plain": [
       "15"
      ]
     },
     "execution_count": 6,
     "metadata": {},
     "output_type": "execute_result"
    }
   ],
   "execution_count": 6
  },
  {
   "metadata": {
    "ExecuteTime": {
     "end_time": "2025-03-28T07:09:10.910507Z",
     "start_time": "2025-03-28T07:09:10.898315Z"
    }
   },
   "cell_type": "code",
   "source": "a.__add__(b)",
   "id": "e03aab258d561643",
   "outputs": [
    {
     "data": {
      "text/plain": [
       "15"
      ]
     },
     "execution_count": 7,
     "metadata": {},
     "output_type": "execute_result"
    }
   ],
   "execution_count": 7
  },
  {
   "metadata": {
    "ExecuteTime": {
     "end_time": "2025-03-28T07:09:37.116487Z",
     "start_time": "2025-03-28T07:09:37.108437Z"
    }
   },
   "cell_type": "code",
   "source": [
    "l1 = [1,2,3]\n",
    "l2 = [3,4,5]"
   ],
   "id": "84dc923f0bbc8139",
   "outputs": [],
   "execution_count": 8
  },
  {
   "metadata": {
    "ExecuteTime": {
     "end_time": "2025-03-28T07:09:47.827682Z",
     "start_time": "2025-03-28T07:09:47.815438Z"
    }
   },
   "cell_type": "code",
   "source": "l1+l2",
   "id": "1db5850e7db4d43f",
   "outputs": [
    {
     "data": {
      "text/plain": [
       "[1, 2, 3, 3, 4, 5]"
      ]
     },
     "execution_count": 9,
     "metadata": {},
     "output_type": "execute_result"
    }
   ],
   "execution_count": 9
  },
  {
   "metadata": {
    "ExecuteTime": {
     "end_time": "2025-03-28T07:14:03.490580Z",
     "start_time": "2025-03-28T07:14:03.480284Z"
    }
   },
   "cell_type": "code",
   "source": [
    "import numpy as np\n",
    "a1 =np.array(l1)\n",
    "a2 =np.array(l2)\n",
    "a1+a2"
   ],
   "id": "4dfcc4956a5792ba",
   "outputs": [
    {
     "data": {
      "text/plain": [
       "array([4, 6, 8])"
      ]
     },
     "execution_count": 16,
     "metadata": {},
     "output_type": "execute_result"
    }
   ],
   "execution_count": 16
  },
  {
   "metadata": {
    "ExecuteTime": {
     "end_time": "2025-03-28T07:29:26.583865Z",
     "start_time": "2025-03-28T07:29:26.577528Z"
    }
   },
   "cell_type": "code",
   "source": [
    "v1 = Vector20(2,3)\n",
    "v2 = Vector20(4,5)\n",
    "v3 = Vector20(6,7)"
   ],
   "id": "9eefcb65999e71fe",
   "outputs": [],
   "execution_count": 61
  },
  {
   "metadata": {
    "ExecuteTime": {
     "end_time": "2025-03-28T07:37:46.704394Z",
     "start_time": "2025-03-28T07:37:46.688091Z"
    }
   },
   "cell_type": "code",
   "source": [
    "import numpy as np\n",
    "\n",
    "class Vector20:\n",
    "    def __init__(self, x, y):\n",
    "        self.vector = np.array([x, y])\n",
    "\n",
    "    def __repr__(self):\n",
    "        return f\"Vector20({self.vector[0]},{self.vector[1]})\"\n",
    "\n",
    "    def __add__(self, v2):\n",
    "        if not isinstance(v2, Vector20):\n",
    "            raise NotImplementedError(\"Brak implementacji\")\n",
    "        return Vector20(self.vector[0] + v2.vector[0], self.vector[1] + v2.vector[1])\n",
    "\n",
    "    def __sub__(self, v2):\n",
    "        return Vector20(self.vector[0] - v2.vector[0], self.vector[1] - v2.vector[1])\n",
    "\n",
    "    def __mul__(self, b):\n",
    "        if isinstance(b, (int, float)):\n",
    "            return Vector20(self.vector[0] * b, self.vector[1] * b)\n",
    "        if isinstance(b, Vector20):\n",
    "            return self.vector[0] * b.vector[0] + self.vector[1] * b.vector[1]\n",
    "        return None\n"
   ],
   "id": "1186302389897d1",
   "outputs": [],
   "execution_count": 80
  },
  {
   "metadata": {
    "ExecuteTime": {
     "end_time": "2025-03-28T07:34:30.992632Z",
     "start_time": "2025-03-28T07:34:30.974948Z"
    }
   },
   "cell_type": "code",
   "source": [
    "\n",
    "v1 = Vector20(2, 3)\n",
    "v2 = Vector20(4, 5)\n",
    "v3 = Vector20(6, 7)\n",
    "\n",
    "\n",
    "v1 - v2 +v3"
   ],
   "id": "f26fa2a180f3d64b",
   "outputs": [
    {
     "data": {
      "text/plain": [
       "Vector20(4,5)"
      ]
     },
     "execution_count": 75,
     "metadata": {},
     "output_type": "execute_result"
    }
   ],
   "execution_count": 75
  },
  {
   "metadata": {
    "ExecuteTime": {
     "end_time": "2025-03-28T07:39:20.115476Z",
     "start_time": "2025-03-28T07:39:20.106805Z"
    }
   },
   "cell_type": "code",
   "source": "v1*2\n",
   "id": "90dcf60721395e25",
   "outputs": [
    {
     "data": {
      "text/plain": [
       "Vector20(4,6)"
      ]
     },
     "execution_count": 92,
     "metadata": {},
     "output_type": "execute_result"
    }
   ],
   "execution_count": 92
  },
  {
   "metadata": {
    "ExecuteTime": {
     "end_time": "2025-03-28T07:39:21.334438Z",
     "start_time": "2025-03-28T07:39:21.320214Z"
    }
   },
   "cell_type": "code",
   "source": [
    "\n",
    "v1 = Vector20(2, 3)\n",
    "v2 = Vector20(4, 5)\n",
    "\n",
    "v1 * 2\n",
    "v1 * v2"
   ],
   "id": "94ab5fd2d8fe7586",
   "outputs": [
    {
     "data": {
      "text/plain": [
       "np.int64(23)"
      ]
     },
     "execution_count": 93,
     "metadata": {},
     "output_type": "execute_result"
    }
   ],
   "execution_count": 93
  },
  {
   "metadata": {},
   "cell_type": "code",
   "outputs": [],
   "execution_count": null,
   "source": [
    "#zaimplementuj klasę do liczb zepolonych\n",
    "#mnożenie dodawanie i odejmowanie liczb zespolonych\n",
    "#moduł liczby zespolonej\n",
    "# porównywanie liczb zespolonych (poszukaj w dokumentacji metody operatora)\n",
    "# zaimplementuj konwersję liuczby zespolonej do stringa"
   ],
   "id": "6f4fe3d75b428c48"
  },
  {
   "metadata": {},
   "cell_type": "code",
   "outputs": [],
   "execution_count": null,
   "source": [
    "import math\n",
    "\n",
    "class ComplexNumber:\n",
    "    def __init__(self, real, imag):\n",
    "        self.real = real\n",
    "        self.imag = imag\n",
    "#dodawanie\n",
    "    def __add__(self, other):\n",
    "        return ComplexNumber(self.real + other.real, self.imag + other.imag)\n",
    "#odebmowanie\n",
    "    def __sub__(self, other):\n",
    "        return ComplexNumber(self.real - other.real, self.imag - other.imag)\n",
    "#mnożenie\n",
    "    def __mul__(self, other):\n",
    "        r = self.real * other.real - self.imag * other.imag\n",
    "        i = self.real * other.imag + self.imag * other.real\n",
    "        return ComplexNumber(r, i)\n",
    "#porównywanie\n",
    "    def __eq__(self, other):\n",
    "        return self.real == other.real and self.imag == other.imag\n",
    "#moduł pierwiastek z części rzeczywistej ^2 + cześci urojonekj^2\n",
    "    def modulus(self):\n",
    "        return math.sqrt(self.real**2 + self.imag**2)\n",
    "#konwersja w stringa\n",
    "    def __str__(self):\n",
    "        sign = '+' if self.imag >= 0 else '-'\n",
    "        return f\"{self.real} {sign} {abs(self.imag)}i\"\n"
   ],
   "id": "443397e1a2f4eeea"
  },
  {
   "metadata": {
    "ExecuteTime": {
     "end_time": "2025-03-28T08:10:02.199065Z",
     "start_time": "2025-03-28T08:10:02.169412Z"
    }
   },
   "cell_type": "code",
   "source": [
    "z1 = ComplexNumber(2, 3)\n",
    "z2 = ComplexNumber(2, 3)\n",
    "z3 = ComplexNumber(10, 5)\n"
   ],
   "id": "32dd665a238a84f1",
   "outputs": [],
   "execution_count": 112
  },
  {
   "metadata": {
    "ExecuteTime": {
     "end_time": "2025-03-28T08:14:15.035539Z",
     "start_time": "2025-03-28T08:14:15.024238Z"
    }
   },
   "cell_type": "code",
   "source": [
    "\n",
    "print(z1 + z2)\n",
    "print(z1 - z3)\n",
    "print(z1 * z3)\n",
    "print(z1 == z2)\n",
    "print(z1.modulus())\n",
    "print(z1)"
   ],
   "id": "81da5bf30869a940",
   "outputs": [
    {
     "name": "stdout",
     "output_type": "stream",
     "text": [
      "4 + 6i\n",
      "-8 - 2i\n",
      "5 + 40i\n",
      "True\n",
      "3.605551275463989\n",
      "2 + 3i\n"
     ]
    }
   ],
   "execution_count": 114
  },
  {
   "metadata": {
    "ExecuteTime": {
     "end_time": "2025-03-28T08:26:51.346414Z",
     "start_time": "2025-03-28T08:26:51.331705Z"
    }
   },
   "cell_type": "code",
   "source": [
    "import numpy as np\n",
    "class RVector:\n",
    "    def __init__(self, x,y ,c=1):\n",
    "        self.RVector = np.array([x,y], dtype=float)\n",
    "        self.c = c\n",
    "    def add(self, other):\n",
    "        dot = np.dot(self.RVector, other.RVector)\n",
    "        numerator = self.RVector + other.RVector\n",
    "        denominator = 1 + dot / (self.c ** 2)\n",
    "        result = numerator / denominator\n",
    "        return RVector(result[0], result[1], self.c)\n",
    "\n",
    "\n"
   ],
   "id": "7cc43f6defd2dc43",
   "outputs": [],
   "execution_count": 115
  },
  {
   "metadata": {},
   "cell_type": "code",
   "outputs": [],
   "execution_count": null,
   "source": "",
   "id": "767864e371af3b4e"
  },
  {
   "metadata": {},
   "cell_type": "code",
   "outputs": [],
   "execution_count": null,
   "source": "",
   "id": "53f30b41b4b484c8"
  },
  {
   "metadata": {},
   "cell_type": "code",
   "outputs": [],
   "execution_count": null,
   "source": "",
   "id": "3eda65f7db895f67"
  },
  {
   "metadata": {},
   "cell_type": "code",
   "outputs": [],
   "execution_count": null,
   "source": "",
   "id": "68e84106da51cef4"
  },
  {
   "metadata": {},
   "cell_type": "code",
   "outputs": [],
   "execution_count": null,
   "source": "",
   "id": "5e5cc171262edcf0"
  },
  {
   "metadata": {},
   "cell_type": "code",
   "outputs": [],
   "execution_count": null,
   "source": "",
   "id": "4ead1fbd51bbcf3b"
  },
  {
   "metadata": {},
   "cell_type": "code",
   "outputs": [],
   "execution_count": null,
   "source": "",
   "id": "37d4199de9b1eeaf"
  },
  {
   "metadata": {},
   "cell_type": "code",
   "outputs": [],
   "execution_count": null,
   "source": "",
   "id": "a8e5e62a2d815993"
  },
  {
   "metadata": {},
   "cell_type": "code",
   "outputs": [],
   "execution_count": null,
   "source": "",
   "id": "1c894183000ae1d2"
  },
  {
   "metadata": {},
   "cell_type": "code",
   "outputs": [],
   "execution_count": null,
   "source": "",
   "id": "30644b08b0ab1c3"
  },
  {
   "metadata": {},
   "cell_type": "code",
   "outputs": [],
   "execution_count": null,
   "source": "",
   "id": "ca8a2d9cc507a653"
  },
  {
   "metadata": {},
   "cell_type": "code",
   "outputs": [],
   "execution_count": null,
   "source": "",
   "id": "4d150f08509ff28d"
  },
  {
   "metadata": {},
   "cell_type": "code",
   "outputs": [],
   "execution_count": null,
   "source": [
    "import numpy as np\n",
    "\n",
    "class RelativisticVector:\n",
    "    def __init__(self, x, y, c=1):\n",
    "        self.vector = np.array([x, y], dtype=float)\n",
    "        self.c = c  # prędkość światła, domyślnie 1 (do normalizacji)\n",
    "\n",
    "    def add(self, other):\n",
    "        dot = np.dot(self.vector, other.vector)\n",
    "        numerator = self.vector + other.vector\n",
    "        denominator = 1 + dot / (self.c ** 2)\n",
    "        result = numerator / denominator\n",
    "        return RelativisticVector(result[0], result[1], self.c)\n",
    "\n",
    "    def normalize(self):\n",
    "        self.vector = np.clip(self.vector / self.c, -1, 1)\n",
    "\n",
    "    def __repr__(self):\n",
    "        return f\"RelativisticVector({self.vector[0]:.4f}, {self.vector[1]:.4f})\"\n"
   ],
   "id": "815427a1d97070db"
  }
 ],
 "metadata": {
  "kernelspec": {
   "display_name": "Python 3",
   "language": "python",
   "name": "python3"
  },
  "language_info": {
   "codemirror_mode": {
    "name": "ipython",
    "version": 2
   },
   "file_extension": ".py",
   "mimetype": "text/x-python",
   "name": "python",
   "nbconvert_exporter": "python",
   "pygments_lexer": "ipython2",
   "version": "2.7.6"
  }
 },
 "nbformat": 4,
 "nbformat_minor": 5
}
