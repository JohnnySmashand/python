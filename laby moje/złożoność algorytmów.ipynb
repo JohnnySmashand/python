{
 "cells": [
  {
   "cell_type": "code",
   "id": "initial_id",
   "metadata": {
    "collapsed": true,
    "ExecuteTime": {
     "end_time": "2025-04-11T06:31:15.675325Z",
     "start_time": "2025-04-11T06:31:15.620448Z"
    }
   },
   "source": [
    "import pandas as pd\n",
    "import numpy as np\n",
    "from math import factorial\n",
    "\n",
    "n_values = [10, 20, 30, 40, 50, 60, 70, 80, 90, 100]\n",
    "data = {\n",
    "    'n': n_values,\n",
    "    '1': [1] * len(n_values),\n",
    "    'log n': np.log(n_values),\n",
    "    'n^2': np.square(n_values),\n",
    "    'n^3': np.power(n_values, 3),\n",
    "    '2^n': [2 ** n for n in n_values],\n",
    "    'n!': [factorial(n) for n in n_values]\n",
    "\n",
    "}\n",
    "\n",
    "df = pd.DataFrame(data)\n",
    "df\n"
   ],
   "outputs": [
    {
     "data": {
      "text/plain": [
       "     n  1     log n    n^2      n^3                              2^n  \\\n",
       "0   10  1  2.302585    100     1000                             1024   \n",
       "1   20  1  2.995732    400     8000                          1048576   \n",
       "2   30  1  3.401197    900    27000                       1073741824   \n",
       "3   40  1  3.688879   1600    64000                    1099511627776   \n",
       "4   50  1  3.912023   2500   125000                 1125899906842624   \n",
       "5   60  1  4.094345   3600   216000              1152921504606846976   \n",
       "6   70  1  4.248495   4900   343000           1180591620717411303424   \n",
       "7   80  1  4.382027   6400   512000        1208925819614629174706176   \n",
       "8   90  1  4.499810   8100   729000     1237940039285380274899124224   \n",
       "9  100  1  4.605170  10000  1000000  1267650600228229401496703205376   \n",
       "\n",
       "                                                  n!  \n",
       "0                                            3628800  \n",
       "1                                2432902008176640000  \n",
       "2                  265252859812191058636308480000000  \n",
       "3   815915283247897734345611269596115894272000000000  \n",
       "4  3041409320171337804361260816606476884437764156...  \n",
       "5  8320987112741390144276341183223364380754172606...  \n",
       "6  1197857166996989179607278372168909873645893814...  \n",
       "7  7156945704626380229481153372318653216558465734...  \n",
       "8  1485715964481761497309522733620825737885569961...  \n",
       "9  9332621544394415268169923885626670049071596826...  "
      ],
      "text/html": [
       "<div>\n",
       "<style scoped>\n",
       "    .dataframe tbody tr th:only-of-type {\n",
       "        vertical-align: middle;\n",
       "    }\n",
       "\n",
       "    .dataframe tbody tr th {\n",
       "        vertical-align: top;\n",
       "    }\n",
       "\n",
       "    .dataframe thead th {\n",
       "        text-align: right;\n",
       "    }\n",
       "</style>\n",
       "<table border=\"1\" class=\"dataframe\">\n",
       "  <thead>\n",
       "    <tr style=\"text-align: right;\">\n",
       "      <th></th>\n",
       "      <th>n</th>\n",
       "      <th>1</th>\n",
       "      <th>log n</th>\n",
       "      <th>n^2</th>\n",
       "      <th>n^3</th>\n",
       "      <th>2^n</th>\n",
       "      <th>n!</th>\n",
       "    </tr>\n",
       "  </thead>\n",
       "  <tbody>\n",
       "    <tr>\n",
       "      <th>0</th>\n",
       "      <td>10</td>\n",
       "      <td>1</td>\n",
       "      <td>2.302585</td>\n",
       "      <td>100</td>\n",
       "      <td>1000</td>\n",
       "      <td>1024</td>\n",
       "      <td>3628800</td>\n",
       "    </tr>\n",
       "    <tr>\n",
       "      <th>1</th>\n",
       "      <td>20</td>\n",
       "      <td>1</td>\n",
       "      <td>2.995732</td>\n",
       "      <td>400</td>\n",
       "      <td>8000</td>\n",
       "      <td>1048576</td>\n",
       "      <td>2432902008176640000</td>\n",
       "    </tr>\n",
       "    <tr>\n",
       "      <th>2</th>\n",
       "      <td>30</td>\n",
       "      <td>1</td>\n",
       "      <td>3.401197</td>\n",
       "      <td>900</td>\n",
       "      <td>27000</td>\n",
       "      <td>1073741824</td>\n",
       "      <td>265252859812191058636308480000000</td>\n",
       "    </tr>\n",
       "    <tr>\n",
       "      <th>3</th>\n",
       "      <td>40</td>\n",
       "      <td>1</td>\n",
       "      <td>3.688879</td>\n",
       "      <td>1600</td>\n",
       "      <td>64000</td>\n",
       "      <td>1099511627776</td>\n",
       "      <td>815915283247897734345611269596115894272000000000</td>\n",
       "    </tr>\n",
       "    <tr>\n",
       "      <th>4</th>\n",
       "      <td>50</td>\n",
       "      <td>1</td>\n",
       "      <td>3.912023</td>\n",
       "      <td>2500</td>\n",
       "      <td>125000</td>\n",
       "      <td>1125899906842624</td>\n",
       "      <td>3041409320171337804361260816606476884437764156...</td>\n",
       "    </tr>\n",
       "    <tr>\n",
       "      <th>5</th>\n",
       "      <td>60</td>\n",
       "      <td>1</td>\n",
       "      <td>4.094345</td>\n",
       "      <td>3600</td>\n",
       "      <td>216000</td>\n",
       "      <td>1152921504606846976</td>\n",
       "      <td>8320987112741390144276341183223364380754172606...</td>\n",
       "    </tr>\n",
       "    <tr>\n",
       "      <th>6</th>\n",
       "      <td>70</td>\n",
       "      <td>1</td>\n",
       "      <td>4.248495</td>\n",
       "      <td>4900</td>\n",
       "      <td>343000</td>\n",
       "      <td>1180591620717411303424</td>\n",
       "      <td>1197857166996989179607278372168909873645893814...</td>\n",
       "    </tr>\n",
       "    <tr>\n",
       "      <th>7</th>\n",
       "      <td>80</td>\n",
       "      <td>1</td>\n",
       "      <td>4.382027</td>\n",
       "      <td>6400</td>\n",
       "      <td>512000</td>\n",
       "      <td>1208925819614629174706176</td>\n",
       "      <td>7156945704626380229481153372318653216558465734...</td>\n",
       "    </tr>\n",
       "    <tr>\n",
       "      <th>8</th>\n",
       "      <td>90</td>\n",
       "      <td>1</td>\n",
       "      <td>4.499810</td>\n",
       "      <td>8100</td>\n",
       "      <td>729000</td>\n",
       "      <td>1237940039285380274899124224</td>\n",
       "      <td>1485715964481761497309522733620825737885569961...</td>\n",
       "    </tr>\n",
       "    <tr>\n",
       "      <th>9</th>\n",
       "      <td>100</td>\n",
       "      <td>1</td>\n",
       "      <td>4.605170</td>\n",
       "      <td>10000</td>\n",
       "      <td>1000000</td>\n",
       "      <td>1267650600228229401496703205376</td>\n",
       "      <td>9332621544394415268169923885626670049071596826...</td>\n",
       "    </tr>\n",
       "  </tbody>\n",
       "</table>\n",
       "</div>"
      ]
     },
     "execution_count": 2,
     "metadata": {},
     "output_type": "execute_result"
    }
   ],
   "execution_count": 2
  },
  {
   "metadata": {
    "ExecuteTime": {
     "end_time": "2025-04-11T06:36:43.437997Z",
     "start_time": "2025-04-11T06:36:43.426867Z"
    }
   },
   "cell_type": "code",
   "source": [
    "def silnia(n):\n",
    "    if n == 0:\n",
    "        return 1\n",
    "    else:\n",
    "        return n * silnia(n - 1)\n",
    "\n",
    "silnia(5)"
   ],
   "id": "15fd0cfc324be3af",
   "outputs": [
    {
     "data": {
      "text/plain": [
       "120"
      ]
     },
     "execution_count": 6,
     "metadata": {},
     "output_type": "execute_result"
    }
   ],
   "execution_count": 6
  },
  {
   "metadata": {
    "ExecuteTime": {
     "end_time": "2025-04-11T07:00:24.071557Z",
     "start_time": "2025-04-11T07:00:24.061262Z"
    }
   },
   "cell_type": "code",
   "source": [
    "#napisz funkcję czy podana liczba znajduje się w podanej liście, lista to 1,2,8,10/3,13 jeżli jest w liście to zwracasz jej pozycje indeksem ajak nie ma to zwracasz -1 logarnytm z n przeszukiwanie binarne\n",
    "lista = [1, 2, 8, 10/3, 13]\n",
    "def znajdz(n, lista):\n",
    "    for index, element in enumerate(lista):\n",
    "        if element == n:\n",
    "            return index\n",
    "    return -1\n",
    "\n",
    "print(znajdz(5, lista))"
   ],
   "id": "8f970eec11c01c34",
   "outputs": [
    {
     "name": "stdout",
     "output_type": "stream",
     "text": [
      "-1\n"
     ]
    }
   ],
   "execution_count": 24
  },
  {
   "metadata": {},
   "cell_type": "code",
   "outputs": [],
   "execution_count": null,
   "source": [
    "# #from re import I\n",
    "# Dn,i - element jest na i-tym miejsciu\n",
    "# Dn,n - nie ma elementu\n",
    "# P(el znajd) = P\n",
    "# P(el nie ma) = 1-PendingDeprecationWarning\n",
    "# P(Dn,i) = P/n\n",
    "# T(Dn,i) = i\n",
    "# T(Dn,n) = n\n",
    "# sredni czas wykonania -> T = suma\n",
    "# logarnytm z n przeszukiwanie binarne"
   ],
   "id": "46503626b5b8d2c3"
  },
  {
   "metadata": {
    "ExecuteTime": {
     "end_time": "2025-04-11T07:18:07.827768Z",
     "start_time": "2025-04-11T07:18:07.807542Z"
    }
   },
   "cell_type": "code",
   "source": [
    "def binarne_przeszukiwanie(liczba, lista):\n",
    "    lewy, prawy = 0, len(lista) - 1\n",
    "    while lewy <= prawy:\n",
    "        srodek = (lewy + prawy) // 2\n",
    "        if lista[srodek] == liczba:\n",
    "            return srodek\n",
    "        elif lista[srodek] < liczba:\n",
    "            lewy = srodek + 1\n",
    "        else:\n",
    "            prawy = srodek - 1\n",
    "    return -1\n",
    "\n",
    "\n",
    "posortowana_lista = sorted([1, 2, 8, 10/3, 13])\n",
    "print(binarne_przeszukiwanie(5, posortowana_lista))\n",
    "print(binarne_przeszukiwanie(8, posortowana_lista))"
   ],
   "id": "415d8b0a5b8f6fcb",
   "outputs": [
    {
     "name": "stdout",
     "output_type": "stream",
     "text": [
      "-1\n",
      "3\n"
     ]
    }
   ],
   "execution_count": 34
  },
  {
   "metadata": {
    "ExecuteTime": {
     "end_time": "2025-04-11T07:26:10.519877Z",
     "start_time": "2025-04-11T07:26:10.459650Z"
    }
   },
   "cell_type": "code",
   "source": [
    "# Przykład wyszukiwania binarnego\n",
    "posortowana_lista = sorted([1, 2, 8, 10 / 3, 13])\n",
    "print(\"Wyszukiwanie binarne (iteracyjne) - element 5:\", binarne_przeszukiwanie(5, posortowana_lista))\n",
    "print(\"Wyszukiwanie binarne (iteracyjne) - element 8:\", binarne_przeszukiwanie(8, posortowana_lista))\n",
    "\n",
    "\n",
    "def binary_search(arr, target, left, right):\n",
    "    if left > right:\n",
    "        return -1\n",
    "    mid = (left + right) // 2\n",
    "    if arr[mid] == target:\n",
    "        return mid\n",
    "    elif arr[mid] < target:\n",
    "        return binary_search(arr, target, mid + 1, right)\n",
    "    else:\n",
    "        return binary_search(arr, target, left, mid - 1)\n",
    "\n",
    "\n",
    "bycza_tablica = [i for i in range(1, 10000)]\n",
    "print(\"Wyszukiwanie binarne (rekurencyjne) - element 5:\",\n",
    "      binary_search(bycza_tablica, 5, 0, len(bycza_tablica) - 1))\n",
    "\n",
    "szukana = 7658\n",
    "t1 = perf_counter()\n",
    "indeks = linear_search(bycza_tablica, szukana)\n",
    "t2 = perf_counter()\n",
    "print(f'Linear search: {t2 - t1} s, znaleziono na pozycji: {indeks}')"
   ],
   "id": "8be2ece439340016",
   "outputs": [
    {
     "name": "stdout",
     "output_type": "stream",
     "text": [
      "Wyszukiwanie binarne (iteracyjne) - element 5: -1\n",
      "Wyszukiwanie binarne (iteracyjne) - element 8: 3\n",
      "Wyszukiwanie binarne (rekurencyjne) - element 5: 4\n"
     ]
    },
    {
     "ename": "NameError",
     "evalue": "name 'perf_counter' is not defined",
     "output_type": "error",
     "traceback": [
      "\u001B[31m---------------------------------------------------------------------------\u001B[39m",
      "\u001B[31mNameError\u001B[39m                                 Traceback (most recent call last)",
      "\u001B[36mCell\u001B[39m\u001B[36m \u001B[39m\u001B[32mIn[42]\u001B[39m\u001B[32m, line 24\u001B[39m\n\u001B[32m     20\u001B[39m \u001B[38;5;28mprint\u001B[39m(\u001B[33m\"\u001B[39m\u001B[33mWyszukiwanie binarne (rekurencyjne) - element 5:\u001B[39m\u001B[33m\"\u001B[39m,\n\u001B[32m     21\u001B[39m       binary_search(bycza_tablica, \u001B[32m5\u001B[39m, \u001B[32m0\u001B[39m, \u001B[38;5;28mlen\u001B[39m(bycza_tablica) - \u001B[32m1\u001B[39m))\n\u001B[32m     23\u001B[39m szukana = \u001B[32m7658\u001B[39m\n\u001B[32m---> \u001B[39m\u001B[32m24\u001B[39m t1 = \u001B[43mperf_counter\u001B[49m()\n\u001B[32m     25\u001B[39m indeks = linear_search(bycza_tablica, szukana)\n\u001B[32m     26\u001B[39m t2 = perf_counter()\n",
      "\u001B[31mNameError\u001B[39m: name 'perf_counter' is not defined"
     ]
    }
   ],
   "execution_count": 42
  },
  {
   "metadata": {
    "ExecuteTime": {
     "end_time": "2025-04-11T07:27:24.155107Z",
     "start_time": "2025-04-11T07:27:24.130340Z"
    }
   },
   "cell_type": "code",
   "source": [
    "import numpy as np\n",
    "from time import perf_counter\n",
    "\n",
    "def numpy_search(arr, target):\n",
    "    \"\"\"\n",
    "    Wyszukiwanie elementu target w posortowanej tablicy NumPy.\n",
    "    Zwraca indeks elementu, jeśli występuje, lub -1, gdy elementu nie ma.\n",
    "    \"\"\"\n",
    "    # Używamy searchsorted do odnalezienia indeksu, gdzie element mógłby się znaleźć\n",
    "    index = np.searchsorted(arr, target)\n",
    "\n",
    "    # Sprawdzamy, czy indeks mieści się w granicach tablicy oraz czy faktycznie jest to szukany element\n",
    "    if index < len(arr) and arr[index] == target:\n",
    "        return index\n",
    "    else:\n",
    "        return -1\n",
    "\n",
    "# Przykład z użyciem:\n",
    "bycza_tablica = np.arange(1, 10000)  # generujemy posortowaną tablicę liczb od 1 do 9999\n",
    "szukana = 7658\n",
    "\n",
    "t1 = perf_counter()\n",
    "index_found = numpy_search(bycza_tablica, szukana)\n",
    "t2 = perf_counter()\n",
    "\n",
    "print(f\"Numpy search: {t2 - t1} s, znaleziono na pozycji: {index_found}\")\n"
   ],
   "id": "cf53f8bc6218249d",
   "outputs": [
    {
     "name": "stdout",
     "output_type": "stream",
     "text": [
      "Numpy search: 0.004551499965600669 s, znaleziono na pozycji: 7657\n"
     ]
    }
   ],
   "execution_count": 43
  },
  {
   "metadata": {},
   "cell_type": "code",
   "outputs": [],
   "execution_count": null,
   "source": "",
   "id": "7bf94e891d0e392"
  }
 ],
 "metadata": {
  "kernelspec": {
   "display_name": "Python 3",
   "language": "python",
   "name": "python3"
  },
  "language_info": {
   "codemirror_mode": {
    "name": "ipython",
    "version": 2
   },
   "file_extension": ".py",
   "mimetype": "text/x-python",
   "name": "python",
   "nbconvert_exporter": "python",
   "pygments_lexer": "ipython2",
   "version": "2.7.6"
  }
 },
 "nbformat": 4,
 "nbformat_minor": 5
}
