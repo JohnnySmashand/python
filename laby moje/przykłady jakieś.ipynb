{
 "cells": [
  {
   "metadata": {},
   "cell_type": "markdown",
   "source": [
    "# 1. Definicja klasy Osoba\n",
    "\n"
   ],
   "id": "a616b507e64f9ebd"
  },
  {
   "metadata": {},
   "cell_type": "code",
   "outputs": [
    {
     "name": "stdout",
     "output_type": "stream",
     "text": [
      "Cześć, jestem Ania i mam 28 lat.\n"
     ]
    }
   ],
   "execution_count": 1,
   "source": [
    "# 1. Definicja klasy Osoba\n",
    "class Osoba:\n",
    "    def __init__(self, imie: str, wiek: int):\n",
    "        self.imie = imie       # publiczny atrybut\n",
    "        self._wiek = wiek      # chroniony atrybut\n",
    "\n",
    "    def przywitaj(self) -> str:\n",
    "        return f\"Cześć, jestem {self.imie} i mam {self._wiek} lat.\"\n",
    "\n",
    "# Test\n",
    "osoba = Osoba(\"Ania\", 28)\n",
    "print(osoba.przywitaj())\n"
   ],
   "id": "initial_id"
  },
  {
   "metadata": {},
   "cell_type": "markdown",
   "source": [
    "Powyższa klasa `Osoba` definiuje prosty obiekt z imieniem i wiekiem.\n",
    "- `__init__` inicjalizuje atrybuty.\n",
    "- `self.imie` to atrybut publiczny, `self._wiek` uznajemy za chroniony (konwencja).\n",
    "- Metoda `przywitaj` zwraca powitanie jako łańcuch tekstowy.\n"
   ],
   "id": "793a9408643fdf1d"
  },
  {
   "metadata": {},
   "cell_type": "markdown",
   "source": [
    "# 2. Dziedziczenie i super()\n",
    "\n"
   ],
   "id": "a1f4bd48cbd2322d"
  },
  {
   "metadata": {
    "ExecuteTime": {
     "end_time": "2025-04-24T16:42:04.078042Z",
     "start_time": "2025-04-24T16:42:04.072825Z"
    }
   },
   "cell_type": "code",
   "source": [
    "# 2. Dziedziczenie i super()\n",
    "class Student(Osoba):\n",
    "    def __init__(self, imie, wiek, numer_indeksu: str):\n",
    "        super().__init__(imie, wiek)\n",
    "        self.numer_indeksu = numer_indeksu\n",
    "\n",
    "    def przywitaj(self):\n",
    "        bazowe = super().przywitaj()\n",
    "        return f\"{bazowe} Mój nr indeksu to {self.numer_indeksu}.\"\n",
    "\n",
    "# Test\n",
    "stud = Student(\"Bartek\", 21, \"S2025\")\n",
    "print(stud.przywitaj())\n"
   ],
   "id": "b6f588c948884fb3",
   "outputs": [
    {
     "name": "stdout",
     "output_type": "stream",
     "text": [
      "Cześć, jestem Bartek i mam 21 lat. Mój nr indeksu to S2025.\n"
     ]
    }
   ],
   "execution_count": 2
  },
  {
   "metadata": {},
   "cell_type": "markdown",
   "source": [
    "\n",
    "\n",
    "Klasa `Student` dziedziczy po `Osoba`.\n",
    "- Wywołujemy `super().__init__`, aby ponownie użyć konstrukcji z klasy bazowej.\n",
    "- Nadpisujemy metodę `przywitaj` (polimorfizm), dodając numer indeksu.\n"
   ],
   "id": "ea29451155328c4d"
  },
  {
   "metadata": {},
   "cell_type": "markdown",
   "source": [
    "# 3. Polimorfizm\n",
    "\n"
   ],
   "id": "c43ec82bcccff9a1"
  },
  {
   "metadata": {
    "ExecuteTime": {
     "end_time": "2025-04-24T16:42:04.118152Z",
     "start_time": "2025-04-24T16:42:04.112754Z"
    }
   },
   "cell_type": "code",
   "source": [
    "# 3. Polimorfizm\n",
    "class Zwierze:\n",
    "    def wydaj_dzwiek(self):\n",
    "        raise NotImplementedError(\"Ta metoda powinna być nadpisana\")\n",
    "\n",
    "class Pies(Zwierze):\n",
    "    def wydaj_dzwiek(self):\n",
    "        return \"Hau hau\"\n",
    "\n",
    "class Kot(Zwierze):\n",
    "    def wydaj_dzwiek(self):\n",
    "        return \"Miau miau\"\n",
    "\n",
    "# Test\n",
    "stado: list[Zwierze] = [Pies(), Kot()]\n",
    "for zw in stado:\n",
    "    print(zw.wydaj_dzwiek())\n"
   ],
   "id": "500012fcfa7082ea",
   "outputs": [
    {
     "name": "stdout",
     "output_type": "stream",
     "text": [
      "Hau hau\n",
      "Miau miau\n"
     ]
    }
   ],
   "execution_count": 3
  },
  {
   "metadata": {},
   "cell_type": "markdown",
   "source": [
    "Polimorfizm pozwala traktować obiekty różnych klas jednakowo.\n",
    "- Klasa `Zwierze` deklaruje metodę abstrakcyjną.\n",
    "- `Pies` i `Kot` implementują własne wersje `wydaj_dzwiek`.\n",
    "- Iterując po liście `Zwierze`, wywołujemy poprawną implementację.\n"
   ],
   "id": "1fd360dac6d2f0ce"
  },
  {
   "metadata": {},
   "cell_type": "markdown",
   "source": [
    "# 4. Abstrakcja z abc\n",
    "\n"
   ],
   "id": "1d2f4d66f2a99d91"
  },
  {
   "metadata": {
    "ExecuteTime": {
     "end_time": "2025-04-24T16:42:04.142841Z",
     "start_time": "2025-04-24T16:42:04.137252Z"
    }
   },
   "cell_type": "code",
   "source": [
    "# 4. Abstrakcja z abc\n",
    "from abc import ABC, abstractmethod\n",
    "\n",
    "class Figura(ABC):\n",
    "    @abstractmethod\n",
    "    def pole(self) -> float:\n",
    "        pass\n",
    "\n",
    "class Kolo(Figura):\n",
    "    def __init__(self, promien: float):\n",
    "        self.promien = promien\n",
    "\n",
    "    def pole(self) -> float:\n",
    "        return 3.1415 * self.promien**2\n",
    "\n",
    "# Test\n",
    "k = Kolo(5)\n",
    "print(\"Pole koła:\", k.pole())\n"
   ],
   "id": "5dde50ee7e8c1f3e",
   "outputs": [
    {
     "name": "stdout",
     "output_type": "stream",
     "text": [
      "Pole koła: 78.53750000000001\n"
     ]
    }
   ],
   "execution_count": 4
  },
  {
   "metadata": {},
   "cell_type": "markdown",
   "source": [
    "Moduł `abc` umożliwia definiowanie klas abstrakcyjnych.\n",
    "- `Figura` nie może być instancjonowana (ma metodę `@abstractmethod`).\n",
    "- `Kolo` wymaga implementacji `pole`, co gwarantuje spójność API.\n"
   ],
   "id": "408c601e7f83f6ec"
  },
  {
   "metadata": {},
   "cell_type": "markdown",
   "source": [
    "# 5. Enkapsulacja i @property\n",
    "\n"
   ],
   "id": "587e3bc84a2033f0"
  },
  {
   "metadata": {
    "ExecuteTime": {
     "end_time": "2025-04-24T16:42:04.187810Z",
     "start_time": "2025-04-24T16:42:04.182379Z"
    }
   },
   "cell_type": "code",
   "source": [
    "# 5. Enkapsulacja i @property\n",
    "class KontoBankowe:\n",
    "    def __init__(self, saldo: float):\n",
    "        self._saldo = saldo\n",
    "\n",
    "    @property\n",
    "    def saldo(self) -> float:\n",
    "        return self._saldo\n",
    "\n",
    "    @saldo.setter\n",
    "    def saldo(self, nowa_wartosc: float):\n",
    "        if nowa_wartosc < 0:\n",
    "            raise ValueError(\"Saldo nie może być ujemne\")\n",
    "        self._saldo = nowa_wartosc\n",
    "\n",
    "# Test\n",
    "konto = KontoBankowe(100.0)\n",
    "print(\"Saldo:\", konto.saldo)\n",
    "konto.saldo = 50.0\n",
    "print(\"Nowe saldo:\", konto.saldo)\n",
    "# konto.saldo = -10  # ValueError\n"
   ],
   "id": "798b95ea329ab717",
   "outputs": [
    {
     "name": "stdout",
     "output_type": "stream",
     "text": [
      "Saldo: 100.0\n",
      "Nowe saldo: 50.0\n"
     ]
    }
   ],
   "execution_count": 5
  },
  {
   "metadata": {},
   "cell_type": "markdown",
   "source": [
    "`@property` pozwala kontrolować dostęp do atrybutów.\n",
    "- Getter zwraca wartość.\n",
    "- Setter waliduje nowe saldo.\n",
    "- Dzięki enkapsulacji możemy dbać o poprawność stanu obiektu.\n"
   ],
   "id": "654234d1155d47bb"
  },
  {
   "metadata": {},
   "cell_type": "markdown",
   "source": [
    "# 6. Metody specjalne (dunder methods)\n",
    "\n"
   ],
   "id": "3de8cb310a87f493"
  },
  {
   "metadata": {
    "ExecuteTime": {
     "end_time": "2025-04-24T16:42:04.227722Z",
     "start_time": "2025-04-24T16:42:04.220851Z"
    }
   },
   "cell_type": "code",
   "source": [
    "# 6. Metody specjalne (dunder methods)\n",
    "class Wektor:\n",
    "    def __init__(self, x: float, y: float):\n",
    "        self.x = x\n",
    "        self.y = y\n",
    "\n",
    "    def __add__(self, inny):\n",
    "        return Wektor(self.x + inny.x, self.y + inny.y)\n",
    "\n",
    "    def __eq__(self, inny):\n",
    "        return self.x == inny.x and self.y == inny.y\n",
    "\n",
    "    def __repr__(self):\n",
    "        return f\"Wektor({self.x}, {self.y})\"\n",
    "\n",
    "# Test\n",
    "v1 = Wektor(1, 2)\n",
    "v2 = Wektor(3, 4)\n",
    "print(v1 + v2)           # Wektor(4, 6)\n",
    "print(v1 == Wektor(1,2)) # True\n"
   ],
   "id": "1eaccb0727f800c7",
   "outputs": [
    {
     "name": "stdout",
     "output_type": "stream",
     "text": [
      "Wektor(4, 6)\n",
      "True\n"
     ]
    }
   ],
   "execution_count": 6
  },
  {
   "metadata": {},
   "cell_type": "markdown",
   "source": [
    "Metody `__add__`, `__eq__`, `__repr__` pozwalają zdefiniować zachowanie operatorów i reprezentację tekstową.\n",
    "- Dodawanie wektorów przez `v1 + v2`.\n",
    "- Porównanie przez `==`.\n",
    "- Czytelne wyświetlanie obiektów.\n"
   ],
   "id": "3b6e9b09c3113c7"
  },
  {
   "metadata": {},
   "cell_type": "markdown",
   "source": [
    "# 7. Menedżer kontekstu (with)\n",
    "\n"
   ],
   "id": "53772f36913965b5"
  },
  {
   "metadata": {
    "ExecuteTime": {
     "end_time": "2025-04-24T16:42:04.263429Z",
     "start_time": "2025-04-24T16:42:04.257316Z"
    }
   },
   "cell_type": "code",
   "source": [
    "# 7. Menedżer kontekstu (with)\n",
    "class MenedzerPliku:\n",
    "    def __init__(self, nazwa, tryb):\n",
    "        self.nazwa = nazwa\n",
    "        self.tryb = tryb\n",
    "\n",
    "    def __enter__(self):\n",
    "        self.plik = open(self.nazwa, self.tryb)\n",
    "        return self.plik\n",
    "\n",
    "    def __exit__(self, typ, wartosc, tb):\n",
    "        self.plik.close()\n",
    "\n",
    "# Test\n",
    "with MenedzerPliku(\"przyklad.txt\", \"w\") as f:\n",
    "    f.write(\"Hello Jupyter\")\n"
   ],
   "id": "97db915f24aad6ff",
   "outputs": [],
   "execution_count": 7
  },
  {
   "metadata": {},
   "cell_type": "markdown",
   "source": [
    "Menedżer kontekstu upraszcza zarządzanie zasobami.\n",
    "- `__enter__` otwiera zasób.\n",
    "- `__exit__` dba o zamknięcie, nawet przy błędzie.\n"
   ],
   "id": "2512e9fdd9102eff"
  },
  {
   "metadata": {},
   "cell_type": "markdown",
   "source": [
    "# 8. Dekorator debugujący\n",
    "\n"
   ],
   "id": "669ae14d7c51012f"
  },
  {
   "metadata": {
    "ExecuteTime": {
     "end_time": "2025-04-24T16:42:04.298091Z",
     "start_time": "2025-04-24T16:42:04.289275Z"
    }
   },
   "cell_type": "code",
   "source": [
    "# 8. Dekorator debugujący\n",
    "def debuguj(funkcja):\n",
    "    def wrapper(*args, **kwargs):\n",
    "        print(f\"[DEBUG] Wywołuję {funkcja.__name__} z {args}, {kwargs}\")\n",
    "        wynik = funkcja(*args, **kwargs)\n",
    "        print(f\"[DEBUG] Wynik: {wynik}\")\n",
    "        return wynik\n",
    "    return wrapper\n",
    "\n",
    "class Matematyka:\n",
    "    @staticmethod\n",
    "    @debuguj\n",
    "    def dodaj(a, b):\n",
    "        return a + b\n",
    "\n",
    "# Test\n",
    "Matematyka.dodaj(5, 7)\n"
   ],
   "id": "2dcc9487a0168390",
   "outputs": [
    {
     "name": "stdout",
     "output_type": "stream",
     "text": [
      "[DEBUG] Wywołuję dodaj z (5, 7), {}\n",
      "[DEBUG] Wynik: 12\n"
     ]
    },
    {
     "data": {
      "text/plain": [
       "12"
      ]
     },
     "execution_count": 8,
     "metadata": {},
     "output_type": "execute_result"
    }
   ],
   "execution_count": 8
  },
  {
   "metadata": {},
   "cell_type": "markdown",
   "source": [
    "Dekorator `debuguj` loguje wywołanie funkcji i jej wynik.\n",
    "- Stosujemy `@debuguj` przed definicją metody.\n",
    "- Przydaje się do śledzenia przepływu wartości.\n"
   ],
   "id": "df31ec285b70b1c6"
  },
  {
   "metadata": {},
   "cell_type": "markdown",
   "source": [
    "# 9. Deskryptor typu\n",
    "\n"
   ],
   "id": "9e7c176dfe6973ae"
  },
  {
   "metadata": {
    "ExecuteTime": {
     "end_time": "2025-04-24T16:42:04.339226Z",
     "start_time": "2025-04-24T16:42:04.334346Z"
    }
   },
   "cell_type": "code",
   "source": [
    "# 9. Deskryptor typu\n",
    "class Typed:\n",
    "    def __init__(self, nazwa, typ):\n",
    "        self.nazwa = \"_\" + nazwa\n",
    "        self.typ = typ\n",
    "\n",
    "    def __get__(self, obj, objtype):\n",
    "        return getattr(obj, self.nazwa)\n",
    "\n",
    "    def __set__(self, obj, wartosc):\n",
    "        if not isinstance(wartosc, self.typ):\n",
    "            raise TypeError(f\"{self.nazwa} musi być typu {self.typ.__name__}\")\n",
    "        setattr(obj, self.nazwa, wartosc)\n",
    "\n",
    "class OsobaTyped:\n",
    "    imie = Typed(\"imie\", str)\n",
    "    wiek = Typed(\"wiek\", int)\n",
    "\n",
    "# Test\n",
    "ot = OsobaTyped()\n",
    "ot.imie = \"Kasia\"\n",
    "ot.wiek = 35\n",
    "# ot.wiek = \"trzydzieści pięć\"  # TypeError\n"
   ],
   "id": "356a8eecca072db3",
   "outputs": [],
   "execution_count": 9
  },
  {
   "metadata": {},
   "cell_type": "markdown",
   "source": [
    "Deskryptory dają pełną kontrolę nad odczytem i zapisem atrybutów.\n",
    "- `Typed` wymusza typy danych.\n",
    "- Przez przypisanie do klasy `OsobaTyped`, każde ustawienie `imie` i `wiek` jest sprawdzane.\n"
   ],
   "id": "fd792b43693b8e52"
  },
  {
   "metadata": {},
   "cell_type": "markdown",
   "source": [
    "# 10. Metaklasa\n",
    "\n"
   ],
   "id": "3b94950d415e9202"
  },
  {
   "metadata": {
    "ExecuteTime": {
     "end_time": "2025-04-24T16:42:04.366079Z",
     "start_time": "2025-04-24T16:42:04.361123Z"
    }
   },
   "cell_type": "code",
   "source": [
    "# 10. Metaklasa\n",
    "class Metaklasa(type):\n",
    "    def __new__(mcs, nazwa, bazy, slownik):\n",
    "        print(f\"Definiuję klasę {nazwa}\")\n",
    "        return super().__new__(mcs, nazwa, bazy, slownik)\n",
    "\n",
    "class MojKlient(metaclass=Metaklasa):\n",
    "    pass\n",
    "\n",
    "# Przy imporcie/modułu zobaczysz komunikat\n"
   ],
   "id": "4412f629eb4ddb8b",
   "outputs": [
    {
     "name": "stdout",
     "output_type": "stream",
     "text": [
      "Definiuję klasę MojKlient\n"
     ]
    }
   ],
   "execution_count": 10
  },
  {
   "metadata": {},
   "cell_type": "markdown",
   "source": [
    "Metaklasy pozwalają modyfikować definicję klas w momencie tworzenia.\n",
    "- `Metaklasa.__new__` jest wywoływana przy definicji każdej klasy z nią związanej.\n"
   ],
   "id": "6effbfa2c7928a20"
  },
  {
   "metadata": {},
   "cell_type": "markdown",
   "source": [
    "# 11. Wzorce projektowe: Singleton i Fabryka\n",
    "\n"
   ],
   "id": "110552e0db4b8e3d"
  },
  {
   "metadata": {
    "ExecuteTime": {
     "end_time": "2025-04-24T16:42:04.400508Z",
     "start_time": "2025-04-24T16:42:04.393209Z"
    }
   },
   "cell_type": "code",
   "source": [
    "# 11. Wzorce projektowe: Singleton i Fabryka\n",
    "\n",
    "# Singleton\n",
    "class Singleton(type):\n",
    "    _instancje = {}\n",
    "    def __call__(cls, *args, **kwargs):\n",
    "        if cls not in cls._instancje:\n",
    "            cls._instancje[cls] = super().__call__(*args, **kwargs)\n",
    "        return cls._instancje[cls]\n",
    "\n",
    "class Konfiguracja(metaclass=Singleton):\n",
    "    pass\n",
    "\n",
    "# Fabryka\n",
    "class Pojazd:\n",
    "    def jedz(self):\n",
    "        pass\n",
    "\n",
    "class Rower(Pojazd):\n",
    "    def jedz(self):\n",
    "        print(\"Pedałuję\")\n",
    "\n",
    "class Samochod(Pojazd):\n",
    "    def jedz(self):\n",
    "        print(\"Jadę silnikiem spalinowym\")\n",
    "\n",
    "def fabryka_pojazdu(typ: str) -> Pojazd:\n",
    "    if typ == \"rower\":\n",
    "        return Rower()\n",
    "    if typ == \"samochód\":\n",
    "        return Samochod()\n",
    "    raise ValueError(\"Nieznany typ pojazdu\")\n",
    "\n",
    "# Test\n",
    "k1 = Konfiguracja()\n",
    "k2 = Konfiguracja()\n",
    "print(k1 is k2)  # True\n",
    "\n",
    "pojazd = fabryka_pojazdu(\"samochód\")\n",
    "pojazd.jedz()\n"
   ],
   "id": "7ae7aa804d489aca",
   "outputs": [
    {
     "name": "stdout",
     "output_type": "stream",
     "text": [
      "True\n",
      "Jadę silnikiem spalinowym\n"
     ]
    }
   ],
   "execution_count": 11
  },
  {
   "metadata": {},
   "cell_type": "markdown",
   "source": [
    "- **Singleton** przez metaklasę gwarantuje jedną instancję klasy `Konfiguracja`.\n",
    "- **Fabryka** (`fabryka_pojazdu`) zwraca obiekt na podstawie nazwy, ukrywając szczegóły tworzenia.\n"
   ],
   "id": "dacea47fa20234c1"
  },
  {
   "metadata": {},
   "cell_type": "markdown",
   "source": "## Dekoratory – przykłady",
   "id": "e187c82626925542"
  },
  {
   "metadata": {
    "ExecuteTime": {
     "end_time": "2025-04-24T16:42:04.492343Z",
     "start_time": "2025-04-24T16:42:04.427858Z"
    }
   },
   "cell_type": "code",
   "source": [
    "# Dekoratory – przykłady\n",
    "\n",
    "import time\n",
    "from functools import wraps\n",
    "\n",
    "# 1. Prosty dekorator mierzący czas wykonania funkcji\n",
    "def zmierz_czas(func):\n",
    "    @wraps(func)\n",
    "    def wrapper(*args, **kwargs):\n",
    "        start = time.perf_counter()\n",
    "        wynik = func(*args, **kwargs)\n",
    "        koniec = time.perf_counter()\n",
    "        print(f\"[DEBUG] Funkcja {func.__name__!r} wykonała się w {koniec - start:.6f} sek.\")\n",
    "        return wynik\n",
    "    return wrapper\n",
    "\n",
    "# 2. Dekorator z parametrem (powtarza wywołanie n razy)\n",
    "def powtarzaj(n: int):\n",
    "    def dekorator(func):\n",
    "        @wraps(func)\n",
    "        def wrapper(*args, **kwargs):\n",
    "            last = None\n",
    "            for i in range(1, n+1):\n",
    "                print(f\"[DEBUG] Wywołanie {i}/{n} funkcji {func.__name__!r}\")\n",
    "                last = func(*args, **kwargs)\n",
    "            return last\n",
    "        return wrapper\n",
    "    return dekorator\n",
    "\n",
    "# 3. Użycie dekoratorów\n",
    "\n",
    "@zmierz_czas\n",
    "@powtarzaj(3)\n",
    "def oblicz_sume(n):\n",
    "    \"\"\"Funkcja sumująca liczby od 1 do n.\"\"\"\n",
    "    return sum(range(1, n+1))\n",
    "\n",
    "# Test\n",
    "print(\"Wynik:\", oblicz_sume(1000000))\n"
   ],
   "id": "e4c5a18049dcfcd6",
   "outputs": [
    {
     "name": "stdout",
     "output_type": "stream",
     "text": [
      "[DEBUG] Wywołanie 1/3 funkcji 'oblicz_sume'\n",
      "[DEBUG] Wywołanie 2/3 funkcji 'oblicz_sume'\n",
      "[DEBUG] Wywołanie 3/3 funkcji 'oblicz_sume'\n",
      "[DEBUG] Funkcja 'oblicz_sume' wykonała się w 0.058298 sek.\n",
      "Wynik: 500000500000\n"
     ]
    }
   ],
   "execution_count": 12
  },
  {
   "metadata": {},
   "cell_type": "markdown",
   "source": [
    "## Szczegółowe wyjaśnienie dekoratorów\n",
    "\n",
    "1. **Co to jest dekorator?**\n",
    "   - Dekorator to funkcja, która przyjmuje inną funkcję jako argument i zwraca nową funkcję (zwykle `tzw. wrapper`), rozszerzając lub modyfikując oryginalne zachowanie.\n",
    "\n",
    "2. **`@wraps(func)`**\n",
    "   - Importowany z `functools`.\n",
    "   - Zachowuje metadane oryginalnej funkcji (`__name__`, `__doc__`), by wrapper wyglądał „jak oryginał”.\n",
    "\n",
    "3. **Przykład prostego dekoratora `zmierz_czas`**\n",
    "   ```python\n",
    "   def zmierz_czas(func):\n",
    "       @wraps(func)\n",
    "       def wrapper(*args, **kwargs):\n",
    "           start = time.perf_counter()\n",
    "           wynik = func(*args, **kwargs)\n",
    "           koniec = time.perf_counter()\n",
    "           print(f\"[DEBUG] Funkcja {func.__name__!r} wykonała się w {koniec - start:.6f} sek.\")\n",
    "           return wynik\n",
    "       return wrapper\n"
   ],
   "id": "31738e6f13ea370e"
  },
  {
   "metadata": {
    "ExecuteTime": {
     "end_time": "2025-04-24T16:42:04.541897Z",
     "start_time": "2025-04-24T16:42:04.537657Z"
    }
   },
   "cell_type": "code",
   "source": [
    "def powtarzaj(n: int):\n",
    "    def dekorator(func):\n",
    "        @wraps(func)\n",
    "        def wrapper(*args, **kwargs):\n",
    "            last = None\n",
    "            for i in range(1, n+1):\n",
    "                print(f\"[DEBUG] Wywołanie {i}/{n} funkcji {func.__name__!r}\")\n",
    "                last = func(*args, **kwargs)\n",
    "            return last\n",
    "        return wrapper\n",
    "    return dekorator\n"
   ],
   "id": "c39ac48304f1f0a7",
   "outputs": [],
   "execution_count": 13
  },
  {
   "metadata": {},
   "cell_type": "markdown",
   "source": [
    "Zwraca funkcję dekorator, która z kolei przyjmuje func.\n",
    "\n",
    "Wewnątrz wrappera wywołujemy oryginał n razy."
   ],
   "id": "3c980956434e2175"
  },
  {
   "metadata": {
    "ExecuteTime": {
     "end_time": "2025-04-24T16:42:04.566925Z",
     "start_time": "2025-04-24T16:42:04.563316Z"
    }
   },
   "cell_type": "code",
   "source": [
    "@zmierz_czas\n",
    "@powtarzaj(3)\n",
    "def oblicz_sume(n):\n",
    "    return sum(range(1, n+1))\n"
   ],
   "id": "ae86c4ff4aef38d4",
   "outputs": [],
   "execution_count": 14
  },
  {
   "metadata": {},
   "cell_type": "markdown",
   "source": [
    "Najpierw działa powtarzaj(3), potem owinięty wynik przekazywany jest do zmierz_czas.\n",
    "\n",
    "Kolejność: od najbliższego do funkcji (@powtarzaj), do najdalszego (@zmierz_czas)."
   ],
   "id": "54f0fce9c857034a"
  },
  {
   "metadata": {},
   "cell_type": "markdown",
   "source": [
    "## Metaklasy w Pythonie\n",
    "\n",
    "### 1. Prosta metaklasa drukująca nazwę klasy\n",
    "\n",
    "```python\n",
    "class MetaDruk(type):\n",
    "    def __new__(mcs, name, bases, namespace):\n",
    "        print(f\"Definiuję klasę: {name}\")\n",
    "        return super().__new__(mcs, name, bases, namespace)\n",
    "\n",
    "class Przyklad(metaclass=MetaDruk):\n",
    "    pass\n",
    "\n",
    "# Po załadowaniu modułu zobaczysz: Definiuję klasę: Przyklad\n"
   ],
   "id": "931d5c6c47ac51aa"
  },
  {
   "metadata": {},
   "cell_type": "markdown",
   "source": [
    "- `MetaDruk` dziedziczy po `type`.\n",
    "- `__new__` wywoływane przy definiowaniu każdej klasy używającej tej metaklasy.\n",
    "- Drukuje nazwę klasy, zanim zostanie utworzona.\n"
   ],
   "id": "1f6f279df4e1c26b"
  },
  {
   "metadata": {},
   "cell_type": "markdown",
   "source": "## 2. Metaklasa dodająca atrybut do każdej klasy",
   "id": "85395afed7c7239"
  },
  {
   "metadata": {
    "ExecuteTime": {
     "end_time": "2025-04-24T16:42:04.597514Z",
     "start_time": "2025-04-24T16:42:04.591711Z"
    }
   },
   "cell_type": "code",
   "source": [
    "class MetaAtrybut(type):\n",
    "    def __new__(mcs, name, bases, namespace):\n",
    "        namespace['wersja'] = 1.0\n",
    "        cls = super().__new__(mcs, name, bases, namespace)\n",
    "        return cls\n",
    "\n",
    "class Produkt(metaclass=MetaAtrybut):\n",
    "    def __init__(self, nazwa):\n",
    "        self.nazwa = nazwa\n",
    "\n",
    "# Test\n",
    "p = Produkt(\"Zegarek\")\n",
    "print(p.wersja)   # 1.0\n"
   ],
   "id": "7564e3e9e2582e9",
   "outputs": [
    {
     "name": "stdout",
     "output_type": "stream",
     "text": [
      "1.0\n"
     ]
    }
   ],
   "execution_count": 15
  },
  {
   "metadata": {},
   "cell_type": "markdown",
   "source": [
    "- W `__new__` modyfikujemy słownik `namespace` przed utworzeniem klasy.\n",
    "- Dodajemy atrybut klasowy `wersja=1.0` do każdej klasy korzystającej z `MetaAtrybut`.\n"
   ],
   "id": "4b082783733145e3"
  },
  {
   "metadata": {},
   "cell_type": "markdown",
   "source": "## 3. Rejestr klas – wzorzec Registry",
   "id": "c83bc099df7f5fd6"
  },
  {
   "metadata": {
    "ExecuteTime": {
     "end_time": "2025-04-24T16:42:04.643394Z",
     "start_time": "2025-04-24T16:42:04.637612Z"
    }
   },
   "cell_type": "code",
   "source": [
    "class MetaRejestr(type):\n",
    "    rejestr = {}\n",
    "\n",
    "    def __new__(mcs, name, bases, namespace):\n",
    "        cls = super().__new__(mcs, name, bases, namespace)\n",
    "        if name != 'Bazowa':\n",
    "            mcs.rejestr[name] = cls\n",
    "        return cls\n",
    "\n",
    "    @classmethod\n",
    "    def pokaz_rejestr(mcs):\n",
    "        return mcs.rejestr\n",
    "\n",
    "class Bazowa(metaclass=MetaRejestr):\n",
    "    pass\n",
    "\n",
    "class Pies(Bazowa):\n",
    "    pass\n",
    "\n",
    "class Kot(Bazowa):\n",
    "    pass\n",
    "\n",
    "# Test\n",
    "print(MetaRejestr.pokaz_rejestr())\n",
    "# {'Pies': <class '__main__.Pies'>, 'Kot': <class '__main__.Kot'>}\n"
   ],
   "id": "dde3efa002bb85d0",
   "outputs": [
    {
     "name": "stdout",
     "output_type": "stream",
     "text": [
      "{'Pies': <class '__main__.Pies'>, 'Kot': <class '__main__.Kot'>}\n"
     ]
    }
   ],
   "execution_count": 16
  },
  {
   "metadata": {},
   "cell_type": "markdown",
   "source": [
    "- `MetaRejestr` tworzy słownik `rejestr`, w którym przechowuje wszystkie podklasy.\n",
    "- W `__new__` rejestrujemy każdą nowo definiowaną klasę (poza `Bazowa`).\n",
    "- Metoda `pokaz_rejestr` pozwala pobrać zarejestrowane klasy.\n"
   ],
   "id": "45541c4e0dca3ae0"
  },
  {
   "metadata": {},
   "cell_type": "markdown",
   "source": "## 4. Kontrola tworzenia instancji (Singleton przez metaklasę)",
   "id": "760032baefa2632d"
  },
  {
   "metadata": {
    "ExecuteTime": {
     "end_time": "2025-04-24T16:42:04.691851Z",
     "start_time": "2025-04-24T16:42:04.685950Z"
    }
   },
   "cell_type": "code",
   "source": [
    "class MetaSingleton(type):\n",
    "    _instancje = {}\n",
    "\n",
    "    def __call__(cls, *args, **kwargs):\n",
    "        if cls not in cls._instancje:\n",
    "            cls._instancje[cls] = super().__call__(*args, **kwargs)\n",
    "        return cls._instancje[cls]\n",
    "\n",
    "class Konfiguracja(metaclass=MetaSingleton):\n",
    "    def __init__(self):\n",
    "        self.setting = \"domyślne\"\n",
    "\n",
    "# Test\n",
    "k1 = Konfiguracja()\n",
    "k2 = Konfiguracja()\n",
    "print(k1 is k2)  # True\n"
   ],
   "id": "c80cb2346b0a0226",
   "outputs": [
    {
     "name": "stdout",
     "output_type": "stream",
     "text": [
      "True\n"
     ]
    }
   ],
   "execution_count": 17
  },
  {
   "metadata": {},
   "cell_type": "markdown",
   "source": [
    "- `MetaSingleton` nadpisuje `__call__`, by zwrócić zawsze tę samą instancję klasy.\n",
    "- Wzorzec Singleton gwarantuje jedną instancję `Konfiguracja` w całej aplikacji.\n"
   ],
   "id": "a718ad1a93fd490b"
  }
 ],
 "metadata": {
  "kernelspec": {
   "display_name": "Python 3",
   "language": "python",
   "name": "python3"
  },
  "language_info": {
   "codemirror_mode": {
    "name": "ipython",
    "version": 2
   },
   "file_extension": ".py",
   "mimetype": "text/x-python",
   "name": "python",
   "nbconvert_exporter": "python",
   "pygments_lexer": "ipython2",
   "version": "2.7.6"
  }
 },
 "nbformat": 4,
 "nbformat_minor": 5
}
