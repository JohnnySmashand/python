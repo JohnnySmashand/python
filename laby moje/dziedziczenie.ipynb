{
 "cells": [
  {
   "cell_type": "code",
   "id": "initial_id",
   "metadata": {
    "collapsed": true,
    "ExecuteTime": {
     "end_time": "2025-03-21T07:57:34.902234Z",
     "start_time": "2025-03-21T07:57:34.881500Z"
    }
   },
   "source": [
    "#utówrz klasę garażu która ma jedno pole pojazdy będące listą pojazdów w garażu ma metodę#dodajojazd ma metodę przedstaw pojazdy\n",
    "class Garaz:\n",
    "    def __init__(self):\n",
    "        self.pojazdy = []\n",
    "\n",
    "    def dodaj_pojazd(self, pojazd):\n",
    "        self.pojazdy.append(pojazd)\n",
    "        print(f'Pojazd \"{pojazd}\" został dodany do garażu.')\n",
    "\n",
    "    def przedstaw_pojazdy(self):\n",
    "        if not self.pojazdy:\n",
    "            print(\"Garaż jest pusty.\")\n",
    "        else:\n",
    "            print(\"Pojazdy w garażu:\")\n",
    "            for numer, pojazd in enumerate(self.pojazdy, start=1):\n",
    "                print(f\"{numer}. {pojazd}\")\n",
    "\n",
    "\n",
    "moj_garaz = Garaz()\n",
    "moj_garaz.dodaj_pojazd(\"Mercedes AMG GTR\")\n",
    "moj_garaz.dodaj_pojazd(\"BMW M8 Competition\")\n",
    "moj_garaz.przedstaw_pojazdy()\n",
    "\n"
   ],
   "outputs": [
    {
     "name": "stdout",
     "output_type": "stream",
     "text": [
      "Pojazd \"Mercedes AMG GTR\" został dodany do garażu.\n",
      "Pojazd \"BMW M8 Competition\" został dodany do garażu.\n",
      "Pojazdy w garażu:\n",
      "1. Mercedes AMG GTR\n",
      "2. BMW M8 Competition\n"
     ]
    }
   ],
   "execution_count": 19
  },
  {
   "metadata": {},
   "cell_type": "markdown",
   "source": " Zwierzęta to klasa głowna, potem są dwie klasy kręgowce i bezkręgowce w kręgowcach są ssaki i ptaki a w bezkręgowcach pierścienice i owady. Pola będą takie \"gatunek\" metody \"czy_ma_kręgosłup\" \"opis()\" \"przemieszczanie() - będące stringiem\"",
   "id": "1e36c0848f090efa"
  },
  {
   "metadata": {
    "ExecuteTime": {
     "end_time": "2025-03-21T08:23:39.816013Z",
     "start_time": "2025-03-21T08:23:39.791344Z"
    }
   },
   "cell_type": "code",
   "source": [
    "class Zwierzeta:\n",
    "    def __init__(self, gatunek):\n",
    "        self.gatunek = gatunek\n",
    "\n",
    "    def czy_ma_kregoslup(self):\n",
    "        return self.gatunek == \"Kręgowce\" or self.gatunek == \"Bezkręgowce\"\n",
    "    def opis(self):\n",
    "        return f\"gatunek: {self.gatunek}\"\n",
    "    def przemieszczanie(self):\n",
    "        return f\"gatunek: {self.gatunek}\"\n",
    "\n",
    "class Kręgowce(Zwierzeta):\n",
    "    def czy_ma_kregoslup(self):\n",
    "        return True\n",
    "class Bezkręgowce(Zwierzeta):\n",
    "    def czy_ma_kregoslup(self):\n",
    "        return False\n",
    "class Ssaki(Kręgowce):\n",
    "    def przemieszczanie(self):\n",
    "        return \"Chodzi na nogach albo biega\"\n",
    "class Ptaki(Kręgowce):\n",
    "    def przemieszczanie(self):\n",
    "        return \"Lata jak orel\"\n",
    "class Pierścienice(Bezkręgowce):\n",
    "    def przemieszczanie(self):\n",
    "        return \"Pełza jak żmija pozdro\"\n",
    "class Owad(Bezkręgowce):\n",
    "    def przemieszczanie(self):\n",
    "        return \"Lata jak Ania która nastąpiła na minę przeciwpiechotną\"\n",
    "\n",
    "mój_ptak = Ptaki(\"ptak\")\n",
    "print(mój_ptak.opis())\n",
    "print(f\"Czy ma kręgosłup? {mój_ptak.czy_ma_kregoslup()}\")\n",
    "print(f\"Sposób przemieszczania: {mój_ptak.przemieszczanie()}\")\n"
   ],
   "id": "20f70c3e531bcf82",
   "outputs": [
    {
     "name": "stdout",
     "output_type": "stream",
     "text": [
      "gatunek: ptak\n",
      "Czy ma kręgosłup? True\n",
      "Sposób przemieszczania: Lata jak orel\n"
     ]
    }
   ],
   "execution_count": 28
  }
 ],
 "metadata": {
  "kernelspec": {
   "display_name": "Python 3",
   "language": "python",
   "name": "python3"
  },
  "language_info": {
   "codemirror_mode": {
    "name": "ipython",
    "version": 2
   },
   "file_extension": ".py",
   "mimetype": "text/x-python",
   "name": "python",
   "nbconvert_exporter": "python",
   "pygments_lexer": "ipython2",
   "version": "2.7.6"
  }
 },
 "nbformat": 4,
 "nbformat_minor": 5
}
