{
 "cells": [
  {
   "metadata": {
    "ExecuteTime": {
     "end_time": "2025-04-04T06:21:19.031452Z",
     "start_time": "2025-04-04T06:21:18.964718Z"
    }
   },
   "cell_type": "code",
   "source": [
    "import numpy as np\n",
    "from jupyter_lsp.serverextension import initialize\n",
    "\n",
    "\n",
    "class KlasaStatyczna:\n",
    "\n",
    "    instance_counter = 0\n",
    "    def __init__(self,x):\n",
    "        self.x = x\n",
    "        KlasaStatyczna.instance_counter += 1\n",
    "\n",
    "    def __del__(self):\n",
    "        KlasaStatyczna.instance_counter -= 1\n",
    "    @staticmethod\n",
    "    def static_method():\n",
    "        print(\"Jestem metoda statyczna\")\n",
    "\n",
    "    @classmethod\n",
    "    def licznik_instancji(cls):\n",
    "        print(f\"Liczba instancji klasy {cls.__name__} to {cls.instance_counter}\")\n",
    "\n",
    "\n",
    "    @classmethod\n",
    "    def ranom_object(cls):\n",
    "        rv = np.random.normal(0,2)\n",
    "        return cls(rv)\n",
    "\n"
   ],
   "id": "d71e097a142e814f",
   "outputs": [],
   "execution_count": 13
  },
  {
   "metadata": {
    "ExecuteTime": {
     "end_time": "2025-04-04T06:21:12.106638Z",
     "start_time": "2025-04-04T06:21:12.099218Z"
    }
   },
   "cell_type": "code",
   "source": "KlasaStatyczna.static_method()",
   "id": "285f97cdc94621dc",
   "outputs": [
    {
     "name": "stdout",
     "output_type": "stream",
     "text": [
      "Jestem metoda statyczna\n"
     ]
    }
   ],
   "execution_count": 10
  },
  {
   "metadata": {
    "ExecuteTime": {
     "end_time": "2025-04-04T06:21:12.188555Z",
     "start_time": "2025-04-04T06:21:12.173979Z"
    }
   },
   "cell_type": "code",
   "source": "KlasaStatyczna.licznik_instancji()",
   "id": "b012f0c1d31e551f",
   "outputs": [
    {
     "name": "stdout",
     "output_type": "stream",
     "text": [
      "Liczba instancji klasy KlasaStatyczna to 0\n"
     ]
    }
   ],
   "execution_count": 11
  },
  {
   "metadata": {
    "ExecuteTime": {
     "end_time": "2025-04-04T06:21:12.225100Z",
     "start_time": "2025-04-04T06:21:12.218560Z"
    }
   },
   "cell_type": "code",
   "source": [
    "o1 = KlasaStatyczna(1)\n",
    "o2 = KlasaStatyczna(2)\n",
    "o3 = KlasaStatyczna(3)\n",
    "KlasaStatyczna.licznik_instancji()\n",
    "del o2\n",
    "KlasaStatyczna.licznik_instancji()"
   ],
   "id": "246185b10fa23a07",
   "outputs": [
    {
     "name": "stdout",
     "output_type": "stream",
     "text": [
      "Liczba instancji klasy KlasaStatyczna to 1\n",
      "Liczba instancji klasy KlasaStatyczna to 0\n"
     ]
    }
   ],
   "execution_count": 12
  },
  {
   "metadata": {
    "ExecuteTime": {
     "end_time": "2025-04-04T06:22:32.896628Z",
     "start_time": "2025-04-04T06:22:32.887078Z"
    }
   },
   "cell_type": "code",
   "source": [
    "o4 = KlasaStatyczna.ranom_object()\n",
    "o4.x"
   ],
   "id": "e1ff2564c3c52fb",
   "outputs": [
    {
     "data": {
      "text/plain": [
       "4.747817518361539"
      ]
     },
     "execution_count": 16,
     "metadata": {},
     "output_type": "execute_result"
    }
   ],
   "execution_count": 16
  },
  {
   "metadata": {},
   "cell_type": "markdown",
   "source": [
    "# Zadanie: Implementacja klasy `Temperatura`\n",
    "\n",
    "Zaimplementuj klasę `Temperatura` w Pythonie spełniającą następujące wymagania:\n",
    "\n",
    "## Wymagania\n",
    "\n",
    "1. **Metody statyczne**:\n",
    "   - Konwersja Fahrenheit → Celsius\n",
    "   - Konwersja Celsius → Fahrenheit\n",
    "\n",
    "2. **Przechowywanie wartości**:\n",
    "   - Obiekt ma przechowywać **wyłącznie** temperaturę w stopniach Celsjusza\n",
    "\n",
    "3. **Metody klasowe**:\n",
    "   - Tworzenie obiektu poprzez podanie temperatury w Fahrenheitach\n",
    "   - Tworzenie obiektu poprzez podanie temperatury w Kelvinach\n",
    "\n",
    "## Uwagi\n",
    "\n",
    "- Zachowaj dokładnie podaną specyfikację\n",
    "- Pamiętaj o odpowiednich dekoratorach (@staticmethod, @classmethod)\n",
    "- Klasa powinna być w pełni funkcjonalna zgodnie z wymaganiami"
   ],
   "id": "b1482abf5dc34b34"
  },
  {
   "metadata": {
    "ExecuteTime": {
     "end_time": "2025-04-04T06:49:23.645887Z",
     "start_time": "2025-04-04T06:49:23.629861Z"
    }
   },
   "cell_type": "code",
   "source": [
    "class Temperatura:\n",
    "    def __init__(self, celsius: float):\n",
    "        self.celsius = celsius\n",
    "\n",
    "    @staticmethod\n",
    "    def celsius_na_fahrenheit(c: float) -> float:\n",
    "        return (c * 9/5) + 32\n",
    "\n",
    "    @staticmethod\n",
    "    def fahrenheit_na_celsius(f: float) -> float:\n",
    "        return (f - 32) * 5/9\n",
    "\n",
    "    @staticmethod\n",
    "    def celsius_na_kelvin(c: float) -> float:\n",
    "        return c + 273.15\n",
    "\n",
    "    @staticmethod\n",
    "    def kelvin_na_celsius(k: float) -> float:\n",
    "        return k - 273.15\n",
    "\n",
    "    def to_fahrenheit(self) -> float:\n",
    "        return self.celsius_na_fahrenheit(self.celsius)\n",
    "\n",
    "    def to_kelvin(self) -> float:\n",
    "        return self.celsius_na_kelvin(self.celsius)\n",
    "\n",
    "    @classmethod\n",
    "    def from_fahrenheit(cls, fahrenheit: float):\n",
    "        celsius = cls.fahrenheit_na_celsius(fahrenheit)\n",
    "        return cls(celsius)\n",
    "\n",
    "    @classmethod\n",
    "    def from_kelvin(cls, kelvin: float):\n",
    "        celsius = cls.kelvin_na_celsius(kelvin)\n",
    "        return cls(celsius)\n",
    "\n",
    "    def __repr__(self):\n",
    "        return f\"Temperatura({self.celsius} °C)\""
   ],
   "id": "14e9d322560e6610",
   "outputs": [],
   "execution_count": 29
  },
  {
   "metadata": {
    "ExecuteTime": {
     "end_time": "2025-04-04T06:58:38.490377Z",
     "start_time": "2025-04-04T06:58:38.480039Z"
    }
   },
   "cell_type": "code",
   "source": [
    "\n",
    "t1 = Temperatura(30)\n",
    "print(t1)\n",
    "\n",
    "t2 = Temperatura.from_fahrenheit(90)\n",
    "print(t2)\n",
    "\n",
    "t3 = Temperatura.from_kelvin(299.15)\n",
    "print(t3)\n",
    "\n",
    "\n",
    "print(t1.to_fahrenheit())\n",
    "print(t1.to_kelvin())\n"
   ],
   "id": "ade2aa9fe3321799",
   "outputs": [
    {
     "name": "stdout",
     "output_type": "stream",
     "text": [
      "Temperatura(30 °C)\n",
      "Temperatura(32.22222222222222 °C)\n",
      "Temperatura(26.0 °C)\n",
      "86.0\n",
      "303.15\n"
     ]
    }
   ],
   "execution_count": 37
  },
  {
   "metadata": {},
   "cell_type": "markdown",
   "source": "# METAKLASY",
   "id": "f62c84f8e3349c4a"
  },
  {
   "metadata": {
    "ExecuteTime": {
     "end_time": "2025-04-04T07:09:08.808351Z",
     "start_time": "2025-04-04T07:09:08.797710Z"
    }
   },
   "cell_type": "code",
   "source": [
    "class MetaKlasy:\n",
    "    pass\n",
    "\n",
    "MetaKlasy = type('MetaKlasy', (object,), {\"x1\": 5, \"x2\": 7})\n",
    "\n",
    "class UpperCaseAtributeMeta(type):\n",
    "    def __new__(cls, name, bases, dct):\n",
    "        uppercase_attributes = {}\n",
    "        for key, value in dct.items():\n",
    "            if not key.startswith(\"__\"):\n",
    "                uppercase_attributes[key.upper()] = value\n",
    "\n",
    "        return type.__new__(cls, name, bases, uppercase_attributes)\n",
    "\n",
    "class KlasaTestowa(metaclass=UpperCaseAtributeMeta):\n",
    "    attribute1 = 1\n",
    "    attribute2 = 2\n"
   ],
   "id": "3a8a5e954cae230b",
   "outputs": [],
   "execution_count": 42
  },
  {
   "metadata": {
    "ExecuteTime": {
     "end_time": "2025-04-04T07:11:07.105327Z",
     "start_time": "2025-04-04T07:11:07.057056Z"
    }
   },
   "cell_type": "code",
   "source": "KlasaTestowa.attribute1",
   "id": "3d28baed31ba34c8",
   "outputs": [
    {
     "ename": "AttributeError",
     "evalue": "type object 'KlasaTestowa' has no attribute 'attribute1'",
     "output_type": "error",
     "traceback": [
      "\u001B[31m---------------------------------------------------------------------------\u001B[39m",
      "\u001B[31mAttributeError\u001B[39m                            Traceback (most recent call last)",
      "\u001B[36mCell\u001B[39m\u001B[36m \u001B[39m\u001B[32mIn[46]\u001B[39m\u001B[32m, line 1\u001B[39m\n\u001B[32m----> \u001B[39m\u001B[32m1\u001B[39m \u001B[43mKlasaTestowa\u001B[49m\u001B[43m.\u001B[49m\u001B[43mattribute1\u001B[49m\n",
      "\u001B[31mAttributeError\u001B[39m: type object 'KlasaTestowa' has no attribute 'attribute1'"
     ]
    }
   ],
   "execution_count": 46
  },
  {
   "metadata": {
    "ExecuteTime": {
     "end_time": "2025-04-04T07:11:05.782004Z",
     "start_time": "2025-04-04T07:11:05.765408Z"
    }
   },
   "cell_type": "code",
   "source": "KlasaTestowa.ATTRIBUTE1",
   "id": "c9732914b52b8fbe",
   "outputs": [
    {
     "data": {
      "text/plain": [
       "1"
      ]
     },
     "execution_count": 45,
     "metadata": {},
     "output_type": "execute_result"
    }
   ],
   "execution_count": 45
  },
  {
   "metadata": {
    "ExecuteTime": {
     "end_time": "2025-04-04T07:17:54.711482Z",
     "start_time": "2025-04-04T07:17:54.701745Z"
    }
   },
   "cell_type": "code",
   "source": [
    "class MethodNameValidatorMeta(type):\n",
    "    def __new__(cls, name, bases, dct):\n",
    "        for key in dct:\n",
    "            if callable(dct[key]) and not key.startswith(\"__\") and key[0].isupper():\n",
    "                raise ValueError(f\"Method name '{key}' cannot start with an uppercase letter.\")\n",
    "        return super().__new__(cls, name, bases, dct)\n"
   ],
   "id": "e011dcd71d3f8fb0",
   "outputs": [],
   "execution_count": 49
  },
  {
   "metadata": {
    "ExecuteTime": {
     "end_time": "2025-04-04T07:17:56.341073Z",
     "start_time": "2025-04-04T07:17:56.332996Z"
    }
   },
   "cell_type": "code",
   "source": [
    "class KlasaTestowa2(metaclass=MethodNameValidatorMeta):\n",
    "    def dobra_nazwa(self, x):\n",
    "        return x\n"
   ],
   "id": "3695b44b6d92f7be",
   "outputs": [],
   "execution_count": 51
  },
  {
   "metadata": {
    "ExecuteTime": {
     "end_time": "2025-04-11T06:05:40.190516Z",
     "start_time": "2025-04-11T06:05:40.163282Z"
    }
   },
   "cell_type": "code",
   "source": [
    "class Singleton:\n",
    "    _instance = None\n",
    "\n",
    "    def __new__(cls, *args, **kwargs):\n",
    "        if not cls._instance:\n",
    "            cls._instance = super(Singleton, cls).__new__(cls)\n",
    "        return cls._instance\n",
    "\n",
    "    def __init__(self, value):\n",
    "        if not hasattr(self, '_initialized'):  # Dodano cudzysłowy wokół '_initialized'\n",
    "            self.value = value\n",
    "            self._initialized = True\n",
    "\n",
    "# Tworzenie instancji\n",
    "Singleton1 = Singleton(10)\n",
    "Singleton2 = Singleton(20)\n",
    "\n",
    "# Drukowanie wartości\n",
    "print(Singleton1.value)\n",
    "print(Singleton2.value)\n",
    "\n",
    "# Sprawdzenie, czy obie zmienne wskazują na tę samą instancję\n",
    "print(Singleton1 is Singleton2)\n"
   ],
   "id": "68b4b9bcc0e62e56",
   "outputs": [
    {
     "name": "stdout",
     "output_type": "stream",
     "text": [
      "10\n",
      "10\n",
      "True\n"
     ]
    }
   ],
   "execution_count": 1
  }
 ],
 "metadata": {
  "kernelspec": {
   "display_name": "Python 3",
   "language": "python",
   "name": "python3"
  },
  "language_info": {
   "codemirror_mode": {
    "name": "ipython",
    "version": 2
   },
   "file_extension": ".py",
   "mimetype": "text/x-python",
   "name": "python",
   "nbconvert_exporter": "python",
   "pygments_lexer": "ipython2",
   "version": "2.7.6"
  }
 },
 "nbformat": 4,
 "nbformat_minor": 5
}
