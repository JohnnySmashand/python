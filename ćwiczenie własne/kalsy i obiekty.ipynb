{
 "cells": [
  {
   "cell_type": "code",
   "id": "initial_id",
   "metadata": {
    "collapsed": true,
    "ExecuteTime": {
     "end_time": "2025-04-23T11:35:12.510364Z",
     "start_time": "2025-04-23T11:35:12.505524Z"
    }
   },
   "source": [
    "class Pies:\n",
    "    \"\"\"\n",
    "    Klasa reprezentująca psa.\n",
    "    \"\"\"\n",
    "    def __init__(self, imie, wiek):\n",
    "        # konstruktor – uruchamiany przy tworzeniu obiektu\n",
    "        self.imie = imie     # atrybut instancji\n",
    "        self.wiek = wiek\n",
    "\n",
    "    def szczekaj(self):\n",
    "        # metoda – funkcja dostępna na obiekcie\n",
    "        print(f\"{self.imie} mówi: Hau hau!\")\n",
    "\n",
    "# Tworzenie instancji\n",
    "reksio = Pies(\"Reksio\", 5)\n",
    "reksio.szczekaj()  # → Reksio mówi: Hau hau!\n",
    "print(reksio.imie, reksio.wiek)  # → Reksio 5\n"
   ],
   "outputs": [
    {
     "name": "stdout",
     "output_type": "stream",
     "text": [
      "Reksio mówi: Hau hau!\n",
      "Reksio 5\n"
     ]
    }
   ],
   "execution_count": 8
  },
  {
   "metadata": {
    "ExecuteTime": {
     "end_time": "2025-04-23T11:35:12.541268Z",
     "start_time": "2025-04-23T11:35:12.535471Z"
    }
   },
   "cell_type": "code",
   "source": [
    "class Zwierze:\n",
    "    def __init__(self, gatunek):\n",
    "        self.gatunek = gatunek\n",
    "\n",
    "    def daj_glos(self):\n",
    "        print(\"…jakieś zwierzęce dźwięki…\")\n",
    "\n",
    "class Kot(Zwierze):\n",
    "    def __init__(self, imie, wiek):\n",
    "        super().__init__(\"kot\")   # wywołanie konstruktora klasy bazowej\n",
    "        self.imie = imie\n",
    "        self.wiek = wiek\n",
    "\n",
    "    def daj_glos(self):\n",
    "        # nadpisanie (override) metody z klasy bazowej\n",
    "        print(f\"{self.imie} mówi: Miau!\")\n",
    "\n",
    "kitka = Kot(\"Kitka\", 3)\n",
    "kitka.daj_glos()  # → Kitka mówi: Miau!\n",
    "print(kitka.gatunek)  # → kot\n"
   ],
   "id": "cb416ecbecefa52f",
   "outputs": [
    {
     "name": "stdout",
     "output_type": "stream",
     "text": [
      "Kitka mówi: Miau!\n",
      "kot\n"
     ]
    }
   ],
   "execution_count": 9
  },
  {
   "metadata": {
    "ExecuteTime": {
     "end_time": "2025-04-23T11:35:12.573025Z",
     "start_time": "2025-04-23T11:35:12.567373Z"
    }
   },
   "cell_type": "code",
   "source": [
    "class Wektor2D:\n",
    "    def __init__(self, x, y):\n",
    "        self.x = x\n",
    "        self.y = y\n",
    "\n",
    "    def __add__(self, other):\n",
    "        # dodawanie wektorów: w1 + w2\n",
    "        return Wektor2D(self.x + other.x, self.y + other.y)\n",
    "\n",
    "    def __repr__(self):\n",
    "        # reprezentacja “developerska”\n",
    "        return f\"Wektor2D({self.x}, {self.y})\"\n",
    "\n",
    "    def __str__(self):\n",
    "        # wypisywanie czytelne dla użytkownika\n",
    "        return f\"({self.x}, {self.y})\"\n",
    "\n",
    "w1 = Wektor2D(2, 3)\n",
    "w2 = Wektor2D(5, -1)\n",
    "print(w1 + w2)       # → (7, 2)  (__str__)\n",
    "print(repr(w1 + w2)) # → Wektor2D(7, 2)  (__repr__)\n"
   ],
   "id": "283159b6764b596c",
   "outputs": [
    {
     "name": "stdout",
     "output_type": "stream",
     "text": [
      "(7, 2)\n",
      "Wektor2D(7, 2)\n"
     ]
    }
   ],
   "execution_count": 10
  },
  {
   "metadata": {
    "ExecuteTime": {
     "end_time": "2025-04-23T11:35:12.605468Z",
     "start_time": "2025-04-23T11:35:12.600704Z"
    }
   },
   "cell_type": "code",
   "source": [
    "class Kalkulator:\n",
    "    @staticmethod\n",
    "    def dodaj(a, b):\n",
    "        return a + b\n",
    "\n",
    "    @classmethod\n",
    "    def info(cls):\n",
    "        return f\"To jest klasa {cls.__name__}\"\n",
    "\n",
    "print(Kalkulator.dodaj(4, 5))    # → 9\n",
    "print(Kalkulator.info())         # → To jest klasa Kalkulator\n"
   ],
   "id": "dbfae9fbd61f1f54",
   "outputs": [
    {
     "name": "stdout",
     "output_type": "stream",
     "text": [
      "9\n",
      "To jest klasa Kalkulator\n"
     ]
    }
   ],
   "execution_count": 11
  },
  {
   "metadata": {
    "ExecuteTime": {
     "end_time": "2025-04-23T11:35:12.670956Z",
     "start_time": "2025-04-23T11:35:12.646834Z"
    }
   },
   "cell_type": "code",
   "source": [
    "def licz_czas(func):\n",
    "    import time\n",
    "    def wrapper(*args, **kwargs):\n",
    "        start = time.time()\n",
    "        wynik = func(*args, **kwargs)\n",
    "        end = time.time()\n",
    "        print(f\"Czas wykonania {func.__name__}: {end-start:.6f}s\")\n",
    "        return wynik\n",
    "    return wrapper\n",
    "\n",
    "@licz_czas\n",
    "def sumuj(n):\n",
    "    return sum(range(n))\n",
    "\n",
    "# Użycie:\n",
    "sumuj(1_000_000)\n",
    "# → Czas wykonania sumuj: 0.030123s\n"
   ],
   "id": "df18523d6a630a3d",
   "outputs": [
    {
     "name": "stdout",
     "output_type": "stream",
     "text": [
      "Czas wykonania sumuj: 0.017573s\n"
     ]
    },
    {
     "data": {
      "text/plain": [
       "499999500000"
      ]
     },
     "execution_count": 12,
     "metadata": {},
     "output_type": "execute_result"
    }
   ],
   "execution_count": 12
  },
  {
   "metadata": {
    "ExecuteTime": {
     "end_time": "2025-04-23T11:35:12.691938Z",
     "start_time": "2025-04-23T11:35:12.687102Z"
    }
   },
   "cell_type": "code",
   "source": [
    "class Prostokat:\n",
    "    def __init__(self, szer, wys):\n",
    "        self.szer = szer\n",
    "        self.wys = wys\n",
    "\n",
    "    @property\n",
    "    def pole(self):\n",
    "        # traktujemy jak atrybut: rect.pole\n",
    "        return self.szer * self.wys\n",
    "\n",
    "rect = Prostokat(4, 5)\n",
    "print(rect.pole)  # → 20\n",
    "# rect.pole = 50  # błąd! tylko do odczytu\n"
   ],
   "id": "ef631e4cee54541b",
   "outputs": [
    {
     "name": "stdout",
     "output_type": "stream",
     "text": [
      "20\n"
     ]
    }
   ],
   "execution_count": 13
  },
  {
   "metadata": {},
   "cell_type": "markdown",
   "source": [
    "### Klasy i obiekty\n",
    "\n",
    "Klasa to szablon definiujący strukturę danych (atrybuty) i zachowanie (metody).\n",
    "Obiekt to konkretna instancja klasy, posiadająca własne wartości atrybutów.\n"
   ],
   "id": "14157dd8764bb49"
  },
  {
   "metadata": {
    "ExecuteTime": {
     "end_time": "2025-04-23T11:35:12.769470Z",
     "start_time": "2025-04-23T11:35:12.765134Z"
    }
   },
   "cell_type": "code",
   "source": [
    "# Przykład najprostszej klasy i instancji\n",
    "class Osoba:\n",
    "    pass\n",
    "\n",
    "# Tworzymy obiekt klasy Osoba\n",
    "adam = Osoba()\n",
    "print(type(adam))  # <class '__main__.Osoba'>\n"
   ],
   "id": "c0e357579ebc101b",
   "outputs": [
    {
     "name": "stdout",
     "output_type": "stream",
     "text": [
      "<class '__main__.Osoba'>\n"
     ]
    }
   ],
   "execution_count": 14
  },
  {
   "metadata": {},
   "cell_type": "markdown",
   "source": [
    "### Konstruktor `__init__`\n",
    "\n",
    "Metoda `__init__` jest wywoływana przy tworzeniu obiektu.\n",
    "Pozwala ustawić początkowe wartości atrybutów.\n"
   ],
   "id": "a57a82329bbd13e6"
  },
  {
   "metadata": {
    "ExecuteTime": {
     "end_time": "2025-04-23T11:35:12.801489Z",
     "start_time": "2025-04-23T11:35:12.796624Z"
    }
   },
   "cell_type": "code",
   "source": [
    "class Osoba:\n",
    "    def __init__(self, imie, wiek):\n",
    "        self.imie = imie    # atrybut instancji\n",
    "        self.wiek = wiek\n",
    "\n",
    "# Tworzymy obiekt z inicjalizacją\n",
    "ewa = Osoba(\"Ewa\", 28)\n",
    "print(ewa.imie, ewa.wiek)  # Ewa 28\n"
   ],
   "id": "d25da82c07c73f73",
   "outputs": [
    {
     "name": "stdout",
     "output_type": "stream",
     "text": [
      "Ewa 28\n"
     ]
    }
   ],
   "execution_count": 15
  },
  {
   "metadata": {},
   "cell_type": "markdown",
   "source": [
    "### Metody instancji\n",
    "\n",
    "Metody definiujemy wewnątrz klasy. Pierwszy parametr to zawsze `self`,\n",
    "który odwołuje się do bieżącego obiektu.\n"
   ],
   "id": "d2cff9944953b5b5"
  },
  {
   "metadata": {
    "ExecuteTime": {
     "end_time": "2025-04-23T11:35:12.831588Z",
     "start_time": "2025-04-23T11:35:12.825195Z"
    }
   },
   "cell_type": "code",
   "source": [
    "class Osoba:\n",
    "    def __init__(self, imie, wiek):\n",
    "        self.imie = imie\n",
    "        self.wiek = wiek\n",
    "\n",
    "    def przedstaw_sie(self):\n",
    "        return f\"Cześć, mam na imię {self.imie} i mam {self.wiek} lat.\"\n",
    "\n",
    "# Użycie metody\n",
    "jan = Osoba(\"Jan\", 35)\n",
    "print(jan.przedstaw_sie())  # Cześć, mam na imię Jan i mam 35 lat.\n"
   ],
   "id": "84881804c9652645",
   "outputs": [
    {
     "name": "stdout",
     "output_type": "stream",
     "text": [
      "Cześć, mam na imię Jan i mam 35 lat.\n"
     ]
    }
   ],
   "execution_count": 16
  },
  {
   "metadata": {},
   "cell_type": "markdown",
   "source": [
    "### Atrybuty klasowe vs instancyjne\n",
    "\n",
    "- **Instancyjne** (`self.x`) – unikalne dla każdego obiektu.\n",
    "- **Klasowe** (definiowane w ciele klasy) – współdzielone przez wszystkie instancje.\n"
   ],
   "id": "ae36dd16fda8326c"
  },
  {
   "metadata": {
    "ExecuteTime": {
     "end_time": "2025-04-23T11:35:12.883110Z",
     "start_time": "2025-04-23T11:35:12.878152Z"
    }
   },
   "cell_type": "code",
   "source": [
    "class Samochod:\n",
    "    rodzaj_paliwa = \"benzyna\"  # atrybut klasowy\n",
    "\n",
    "    def __init__(self, marka):\n",
    "        self.marka = marka     # atrybut instancyjny\n",
    "\n",
    "a = Samochod(\"Toyota\")\n",
    "b = Samochod(\"Ford\")\n",
    "print(a.rodzaj_paliwa, b.rodzaj_paliwa)  # benzyna benzyna\n",
    "Samochod.rodzaj_paliwa = \"diesel\"\n",
    "print(a.rodzaj_paliwa, b.rodzaj_paliwa)  # diesel diesel\n"
   ],
   "id": "a14bd7d9da457163",
   "outputs": [
    {
     "name": "stdout",
     "output_type": "stream",
     "text": [
      "benzyna benzyna\n",
      "diesel diesel\n"
     ]
    }
   ],
   "execution_count": 17
  },
  {
   "metadata": {},
   "cell_type": "markdown",
   "source": [
    "### Tworzenie i użycie obiektów\n",
    "\n",
    "1. Wywołujesz konstruktor klasy: `obiekt = Klasa(arg1, arg2)`\n",
    "2. Odwołujesz się do atrybutów: `obiekt.atribut`\n",
    "3. Wywołujesz metody: `obiekt.metoda()`\n"
   ],
   "id": "f74c7f3e18801c10"
  },
  {
   "metadata": {
    "ExecuteTime": {
     "end_time": "2025-04-23T11:35:12.930277Z",
     "start_time": "2025-04-23T11:35:12.924384Z"
    }
   },
   "cell_type": "code",
   "source": [
    "# Finalny przykład: definicja klasy i korzystanie z niej\n",
    "class Punkt:\n",
    "    def __init__(self, x, y):\n",
    "        self.x = x\n",
    "        self.y = y\n",
    "\n",
    "    def przesun(self, dx, dy):\n",
    "        self.x += dx\n",
    "        self.y += dy\n",
    "\n",
    "p = Punkt(1, 2)\n",
    "print(p.x, p.y)    # 1 2\n",
    "p.przesun(3, -1)\n",
    "print(p.x, p.y)    # 4 1\n"
   ],
   "id": "788750a300555b9f",
   "outputs": [
    {
     "name": "stdout",
     "output_type": "stream",
     "text": [
      "1 2\n",
      "4 1\n"
     ]
    }
   ],
   "execution_count": 18
  }
 ],
 "metadata": {
  "kernelspec": {
   "display_name": "Python 3",
   "language": "python",
   "name": "python3"
  },
  "language_info": {
   "codemirror_mode": {
    "name": "ipython",
    "version": 2
   },
   "file_extension": ".py",
   "mimetype": "text/x-python",
   "name": "python",
   "nbconvert_exporter": "python",
   "pygments_lexer": "ipython2",
   "version": "2.7.6"
  }
 },
 "nbformat": 4,
 "nbformat_minor": 5
}
