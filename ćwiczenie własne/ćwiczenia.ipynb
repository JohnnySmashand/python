{
 "cells": [
  {
   "metadata": {},
   "cell_type": "markdown",
   "source": [
    "# Zadanie: Klasy `Rectangle` i `Square`\n",
    "\n",
    "1. **Utwórz klasę `Rectangle`**\n",
    "   - Konstruktor `__init__(self, width, height)`\n",
    "   - Atrybuty instancji: `width`, `height`\n",
    "\n",
    "2. **Zaimplementuj w `Rectangle` metody:**\n",
    "   - `area(self)` – zwraca pole prostokąta (`width * height`)\n",
    "   - `perimeter(self)` – zwraca obwód prostokąta (`2 * (width + height)`)\n",
    "   - `__str__(self)` – zwraca string w formacie:\n",
    "     ```\n",
    "     Rectangle(width=<width>, height=<height>)\n",
    "     ```\n",
    "\n",
    "3. **Utwórz klasę `Square`** dziedziczącą po `Rectangle`\n",
    "   - Konstruktor `__init__(self, side)`\n",
    "   - Wywołaj `super().__init__(side, side)`\n",
    "   - Nadpisz metodę `__str__`, aby zwracała:\n",
    "     ```\n",
    "     Square(side=<side>)\n",
    "     ```\n",
    "\n",
    "4. **Przetestuj klasy** w bloku:\n",
    "   ```python\n",
    "   if __name__ == \"__main__\":\n",
    "       r = Rectangle(3, 4)\n",
    "       print(r)                   # Rectangle(width=3, height=4)\n",
    "       print(\"Pole:\", r.area())   # Pole: 12\n",
    "       print(\"Obwód:\", r.perimeter())  # Obwód: 14\n",
    "\n",
    "       s = Square(5)\n",
    "       print(s)                   # Square(side=5)\n",
    "       print(\"Pole:\", s.area())   # Pole: 25\n",
    "       print(\"Obwód:\", s.perimeter())  # Obwód: 20\n"
   ],
   "id": "97c67d5cc65de136"
  },
  {
   "metadata": {
    "ExecuteTime": {
     "end_time": "2025-04-24T17:09:40.400109Z",
     "start_time": "2025-04-24T17:09:40.393214Z"
    }
   },
   "cell_type": "code",
   "source": [
    "class Rectangle:\n",
    "    def __init__(self, width, height):\n",
    "        self.width = width\n",
    "        self.height = height\n",
    "\n",
    "    def area(self):\n",
    "        return self.width * self.height\n",
    "\n",
    "    def perimeter(self):\n",
    "        return 2 * (self.width + self.height)\n",
    "\n",
    "    def __str__(self):\n",
    "        # Używamy self.__class__.__name__, żeby zawsze brało właściwą nazwę\n",
    "        return f\"{self.__class__.__name__}(width={self.width}, height={self.height})\"\n",
    "\n",
    "\n",
    "class Square(Rectangle):\n",
    "    def __init__(self, side):\n",
    "        # Nie trzeba self.side, bo po super mamy już width i height\n",
    "        super().__init__(side, side)\n",
    "\n",
    "    def __str__(self):\n",
    "        # Korzystamy z self.width (== side) i dynamicznej nazwy klasy\n",
    "        return f\"{self.__class__.__name__}(side={self.width})\"\n",
    "\n",
    "\n",
    "if __name__ == \"__main__\":\n",
    "    r = Rectangle(3, 4)\n",
    "    print(r)                   # Rectangle(width=3, height=4)\n",
    "    print(\"Pole:\", r.area())   # Pole: 12\n",
    "    print(\"Obwód:\", r.perimeter())  # Obwód: 14\n",
    "\n",
    "    s = Square(5)\n",
    "    print(s)                   # Square(side=5)\n",
    "    print(\"Pole:\", s.area())   # Pole: 25\n",
    "    print(\"Obwód:\", s.perimeter())  # Obwód: 20\n"
   ],
   "id": "dff565cffc4c8f3c",
   "outputs": [
    {
     "name": "stdout",
     "output_type": "stream",
     "text": [
      "Rectangle(width=3, height=4)\n",
      "Pole: 12\n",
      "Obwód: 14\n",
      "Square(side=5)\n",
      "Pole: 25\n",
      "Obwód: 20\n"
     ]
    }
   ],
   "execution_count": 9
  },
  {
   "metadata": {
    "ExecuteTime": {
     "end_time": "2025-04-24T17:09:40.444064Z",
     "start_time": "2025-04-24T17:09:40.439969Z"
    }
   },
   "cell_type": "code",
   "source": [
    "# Prosty kod z f-stringiem\n",
    "\n",
    "# definiujemy dwie zmienne\n",
    "imie = \"Jan\"\n",
    "wiek = 30\n",
    "\n",
    "# w f-stringu wstawiamy je w {}:\n",
    "print(f\"Cześć, mam na imię {imie} i mam {wiek} lat.\")\n"
   ],
   "id": "e1975ae360b9e977",
   "outputs": [
    {
     "name": "stdout",
     "output_type": "stream",
     "text": [
      "Cześć, mam na imię Jan i mam 30 lat.\n"
     ]
    }
   ],
   "execution_count": 10
  },
  {
   "metadata": {
    "ExecuteTime": {
     "end_time": "2025-04-24T17:09:40.474894Z",
     "start_time": "2025-04-24T17:09:40.470328Z"
    }
   },
   "cell_type": "code",
   "source": [
    "print(f\"2 + 2 = {2 + 2}\")\n",
    "# wyświetli: 2 + 2 = 4\n"
   ],
   "id": "f5e728affd3ad7b9",
   "outputs": [
    {
     "name": "stdout",
     "output_type": "stream",
     "text": [
      "2 + 2 = 4\n"
     ]
    }
   ],
   "execution_count": 11
  },
  {
   "metadata": {
    "ExecuteTime": {
     "end_time": "2025-04-24T17:09:40.517991Z",
     "start_time": "2025-04-24T17:09:40.512635Z"
    }
   },
   "cell_type": "code",
   "source": [
    "pi = 3.14159265\n",
    "print(f\"Wartość pi ≈ {pi:.2f}\")\n",
    "# wyświetli: Wartość pi ≈ 3.14\n"
   ],
   "id": "205caa2c1b8bd08f",
   "outputs": [
    {
     "name": "stdout",
     "output_type": "stream",
     "text": [
      "Wartość pi ≈ 3.14\n"
     ]
    }
   ],
   "execution_count": 12
  },
  {
   "metadata": {},
   "cell_type": "markdown",
   "source": [
    "Dokładnie tak – w f\"{pi:.2f}\":\n",
    "\n",
    "dwukropek : zaczyna specyfikator formatu,\n",
    "\n",
    ".2 oznacza „dwa miejsca po przecinku”,\n",
    "\n",
    "f to format fixed-point (zmiennoprzecinkowy)."
   ],
   "id": "b02000ae6ed62001"
  },
  {
   "metadata": {},
   "cell_type": "markdown",
   "source": "## Inne przykłady formatu zmiennoprzecinkowego",
   "id": "a7aad2676efcb6e0"
  },
  {
   "metadata": {
    "ExecuteTime": {
     "end_time": "2025-04-24T17:09:40.551578Z",
     "start_time": "2025-04-24T17:09:40.546977Z"
    }
   },
   "cell_type": "code",
   "source": [
    "x = 2.71828\n",
    "\n",
    "print(f\"{x:.0f}\")   # \".0f\" – zero miejsc po przecinku, zaokrągli do 3\n",
    "# → 3\n",
    "\n",
    "print(f\"{x:.1f}\")   # \".1f\" – jedno miejsce: 2.7\n",
    "# → 2.7\n",
    "\n",
    "print(f\"{x:.3f}\")   # \".3f\" – trzy miejsca: 2.718\n",
    "# → 2.718\n"
   ],
   "id": "b0b796fabe35ba8c",
   "outputs": [
    {
     "name": "stdout",
     "output_type": "stream",
     "text": [
      "3\n",
      "2.7\n",
      "2.718\n"
     ]
    }
   ],
   "execution_count": 13
  },
  {
   "metadata": {},
   "cell_type": "markdown",
   "source": [
    "## Wyrównanie i szerokość pola\n",
    "### Możesz też kontrolować szerokość wypisywanego pola i sposób wyrównania:"
   ],
   "id": "ebc99eb0da7b19aa"
  },
  {
   "metadata": {
    "ExecuteTime": {
     "end_time": "2025-04-24T17:09:40.581039Z",
     "start_time": "2025-04-24T17:09:40.576838Z"
    }
   },
   "cell_type": "code",
   "source": [
    "num = 12.3456\n",
    "\n",
    "print(f\"|{num:10.2f}|\")   # pole szerokości 10, domyślnie wyrównanie do prawej\n",
    "# → |     12.35|\n",
    "\n",
    "print(f\"|{num:<10.2f}|\")  # \"<\" – wyrównaj do lewej\n",
    "# → |12.35     |\n",
    "\n",
    "print(f\"|{num:^10.2f}|\")  # \"^\" – wyśrodkuj\n",
    "# → |  12.35   |\n"
   ],
   "id": "6e0d081b00f7203e",
   "outputs": [
    {
     "name": "stdout",
     "output_type": "stream",
     "text": [
      "|     12.35|\n",
      "|12.35     |\n",
      "|  12.35   |\n"
     ]
    }
   ],
   "execution_count": 14
  },
  {
   "metadata": {},
   "cell_type": "markdown",
   "source": [
    "## Inne przydatne specyfikatory\n",
    "* `!r` (repr): użyj `repr()` zamiast `str()`, np."
   ],
   "id": "699380b226e237ec"
  },
  {
   "metadata": {
    "ExecuteTime": {
     "end_time": "2025-04-24T17:10:04.163894Z",
     "start_time": "2025-04-24T17:10:04.159143Z"
    }
   },
   "cell_type": "code",
   "source": [
    "s = \"Ala\\nma\\nkota\"\n",
    "print(f\"{s!r}\")\n",
    "# → 'Ala\\nma\\nkota'\n"
   ],
   "id": "fe25aaf744314ee2",
   "outputs": [
    {
     "name": "stdout",
     "output_type": "stream",
     "text": [
      "'Ala\\nma\\nkota'\n"
     ]
    }
   ],
   "execution_count": 15
  },
  {
   "metadata": {},
   "cell_type": "markdown",
   "source": "`%:` pokaż w procentach (mnoży przez 100 i dopisuje `%`):",
   "id": "edb8f1ca5ba5c17d"
  },
  {
   "metadata": {
    "ExecuteTime": {
     "end_time": "2025-04-24T17:11:23.084414Z",
     "start_time": "2025-04-24T17:11:23.079549Z"
    }
   },
   "cell_type": "code",
   "source": [
    "frac = 0.075\n",
    "print(f\"{frac:.1%}\")\n",
    "# → 7.5%\n"
   ],
   "id": "c04c7893c59816f2",
   "outputs": [
    {
     "name": "stdout",
     "output_type": "stream",
     "text": [
      "7.5%\n"
     ]
    }
   ],
   "execution_count": 16
  },
  {
   "metadata": {
    "ExecuteTime": {
     "end_time": "2025-04-24T17:12:20.366877Z",
     "start_time": "2025-04-24T17:12:20.362207Z"
    }
   },
   "cell_type": "code",
   "source": [
    "tekst = \"Ala\\nma kota\"\n",
    "\n",
    "# domyślnie f-stringy używają str():\n",
    "print(f\"Bez konwersji: {tekst}\")\n",
    "# → Ala\n",
    "#   ma kota\n",
    "\n",
    "# z !s – jawnie wymuszasz str():\n",
    "print(f\"Z !s: {tekst!s}\")\n",
    "# → Ala\n",
    "#   ma kota\n",
    "\n",
    "# z !r – uses repr(), czyli pokazuje znaki „surowo”:\n",
    "print(f\"Z !r: {tekst!r}\")\n",
    "# → 'Ala\\nma kota'\n"
   ],
   "id": "c6cf034544347753",
   "outputs": [
    {
     "name": "stdout",
     "output_type": "stream",
     "text": [
      "Bez konwersji: Ala\n",
      "ma kota\n",
      "Z !s: Ala\n",
      "ma kota\n",
      "Z !r: 'Ala\\nma kota'\n"
     ]
    }
   ],
   "execution_count": 17
  },
  {
   "metadata": {
    "ExecuteTime": {
     "end_time": "2025-04-24T17:12:44.488772Z",
     "start_time": "2025-04-24T17:12:44.483160Z"
    }
   },
   "cell_type": "code",
   "source": [
    "class Person:\n",
    "    def __init__(self, name):\n",
    "        self.name = name\n",
    "\n",
    "    def __str__(self):\n",
    "        # co widzimy przy print(person)\n",
    "        return f\"Osoba: {self.name}\"\n",
    "\n",
    "    def __repr__(self):\n",
    "        # co widzimy, gdy Python graficznie reprezentuje obiekt\n",
    "        return f\"<Person name={self.name!r}>\"\n",
    "\n",
    "p = Person(\"Jan\\nKowalski\")\n",
    "\n",
    "print(f\"str: {p!s}\")   # użyje Person.__str__()\n",
    "# → str: Osoba: Jan\n",
    "#         Kowalski\n",
    "\n",
    "print(f\"repr: {p!r}\")  # użyje Person.__repr__()\n",
    "# → repr: <Person name='Jan\\nKowalski'>\n"
   ],
   "id": "b22ebc1e8b9b9807",
   "outputs": [
    {
     "name": "stdout",
     "output_type": "stream",
     "text": [
      "str: Osoba: Jan\n",
      "Kowalski\n",
      "repr: <Person name='Jan\\nKowalski'>\n"
     ]
    }
   ],
   "execution_count": 18
  }
 ],
 "metadata": {
  "kernelspec": {
   "display_name": "Python 3",
   "language": "python",
   "name": "python3"
  },
  "language_info": {
   "codemirror_mode": {
    "name": "ipython",
    "version": 2
   },
   "file_extension": ".py",
   "mimetype": "text/x-python",
   "name": "python",
   "nbconvert_exporter": "python",
   "pygments_lexer": "ipython2",
   "version": "2.7.6"
  }
 },
 "nbformat": 4,
 "nbformat_minor": 5
}
