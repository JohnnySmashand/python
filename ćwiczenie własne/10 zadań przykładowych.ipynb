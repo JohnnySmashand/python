{
 "cells": [
  {
   "metadata": {},
   "cell_type": "markdown",
   "source": [
    "# Propozycje PPO\n",
    "\n",
    "1. **Model studenta z użyciem `@dataclass`**\n",
    "   - Zdefiniuj klasę `Student` z polami: `imie` (str), `nazwisko` (str), `nr_indeksu` (str), `oceny` (list[int]).\n",
    "   - Dodaj metodę `srednia()` zwracającą średnią ocen oraz `as_dict()` używającą `asdict()`.\n",
    "\n",
    "2. **Kolekcja figur z klasą abstrakcyjną**\n",
    "   - Stwórz abstrakcyjną klasę `Figura(ABC)` z metodą `pole()`.\n",
    "   - Zaimplementuj podklasy `Prostokat(a, b)` i `Trojkat(a, h)`.\n",
    "   - Napisz funkcję, która przyjmuje listę `Figura` i sumuje ich pola.\n",
    "\n",
    "3. **Bankowe konto z enkapsulacją i walidacją**\n",
    "   - Klasa `Konto` przechowuje stan `_saldo`.\n",
    "   - Dodaj `@property saldo` oraz setter, który blokuje ustawienie ujemnego salda (ValueError).\n",
    "   - Dodaj metody `wplata(kwota)` i `wyplata(kwota)` z odpowiednią walidacją i wyjątkiem `InsufficientFunds`.\n",
    "\n",
    "4. **Dekorator logujący wywołania metod**\n",
    "   - Zaimplementuj dekorator `@loguj`, który przed i po wykonaniu metody wypisuje jej nazwę i przekazane argumenty.\n",
    "   - Użyj go na kilku metodach własnej klasy (np. `Kalkulator.add`, `Kalkulator.mul`).\n",
    "\n",
    "5. **Rejestr klas przez metaklasę**\n",
    "   - Stwórz metaklasę `RegistryMeta`, która w polu klasowym `registry` będzie trzymać mapę nazwa→klasa dla każdej nowej klasy, która dziedziczy po `Rejestrowana`.\n",
    "   - Przetestuj, że `RegistryMeta.registry` zawiera wszystkie podklasy.\n",
    "\n",
    "6. **Wektor z metodami specjalnymi**\n",
    "   - Klasa `Wektor(x, y)` zdefiniuj `__add__`, `__sub__`, `__mul__` (skalarem), `__eq__`, `__repr__` i `__len__` (długość wektora).\n",
    "   - Napisz kilka asercji sprawdzających poprawność operacji.\n",
    "\n",
    "7. **Menadżer kontekstu do pliku JSON**\n",
    "   - Napisz klasę `JsonFile(path)` implementującą `__enter__`/`__exit__`, która wchłania i zapisuje słownik do pliku jako JSON.\n",
    "   - W bloku `with` pozwól modyfikować słownik, a po `__exit__` automatycznie zapisz go na dysk.\n",
    "\n",
    "8. **Kompozycja vs dziedziczenie – samochód i silnik**\n",
    "   - Zaimplementuj klasę `Silnik` z metodą `start()`.\n",
    "   - Stwórz `SamochodDziedziczony(Silnik)` i `SamochodZKompozycja`, który w atrybucie `silnik` przechowuje obiekt `Silnik`.\n",
    "   - Sprawdź, jakie zachowanie (i dlaczego) ma `samochod.start()`.\n",
    "\n",
    "9. **Własne wyjątki i hierarchia błędów**\n",
    "   - Zdefiniuj podklasy wyjątków: `BladBazowy(Exception)`, `BladA(BladBazowy)`, `BladB(BladBazowy)`.\n",
    "   - Napisz funkcję, która losuje wyjątek i w `try/except` obsługuje najpierw `BladA`, potem `BladBazowy`.\n",
    "\n",
    "10. **Mixin do serializacji obiektów**\n",
    "    - Stwórz klasę-mixin `JsonSerializable`, która dostarcza metodę `to_json()` (korzystając z `json.dumps(self.__dict__)`).\n",
    "    - Połącz ją z dowolną klasą biznesową (np. `Produkt`, `Student`) i sprawdź, że możesz łatwo serializować i deserializować jej instancje.\n"
   ],
   "id": "3f583ed62a41c732"
  },
  {
   "metadata": {
    "ExecuteTime": {
     "end_time": "2025-04-24T17:19:45.639009Z",
     "start_time": "2025-04-24T17:19:45.630845Z"
    }
   },
   "cell_type": "code",
   "source": [
    "# 1. Model studenta z użyciem @dataclass\n",
    "from dataclasses import dataclass, field, asdict\n",
    "\n",
    "@dataclass\n",
    "class Student:\n",
    "    imie: str\n",
    "    nazwisko: str\n",
    "    nr_indeksu: str\n",
    "    oceny: list[int] = field(default_factory=list)\n",
    "\n",
    "    def srednia(self) -> float:\n",
    "        return sum(self.oceny) / len(self.oceny) if self.oceny else 0.0\n",
    "\n",
    "    def as_dict(self) -> dict:\n",
    "        return asdict(self)\n",
    "\n",
    "# Test\n",
    "student = Student(\"Jan\", \"Kowalski\", \"S1234\", [4,5,3,5])\n",
    "print(\"Średnia ocen:\", student.srednia())\n",
    "print(\"Słownik studenta:\", student.as_dict())\n"
   ],
   "id": "30046eaa493b4218",
   "outputs": [
    {
     "name": "stdout",
     "output_type": "stream",
     "text": [
      "Średnia ocen: 4.25\n",
      "Słownik studenta: {'imie': 'Jan', 'nazwisko': 'Kowalski', 'nr_indeksu': 'S1234', 'oceny': [4, 5, 3, 5]}\n"
     ]
    }
   ],
   "execution_count": 1
  },
  {
   "metadata": {
    "ExecuteTime": {
     "end_time": "2025-04-24T17:19:45.895217Z",
     "start_time": "2025-04-24T17:19:45.888484Z"
    }
   },
   "cell_type": "code",
   "source": [
    "# 2. Kolekcja figur z klasą abstrakcyjną\n",
    "from abc import ABC, abstractmethod\n",
    "\n",
    "class Figura(ABC):\n",
    "    @abstractmethod\n",
    "    def pole(self) -> float:\n",
    "        pass\n",
    "\n",
    "class Prostokat(Figura):\n",
    "    def __init__(self, a: float, b: float):\n",
    "        self.a = a    # bok a\n",
    "        self.b = b    # bok b\n",
    "    def pole(self) -> float:\n",
    "        return self.a * self.b\n",
    "\n",
    "class Trojkat(Figura):\n",
    "    def __init__(self, a: float, h: float):\n",
    "        self.a = a    # podstawa\n",
    "        self.h = h    # wysokość\n",
    "    def pole(self) -> float:\n",
    "        return 0.5 * self.a * self.h\n",
    "\n",
    "def suma_pol(figury: list[Figura]) -> float:\n",
    "    return sum(f.pole() for f in figury)\n",
    "\n",
    "# Test\n",
    "figury = [Prostokat(3,4), Trojkat(3,5)]\n",
    "print(\"Sumaryczne pole:\", suma_pol(figury))\n"
   ],
   "id": "68429c21838b7249",
   "outputs": [
    {
     "name": "stdout",
     "output_type": "stream",
     "text": [
      "Sumaryczne pole: 19.5\n"
     ]
    }
   ],
   "execution_count": 2
  },
  {
   "metadata": {
    "ExecuteTime": {
     "end_time": "2025-04-24T17:19:45.943758Z",
     "start_time": "2025-04-24T17:19:45.935760Z"
    }
   },
   "cell_type": "code",
   "source": [
    "# 3. Konto bankowe z enkapsulacją i własnym wyjątkiem\n",
    "class BrakSrodkow(Exception):\n",
    "    \"\"\"Wyjątek rzucany przy braku środków na koncie.\"\"\"\n",
    "    pass\n",
    "\n",
    "class Konto:\n",
    "    def __init__(self, saldo_poczatkowe: float = 0.0):\n",
    "        self._saldo = saldo_poczatkowe  # chronione saldo\n",
    "\n",
    "    @property\n",
    "    def saldo(self) -> float:\n",
    "        return self._saldo\n",
    "\n",
    "    @saldo.setter\n",
    "    def saldo(self, kwota: float):\n",
    "        if kwota < 0:\n",
    "            raise ValueError(\"Saldo nie może być ujemne\")\n",
    "        self._saldo = kwota\n",
    "\n",
    "    def wplata(self, kwota: float):\n",
    "        if kwota <= 0:\n",
    "            raise ValueError(\"Kwota wpłaty musi być dodatnia\")\n",
    "        self._saldo += kwota\n",
    "\n",
    "    def wyplata(self, kwota: float):\n",
    "        if kwota <= 0:\n",
    "            raise ValueError(\"Kwota wypłaty musi być dodatnia\")\n",
    "        if kwota > self._saldo:\n",
    "            raise BrakSrodkow(\"Brak wystarczających środków\")\n",
    "        self._saldo -= kwota\n",
    "\n",
    "# Test\n",
    "konto = Konto(100.0)\n",
    "konto.wplata(50.0)\n",
    "print(\"Saldo po wpłacie:\", konto.saldo)\n",
    "try:\n",
    "    konto.wyplata(200.0)\n",
    "except BrakSrodkow as e:\n",
    "    print(\"Błąd wypłaty:\", e)\n"
   ],
   "id": "486b70f2cdb1c6d",
   "outputs": [
    {
     "name": "stdout",
     "output_type": "stream",
     "text": [
      "Saldo po wpłacie: 150.0\n",
      "Błąd wypłaty: Brak wystarczających środków\n"
     ]
    }
   ],
   "execution_count": 3
  },
  {
   "metadata": {
    "ExecuteTime": {
     "end_time": "2025-04-24T17:19:45.971417Z",
     "start_time": "2025-04-24T17:19:45.961438Z"
    }
   },
   "cell_type": "code",
   "source": [
    "# 4. Dekorator logujący wywołania metod\n",
    "from functools import wraps\n",
    "\n",
    "def loguj(func):\n",
    "    @wraps(func)\n",
    "    def wrapper(*args, **kwargs):\n",
    "        print(f\"[LOG] Wywołanie {func.__name__} z args={args}, kwargs={kwargs}\")\n",
    "        wynik = func(*args, **kwargs)\n",
    "        print(f\"[LOG] {func.__name__} zwróciło {wynik}\")\n",
    "        return wynik\n",
    "    return wrapper\n",
    "\n",
    "class Kalkulator:\n",
    "    @loguj\n",
    "    def dodaj(self, a: float, b: float) -> float:\n",
    "        return a + b\n",
    "\n",
    "    @loguj\n",
    "    def mul(self, a: float, b: float) -> float:\n",
    "        return a * b\n",
    "\n",
    "# Test\n",
    "k = Kalkulator()\n",
    "k.dodaj(2,3)\n",
    "k.mul(4,5)\n"
   ],
   "id": "764b42e3dedc585b",
   "outputs": [
    {
     "name": "stdout",
     "output_type": "stream",
     "text": [
      "[LOG] Wywołanie dodaj z args=(<__main__.Kalkulator object at 0x000002EC6983DD30>, 2, 3), kwargs={}\n",
      "[LOG] dodaj zwróciło 5\n",
      "[LOG] Wywołanie mul z args=(<__main__.Kalkulator object at 0x000002EC6983DD30>, 4, 5), kwargs={}\n",
      "[LOG] mul zwróciło 20\n"
     ]
    },
    {
     "data": {
      "text/plain": [
       "20"
      ]
     },
     "execution_count": 4,
     "metadata": {},
     "output_type": "execute_result"
    }
   ],
   "execution_count": 4
  },
  {
   "metadata": {
    "ExecuteTime": {
     "end_time": "2025-04-24T17:19:45.992904Z",
     "start_time": "2025-04-24T17:19:45.986646Z"
    }
   },
   "cell_type": "code",
   "source": [
    "# 5. Rejestr klas przez metaklasę\n",
    "class RegistryMeta(type):\n",
    "    registry = {}  # mapa nazwa→klasa\n",
    "\n",
    "    def __new__(mcs, name, bases, namespace):\n",
    "        cls = super().__new__(mcs, name, bases, namespace)\n",
    "        if name != \"Rejestrowana\":\n",
    "            mcs.registry[name] = cls\n",
    "        return cls\n",
    "\n",
    "    @classmethod\n",
    "    def pokaz_rejestr(mcs):\n",
    "        return mcs.registry\n",
    "\n",
    "class Rejestrowana(metaclass=RegistryMeta):\n",
    "    \"\"\"Klasa bazowa dla rejestracji podklas.\"\"\"\n",
    "    pass\n",
    "\n",
    "class A(Rejestrowana): pass\n",
    "class B(Rejestrowana): pass\n",
    "\n",
    "# Test\n",
    "print(\"Zarejestrowane klasy:\", RegistryMeta.pokaz_rejestr())\n"
   ],
   "id": "97d1e4bab6dae956",
   "outputs": [
    {
     "name": "stdout",
     "output_type": "stream",
     "text": [
      "Zarejestrowane klasy: {'A': <class '__main__.A'>, 'B': <class '__main__.B'>}\n"
     ]
    }
   ],
   "execution_count": 5
  },
  {
   "metadata": {
    "ExecuteTime": {
     "end_time": "2025-04-24T17:19:46.023258Z",
     "start_time": "2025-04-24T17:19:46.015626Z"
    }
   },
   "cell_type": "code",
   "source": [
    "# 6. Wektor z metodami specjalnymi\n",
    "class Wektor:\n",
    "    def __init__(self, x: float, y: float):\n",
    "        self.x = x  # współrzędna x\n",
    "        self.y = y  # współrzędna y\n",
    "\n",
    "    def __add__(self, other):\n",
    "        return Wektor(self.x + other.x, self.y + other.y)\n",
    "\n",
    "    def __sub__(self, other):\n",
    "        return Wektor(self.x - other.x, self.y - other.y)\n",
    "\n",
    "    def __mul__(self, scalar: float):\n",
    "        return Wektor(self.x * scalar, self.y * scalar)\n",
    "\n",
    "    def __eq__(self, other):\n",
    "        return self.x == other.x and self.y == other.y\n",
    "\n",
    "    def __repr__(self):\n",
    "        return f\"Wektor(x={self.x}, y={self.y})\"\n",
    "\n",
    "    def __len__(self):\n",
    "        return int((self.x**2 + self.y**2)**0.5)\n",
    "\n",
    "# Test\n",
    "v1 = Wektor(2,3)\n",
    "v2 = Wektor(1,1)\n",
    "print(\"Dodawanie:\", v1 + v2)\n",
    "print(\"Odejmowanie:\", v1 - v2)\n",
    "print(\"Mnożenie:\", v1 * 3)\n",
    "print(\"Długość v1:\", len(v1))\n",
    "print(\"Porównanie:\", v1 == Wektor(2,3))\n"
   ],
   "id": "87bac4ae0d8c3e99",
   "outputs": [
    {
     "name": "stdout",
     "output_type": "stream",
     "text": [
      "Dodawanie: Wektor(x=3, y=4)\n",
      "Odejmowanie: Wektor(x=1, y=2)\n",
      "Mnożenie: Wektor(x=6, y=9)\n",
      "Długość v1: 3\n",
      "Porównanie: True\n"
     ]
    }
   ],
   "execution_count": 6
  },
  {
   "metadata": {
    "ExecuteTime": {
     "end_time": "2025-04-24T17:19:46.048447Z",
     "start_time": "2025-04-24T17:19:46.039870Z"
    }
   },
   "cell_type": "code",
   "source": [
    "# 7. Menedżer kontekstu do pliku JSON\n",
    "import json\n",
    "\n",
    "class JsonFile:\n",
    "    def __init__(self, sciezka: str):\n",
    "        self.sciezka = sciezka  # ścieżka do pliku\n",
    "\n",
    "    def __enter__(self):\n",
    "        try:\n",
    "            with open(self.sciezka, 'r', encoding='utf-8') as f:\n",
    "                self.data = json.load(f)  # wczytaj istniejący JSON\n",
    "        except (FileNotFoundError, json.JSONDecodeError):\n",
    "            self.data = {}  # pusty słownik jeśli plik nie istnieje\n",
    "        return self.data\n",
    "\n",
    "    def __exit__(self, exc_type, exc_val, exc_tb):\n",
    "        with open(self.sciezka, 'w', encoding='utf-8') as f:\n",
    "            json.dump(self.data, f, ensure_ascii=False, indent=4)\n",
    "\n",
    "# Test\n",
    "with JsonFile(\"dane.json\") as dane:\n",
    "    dane[\"nowy_klucz\"] = \"wartość\"\n",
    "    dane[\"lista\"] = [1,2,3]\n",
    "print(\"Zapisano dane do dane.json\")\n"
   ],
   "id": "8f24df8c4ed7baac",
   "outputs": [
    {
     "name": "stdout",
     "output_type": "stream",
     "text": [
      "Zapisano dane do dane.json\n"
     ]
    }
   ],
   "execution_count": 7
  },
  {
   "metadata": {
    "ExecuteTime": {
     "end_time": "2025-04-24T17:19:46.080674Z",
     "start_time": "2025-04-24T17:19:46.074441Z"
    }
   },
   "cell_type": "code",
   "source": [
    "# 8. Kompozycja vs dziedziczenie – samochód i silnik\n",
    "\n",
    "# Dziedziczenie\n",
    "class Silnik:\n",
    "    def start(self):\n",
    "        print(\"Silnik uruchomiony\")\n",
    "\n",
    "class SamochodDziedziczony(Silnik):\n",
    "    \"\"\"Samochód dziedziczący po Silnik\"\"\"\n",
    "    pass\n",
    "\n",
    "# Kompozycja\n",
    "class SamochodZKompozycja:\n",
    "    def __init__(self):\n",
    "        self.silnik = Silnik()  # Samochód ma silnik\n",
    "\n",
    "    def start(self):\n",
    "        self.silnik.start()\n",
    "\n",
    "# Test\n",
    "print(\"Dziedziczenie:\")\n",
    "sam1 = SamochodDziedziczony()\n",
    "sam1.start()\n",
    "\n",
    "print(\"Kompozycja:\")\n",
    "sam2 = SamochodZKompozycja()\n",
    "sam2.start()\n"
   ],
   "id": "8267540367802fc7",
   "outputs": [
    {
     "name": "stdout",
     "output_type": "stream",
     "text": [
      "Dziedziczenie:\n",
      "Silnik uruchomiony\n",
      "Kompozycja:\n",
      "Silnik uruchomiony\n"
     ]
    }
   ],
   "execution_count": 8
  },
  {
   "metadata": {
    "ExecuteTime": {
     "end_time": "2025-04-24T17:19:46.115355Z",
     "start_time": "2025-04-24T17:19:46.108370Z"
    }
   },
   "cell_type": "code",
   "source": [
    "# 9. Własne wyjątki i hierarchia błędów\n",
    "import random\n",
    "\n",
    "class BladBazowy(Exception):\n",
    "    \"\"\"Bazowa klasa wyjątków.\"\"\"\n",
    "    pass\n",
    "\n",
    "class BladA(BladBazowy):\n",
    "    \"\"\"Wyjątek specyficzny A.\"\"\"\n",
    "    pass\n",
    "\n",
    "class BladB(BladBazowy):\n",
    "    \"\"\"Wyjątek specyficzny B.\"\"\"\n",
    "    pass\n",
    "\n",
    "def losuj_wyjatek():\n",
    "    wybor = random.choice(['A','B','bazowy','brak'])\n",
    "    if wybor == 'A':\n",
    "        raise BladA(\"Wystąpił błąd A\")\n",
    "    elif wybor == 'B':\n",
    "        raise BladB(\"Wystąpił błąd B\")\n",
    "    elif wybor == 'bazowy':\n",
    "        raise BladBazowy(\"Wystąpił błąd bazowy\")\n",
    "    return \"Brak błędu\"\n",
    "\n",
    "# Test\n",
    "try:\n",
    "    wynik = losuj_wyjatek()\n",
    "    print(\"Wynik:\", wynik)\n",
    "except BladA as e:\n",
    "    print(\"Obsłużono BladA:\", e)\n",
    "except BladBazowy as e:\n",
    "    print(\"Obsłużono BladBazowy:\", e)\n"
   ],
   "id": "84197c2362e24fe7",
   "outputs": [
    {
     "name": "stdout",
     "output_type": "stream",
     "text": [
      "Obsłużono BladBazowy: Wystąpił błąd B\n"
     ]
    }
   ],
   "execution_count": 9
  },
  {
   "metadata": {
    "ExecuteTime": {
     "end_time": "2025-04-24T17:19:46.140862Z",
     "start_time": "2025-04-24T17:19:46.133840Z"
    }
   },
   "cell_type": "code",
   "source": [
    "# 10. Mixin do serializacji obiektów\n",
    "import json\n",
    "\n",
    "class JsonSerializable:\n",
    "    def to_json(self) -> str:\n",
    "        \"\"\"Serializuje atrybuty instancji do JSON.\"\"\"\n",
    "        return json.dumps(self.__dict__, ensure_ascii=False)\n",
    "\n",
    "    @classmethod\n",
    "    def from_json(cls, json_str: str):\n",
    "        \"\"\"Odtwarza instancję z JSON.\"\"\"\n",
    "        data = json.loads(json_str)\n",
    "        inst = cls.__new__(cls)           # pomiń __init__\n",
    "        inst.__dict__.update(data)        # załaduj atrybuty\n",
    "        return inst\n",
    "\n",
    "class Produkt(JsonSerializable):\n",
    "    def __init__(self, nazwa: str, cena: float):\n",
    "        self.nazwa = nazwa\n",
    "        self.cena = cena\n",
    "\n",
    "# Test\n",
    "p = Produkt(\"Telefon\", 1999.99)\n",
    "json_str = p.to_json()\n",
    "print(\"JSON:\", json_str)\n",
    "p2 = Produkt.from_json(json_str)\n",
    "print(\"Odtworzony obiekt:\", p2.__dict__)\n"
   ],
   "id": "7bdf1ca596ee52be",
   "outputs": [
    {
     "name": "stdout",
     "output_type": "stream",
     "text": [
      "JSON: {\"nazwa\": \"Telefon\", \"cena\": 1999.99}\n",
      "Odtworzony obiekt: {'nazwa': 'Telefon', 'cena': 1999.99}\n"
     ]
    }
   ],
   "execution_count": 10
  }
 ],
 "metadata": {
  "kernelspec": {
   "display_name": "Python 3",
   "language": "python",
   "name": "python3"
  },
  "language_info": {
   "codemirror_mode": {
    "name": "ipython",
    "version": 2
   },
   "file_extension": ".py",
   "mimetype": "text/x-python",
   "name": "python",
   "nbconvert_exporter": "python",
   "pygments_lexer": "ipython2",
   "version": "2.7.6"
  }
 },
 "nbformat": 4,
 "nbformat_minor": 5
}
