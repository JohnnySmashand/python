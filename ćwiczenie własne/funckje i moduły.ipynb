{
 "cells": [
  {
   "cell_type": "code",
   "id": "initial_id",
   "metadata": {
    "collapsed": true,
    "ExecuteTime": {
     "end_time": "2025-04-23T11:27:39.684149Z",
     "start_time": "2025-04-23T11:27:39.677361Z"
    }
   },
   "source": [
    "def przywitaj(imie):\n",
    "    \"\"\"\n",
    "    Funkcja wita użytkownika po imieniu.\n",
    "    imie: str – imię osoby do powitania\n",
    "    \"\"\"\n",
    "    powitanie = f\"Cześć, {imie}!\"\n",
    "    return powitanie\n",
    "\n",
    "# Użycie funkcji:\n",
    "msg = przywitaj(\"Kasia\")\n",
    "print(msg)  # → Cześć, Kasia!\n"
   ],
   "outputs": [
    {
     "name": "stdout",
     "output_type": "stream",
     "text": [
      "Cześć, Kasia!\n"
     ]
    }
   ],
   "execution_count": 1
  },
  {
   "metadata": {
    "ExecuteTime": {
     "end_time": "2025-04-23T11:28:18.127101Z",
     "start_time": "2025-04-23T11:28:18.122351Z"
    }
   },
   "cell_type": "code",
   "source": [
    "def opis_punktu(x, y):\n",
    "    return f\"Punkt o współrzędnych ({x}, {y})\"\n",
    "\n",
    "print(opis_punktu(3, 7))          # pozycyjnie\n",
    "print(opis_punktu(y=7, x=3))      # nazwane\n"
   ],
   "id": "10cc8cb90b13c254",
   "outputs": [
    {
     "name": "stdout",
     "output_type": "stream",
     "text": [
      "Punkt o współrzędnych (3, 7)\n",
      "Punkt o współrzędnych (3, 7)\n"
     ]
    }
   ],
   "execution_count": 2
  },
  {
   "metadata": {
    "ExecuteTime": {
     "end_time": "2025-04-23T11:28:33.066740Z",
     "start_time": "2025-04-23T11:28:33.061581Z"
    }
   },
   "cell_type": "code",
   "source": [
    "def poteguj(liczba, stopien=2):\n",
    "    return liczba ** stopien\n",
    "\n",
    "print(poteguj(4))     # 4^2 = 16\n",
    "print(poteguj(4, 3))  # 4^3 = 64\n"
   ],
   "id": "25611e3b967dba95",
   "outputs": [
    {
     "name": "stdout",
     "output_type": "stream",
     "text": [
      "16\n",
      "64\n"
     ]
    }
   ],
   "execution_count": 3
  },
  {
   "metadata": {
    "ExecuteTime": {
     "end_time": "2025-04-23T11:28:43.499923Z",
     "start_time": "2025-04-23T11:28:43.495783Z"
    }
   },
   "cell_type": "code",
   "source": [
    "def suma(*args):\n",
    "    total = 0\n",
    "    for num in args:\n",
    "        total += num\n",
    "    return total\n",
    "\n",
    "print(suma(1, 2, 3, 10))  # → 16\n"
   ],
   "id": "3ec2762ea5156462",
   "outputs": [
    {
     "name": "stdout",
     "output_type": "stream",
     "text": [
      "16\n"
     ]
    }
   ],
   "execution_count": 4
  },
  {
   "metadata": {
    "ExecuteTime": {
     "end_time": "2025-04-23T11:28:53.494436Z",
     "start_time": "2025-04-23T11:28:53.490128Z"
    }
   },
   "cell_type": "code",
   "source": [
    "def drukuj_info(**kwargs):\n",
    "    for klucz, wartosc in kwargs.items():\n",
    "        print(f\"{klucz}: {wartosc}\")\n",
    "\n",
    "drukuj_info(imie=\"Ola\", wiek=22, miasto=\"Gdańsk\")\n",
    "# → imie: Ola\n",
    "#   wiek: 22\n",
    "#   miasto: Gdańsk\n"
   ],
   "id": "89a5b7d1eb0a756c",
   "outputs": [
    {
     "name": "stdout",
     "output_type": "stream",
     "text": [
      "imie: Ola\n",
      "wiek: 22\n",
      "miasto: Gdańsk\n"
     ]
    }
   ],
   "execution_count": 5
  },
  {
   "metadata": {
    "ExecuteTime": {
     "end_time": "2025-04-23T11:28:59.542366Z",
     "start_time": "2025-04-23T11:28:59.537857Z"
    }
   },
   "cell_type": "code",
   "source": [
    "# prosta funkcja mnożąca przez 2\n",
    "podwoj = lambda x: x * 2\n",
    "print(podwoj(5))  # → 10\n",
    "\n",
    "# z użyciem map\n",
    "lista = [1, 2, 3, 4]\n",
    "print(list(map(lambda x: x**2, lista)))  # → [1, 4, 9, 16]\n"
   ],
   "id": "84735ee86a6385a3",
   "outputs": [
    {
     "name": "stdout",
     "output_type": "stream",
     "text": [
      "10\n",
      "[1, 4, 9, 16]\n"
     ]
    }
   ],
   "execution_count": 6
  },
  {
   "metadata": {
    "ExecuteTime": {
     "end_time": "2025-04-23T11:29:14.913077Z",
     "start_time": "2025-04-23T11:29:14.908282Z"
    }
   },
   "cell_type": "code",
   "source": [
    "import math\n",
    "from random import choice, randint\n",
    "\n",
    "# math\n",
    "print(math.sqrt(16))     # → 4.0\n",
    "\n",
    "# random\n",
    "wersje = [\"A\", \"B\", \"C\"]\n",
    "print(choice(wersje))    # losowy wybór\n",
    "print(randint(1, 10))    # losowa liczba z przedziału [1,10]\n"
   ],
   "id": "f09a47e32b6ad113",
   "outputs": [
    {
     "name": "stdout",
     "output_type": "stream",
     "text": [
      "4.0\n",
      "A\n",
      "4\n"
     ]
    }
   ],
   "execution_count": 7
  },
  {
   "metadata": {
    "ExecuteTime": {
     "end_time": "2025-04-23T11:29:33.406439Z",
     "start_time": "2025-04-23T11:29:33.012420Z"
    }
   },
   "cell_type": "code",
   "source": [
    "import numpy as np\n",
    "\n",
    "arr = np.array([1, 2, 3])\n",
    "print(arr * 2)           # → [2 4 6]\n"
   ],
   "id": "58508b6fe32c3104",
   "outputs": [
    {
     "name": "stdout",
     "output_type": "stream",
     "text": [
      "[2 4 6]\n"
     ]
    }
   ],
   "execution_count": 8
  },
  {
   "metadata": {
    "ExecuteTime": {
     "end_time": "2025-04-23T11:30:51.979108Z",
     "start_time": "2025-04-23T11:30:51.975269Z"
    }
   },
   "cell_type": "code",
   "source": [
    "# utils.py\n",
    "def mnoz(a, b):\n",
    "    \"\"\"Zwraca iloczyn a i b.\"\"\"\n",
    "    return a * b\n",
    "\n",
    "PI = 3.14159\n"
   ],
   "id": "dddae1e97ac7b563",
   "outputs": [],
   "execution_count": 15
  }
 ],
 "metadata": {
  "kernelspec": {
   "display_name": "Python 3",
   "language": "python",
   "name": "python3"
  },
  "language_info": {
   "codemirror_mode": {
    "name": "ipython",
    "version": 2
   },
   "file_extension": ".py",
   "mimetype": "text/x-python",
   "name": "python",
   "nbconvert_exporter": "python",
   "pygments_lexer": "ipython2",
   "version": "2.7.6"
  }
 },
 "nbformat": 4,
 "nbformat_minor": 5
}
