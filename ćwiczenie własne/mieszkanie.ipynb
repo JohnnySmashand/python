{
 "cells": [
  {
   "cell_type": "code",
   "id": "initial_id",
   "metadata": {
    "collapsed": true,
    "ExecuteTime": {
     "end_time": "2025-04-23T12:37:32.970064Z",
     "start_time": "2025-04-23T12:37:32.962714Z"
    }
   },
   "source": [
    "class Address\n",
    "\n",
    "\n",
    "\n",
    "\n",
    "\n",
    "\n",
    "class Flat:\n",
    "    def __init__(self, address: str, size: float, rooms: int):\n",
    "        # Konstruktor: wywołuje się przy tworzeniu obiektu\n",
    "        print('Tworzę nowe mieszkanie')\n",
    "        self.address = address  # zapisujemy adres\n",
    "        self.size = size        # zapisujemy powierzchnię\n",
    "        self.rooms = rooms      # zapisujemy liczbę pokoi\n",
    "\n",
    "    def __str__(self):\n",
    "        # Metoda pozwalająca ładnie wypisać obiekt przez print()\n",
    "        return f\"Mieszkanie: {self.address}, {self.size} m², {self.rooms} pokoje\"\n",
    "\n",
    "\n",
    "# Tworzymy instancję – zwróć uwagę na składnię: nazwa_parametru=\"wartość\"\n",
    "my_flat = Flat(address=\"Lublin\", size=60, rooms=5)\n",
    "print(my_flat)          # użyje __str__ → Mieszkanie: Lublin, 60 m², 5 pokoje\n",
    "print(my_flat.address)  # wypisze sam adres: Lublin\n",
    "\n",
    "# Drugi obiekt\n",
    "your_flat = Flat(address=\"Warszawa\", size=75.2, rooms=3)\n",
    "print(your_flat)        # Mieszkanie: Warszawa, 75.2 m², 3 pokoje\n",
    "print(your_flat.address)# Warszawa\n"
   ],
   "outputs": [
    {
     "name": "stdout",
     "output_type": "stream",
     "text": [
      "Tworzę nowe mieszkanie\n",
      "Mieszkanie: Lublin, 60 m², 5 pokoje\n",
      "Lublin\n",
      "Tworzę nowe mieszkanie\n",
      "Mieszkanie: Warszawa, 75.2 m², 3 pokoje\n",
      "Warszawa\n"
     ]
    }
   ],
   "execution_count": 15
  },
  {
   "metadata": {
    "ExecuteTime": {
     "end_time": "2025-04-23T12:57:57.600193Z",
     "start_time": "2025-04-23T12:57:57.593873Z"
    }
   },
   "cell_type": "code",
   "source": [
    "class Konto:\n",
    "    def __init__(self):\n",
    "        # inicjalizacja salda jako float\n",
    "        self.kwota: float = 0.0\n",
    "\n",
    "    def deposit(self, amount: float) -> float:\n",
    "        \"\"\"\n",
    "        Wpłaca podaną kwotę na konto.\n",
    "        Zwraca nowe saldo.\n",
    "        \"\"\"\n",
    "        self.kwota += amount\n",
    "        return self.kwota\n",
    "\n",
    "    def withdraw(self, amount: float) -> float:\n",
    "        \"\"\"\n",
    "        Próbuje wypłacić podaną kwotę ze środków.\n",
    "        Jeśli amount przekracza saldo, rzuca wyjątek.\n",
    "        W przeciwnym razie odejmuje od salda i zwraca nowe saldo.\n",
    "        \"\"\"\n",
    "        if amount > self.kwota:\n",
    "            raise Exception(\"Niewystarczające środki na koncie\")\n",
    "        self.kwota -= amount\n",
    "        return self.kwota\n",
    "\n",
    "\n",
    "# Przykład użycia\n",
    "if __name__ == \"__main__\":\n",
    "    moje_konto = Konto()\n",
    "    print(\"Saldo po wpłacie:\", moje_konto.deposit(1000.0))  # → Saldo po wpłacie: 1000.0\n",
    "\n",
    "    try:\n",
    "        nowe_saldo = moje_konto.withdraw(10020.0)\n",
    "        print(\"Saldo po wypłacie:\", nowe_saldo)\n",
    "    except Exception as e:\n",
    "        print(\"Błąd wypłaty:\", e)  # → Błąd wypłaty: Niewystarczające środki na koncie\n"
   ],
   "id": "1718d5831289a40a",
   "outputs": [
    {
     "name": "stdout",
     "output_type": "stream",
     "text": [
      "Saldo po wpłacie: 1000.0\n",
      "Błąd wypłaty: Niewystarczające środki na koncie\n"
     ]
    }
   ],
   "execution_count": 23
  },
  {
   "metadata": {
    "ExecuteTime": {
     "end_time": "2025-04-23T13:11:20.413339Z",
     "start_time": "2025-04-23T13:11:20.406720Z"
    }
   },
   "cell_type": "code",
   "source": [
    "class Account:\n",
    "    def __init__(self, amount: float):\n",
    "        self.amount = amount\n",
    "\n",
    "    def __str__(self):\n",
    "        return f\"Saldo konta: {self.amount}\"\n",
    "\n",
    "    def __repr__(self):\n",
    "        return f\"Saldo konta: {self.amount}\"\n",
    "    def __eq__(self, other):\n",
    "        return self.amount == other.amount\n",
    "    def __lt__(self, other):\n",
    "        return self.amount < other.amount\n",
    "    def __add__(self, other):\n",
    "        return Account(self.amount + other.amount)\n",
    "\n",
    "accounts = [\n",
    "    Account(3100),\n",
    "    Account(1100),\n",
    "    Account(2100),\n",
    "]\n",
    "accounts.sort(reverse=True)\n",
    "print(accounts)\n",
    "print(accounts[0] == accounts[1])\n",
    "\n",
    "print(accounts[0] + accounts[2])\n"
   ],
   "id": "2ef57957a9c7c2c6",
   "outputs": [
    {
     "name": "stdout",
     "output_type": "stream",
     "text": [
      "[Saldo konta: 3100, Saldo konta: 2100, Saldo konta: 1100]\n",
      "False\n",
      "Saldo konta: 4200\n"
     ]
    }
   ],
   "execution_count": 36
  },
  {
   "metadata": {
    "ExecuteTime": {
     "end_time": "2025-04-23T13:15:15.116664Z",
     "start_time": "2025-04-23T13:15:15.110623Z"
    }
   },
   "cell_type": "code",
   "source": [
    "class Person:\n",
    "    def __init__(self, name, age):\n",
    "        self.name = name\n",
    "        self.age = age\n",
    "\n",
    "    def display_info(self):\n",
    "        return f\"Name: {self.name}, Age: {self.age}\"\n",
    "\n",
    "class Employee(Person):\n",
    "    def work(self):\n",
    "        return f\"{self.name} is working as an employee.\"\n",
    "\n",
    "    def display_info(self):\n",
    "        return f\"{super().display_info()} - Role: Employee\"\n",
    "\n",
    "employee = Employee(name=\"Anna Kowalska\", age=30)\n",
    "print(employee.display_info())\n",
    "print(employee.work())\n"
   ],
   "id": "36cb7a2e1fce950f",
   "outputs": [
    {
     "name": "stdout",
     "output_type": "stream",
     "text": [
      "Name: Anna Kowalska, Age: 30 - Role: Employee\n",
      "Anna Kowalska is working as an employee.\n"
     ]
    }
   ],
   "execution_count": 37
  }
 ],
 "metadata": {
  "kernelspec": {
   "display_name": "Python 3",
   "language": "python",
   "name": "python3"
  },
  "language_info": {
   "codemirror_mode": {
    "name": "ipython",
    "version": 2
   },
   "file_extension": ".py",
   "mimetype": "text/x-python",
   "name": "python",
   "nbconvert_exporter": "python",
   "pygments_lexer": "ipython2",
   "version": "2.7.6"
  }
 },
 "nbformat": 4,
 "nbformat_minor": 5
}
