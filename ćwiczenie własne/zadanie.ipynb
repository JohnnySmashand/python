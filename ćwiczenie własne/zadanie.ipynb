{
 "cells": [
  {
   "cell_type": "code",
   "id": "initial_id",
   "metadata": {
    "collapsed": true,
    "ExecuteTime": {
     "end_time": "2025-04-23T13:33:00.093028Z",
     "start_time": "2025-04-23T13:33:00.084299Z"
    }
   },
   "source": [
    "# Zadanie z dziedziczenia klas:\n",
    "# 1. Zdefiniuj klasę Zwierze z:\n",
    "#    - atrybutami: nazwa (str), wiek (int)\n",
    "#    - metodą make_sound(), która zwraca ciąg znaków opisujący dźwięk zwierzęcia\n",
    "# 2. Utwórz klasę Pies dziedziczącą po Zwierze:\n",
    "#    - nadpisz metodę make_sound(), aby zwracała \"Hau hau!\"\n",
    "#    - dodaj metodę fetch(item: str), która zwraca informację o aportowaniu przedmiotu\n",
    "# 3. Utwórz klasę Kot dziedziczącą po Zwierze:\n",
    "#    - nadpisz metodę make_sound(), aby zwracała \"Miau!\"\n",
    "#    - dodaj metodę scratch(), która zwraca informację o drapaniu mebli\n",
    "# 4. Przetestuj działanie:\n",
    "#    - stwórz listę zwierząt zawierającą kilka Psów i Kotów\n",
    "#    - dla każdego zwierzaka wypisz jego nazwę, wiek i wynik make_sound()\n",
    "#    - jeśli to Pies, wywołaj fetch(\"patyk\")\n",
    "#    - jeśli to Kot, wywołaj scratch()\n",
    "\n",
    "# Zadanie z dziedziczenia klas:\n",
    "# 1. Zdefiniuj klasę Zwierze z:\n",
    "#    - atrybutami: nazwa (str), wiek (int)\n",
    "#    - metodą make_sound(), która zwraca ciąg znaków opisujący dźwięk zwierzęcia\n",
    "# 2. Utwórz klasę Pies dziedziczącą po Zwierze:\n",
    "#    - nadpisz metodę make_sound(), aby zwracała \"Hau hau!\"\n",
    "#    - dodaj metodę fetch(item: str), która zwraca informację o aportowaniu przedmiotu\n",
    "# 3. Utwórz klasę Kot dziedziczącą po Zwierze:\n",
    "#    - nadpisz metodę make_sound(), aby zwracała \"Miau!\"\n",
    "#    - dodaj metodę scratch(), która zwraca informację o drapaniu mebli\n",
    "# 4. Przetestuj działanie:\n",
    "#    - stwórz listę zwierząt zawierającą kilka Psów i Kotów\n",
    "#    - dla każdego zwierzaka wypisz jego nazwę, wiek i wynik make_sound()\n",
    "#    - jeśli to Pies, wywołaj fetch(\"patyk\")\n",
    "#    - jeśli to Kot, wywołaj scratch()\n",
    "\n",
    "class Zwierze:\n",
    "    def __init__(self, nazwa: str, wiek: int):\n",
    "        self.nazwa = nazwa\n",
    "        self.wiek = wiek\n",
    "\n",
    "    def make_sound(self) -> str:\n",
    "        raise NotImplementedError(\"Każde zwierzę powinno umieć wydawać dźwięk\")\n",
    "\n",
    "class Pies(Zwierze):\n",
    "    def make_sound(self) -> str:\n",
    "        return \"Hau hau!\"\n",
    "\n",
    "    def fetch(self, item: str) -> str:\n",
    "        return f\"{self.nazwa} aportuje {item}.\"\n",
    "\n",
    "class Kot(Zwierze):\n",
    "    def make_sound(self) -> str:\n",
    "        return \"Miau!\"\n",
    "\n",
    "    def scratch(self) -> str:\n",
    "        return f\"{self.nazwa} drapie meble.\"\n",
    "\n",
    "# Testowanie zadania\n",
    "zwierzeta = [\n",
    "    Pies(\"Reksio\", 5),\n",
    "    Kot(\"Filemon\", 3),\n",
    "    Pies(\"Azor\", 2),\n",
    "    Kot(\"Mruczek\", 4)\n",
    "]\n",
    "\n",
    "for z in zwierzeta:\n",
    "    print(f\"{z.nazwa} ({z.wiek} lat): {z.make_sound()}\")\n",
    "    if isinstance(z, Pies):\n",
    "        print(z.fetch(\"patyk\"))\n",
    "    elif isinstance(z, Kot):\n",
    "        print(z.scratch())\n",
    "    print(\"---\")\n",
    "\n",
    "\n"
   ],
   "outputs": [
    {
     "name": "stdout",
     "output_type": "stream",
     "text": [
      "Reksio (5 lat): Hau hau!\n",
      "Reksio aportuje patyk.\n",
      "---\n",
      "Filemon (3 lat): Miau!\n",
      "Filemon drapie meble.\n",
      "---\n",
      "Azor (2 lat): Hau hau!\n",
      "Azor aportuje patyk.\n",
      "---\n",
      "Mruczek (4 lat): Miau!\n",
      "Mruczek drapie meble.\n",
      "---\n"
     ]
    }
   ],
   "execution_count": 3
  }
 ],
 "metadata": {
  "kernelspec": {
   "display_name": "Python 3",
   "language": "python",
   "name": "python3"
  },
  "language_info": {
   "codemirror_mode": {
    "name": "ipython",
    "version": 2
   },
   "file_extension": ".py",
   "mimetype": "text/x-python",
   "name": "python",
   "nbconvert_exporter": "python",
   "pygments_lexer": "ipython2",
   "version": "2.7.6"
  }
 },
 "nbformat": 4,
 "nbformat_minor": 5
}
