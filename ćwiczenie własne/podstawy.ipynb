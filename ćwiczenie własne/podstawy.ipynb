{
 "cells": [
  {
   "cell_type": "code",
   "id": "initial_id",
   "metadata": {
    "collapsed": true,
    "ExecuteTime": {
     "end_time": "2025-04-23T10:57:50.989775Z",
     "start_time": "2025-04-23T10:57:50.984997Z"
    }
   },
   "source": [
    "from win32con import HELP_SETINDEX\n",
    "\n",
    "# Przypisanie wartości do zmiennych\n",
    "a = 5          # int\n",
    "b = 3.14       # float\n",
    "c = \"hello\"    # str\n",
    "d = True       # bool\n",
    "\n",
    "print(a, b, c, d)\n"
   ],
   "outputs": [
    {
     "name": "stdout",
     "output_type": "stream",
     "text": [
      "5 3.14 hello True\n"
     ]
    }
   ],
   "execution_count": 4
  },
  {
   "metadata": {
    "ExecuteTime": {
     "end_time": "2025-04-23T10:57:52.374520Z",
     "start_time": "2025-04-23T10:57:52.368399Z"
    }
   },
   "cell_type": "code",
   "source": [
    "x = 10\n",
    "y = 3\n",
    "\n",
    "# Arytmetyka\n",
    "print(x + y)   # dodawanie → 13\n",
    "print(x - y)   # odejmowanie → 7\n",
    "print(x * y)   # mnożenie → 30\n",
    "print(x / y)   # dzielenie → ~3.3333\n",
    "print(x // y)  # dzielenie całkowite → 3\n",
    "print(x % y)   # reszta z dzielenia → 1\n",
    "print(x ** y)  # potęgowanie → 1000\n",
    "\n",
    "# Porównania (zwracają bool)\n",
    "print(x > y, x == y, x != y)  # True False True\n"
   ],
   "id": "12f21013a43c91bf",
   "outputs": [
    {
     "name": "stdout",
     "output_type": "stream",
     "text": [
      "13\n",
      "7\n",
      "30\n",
      "3.3333333333333335\n",
      "3\n",
      "1\n",
      "1000\n",
      "True False True\n"
     ]
    }
   ],
   "execution_count": 5
  },
  {
   "metadata": {
    "ExecuteTime": {
     "end_time": "2025-04-23T10:58:56.627815Z",
     "start_time": "2025-04-23T10:58:56.623735Z"
    }
   },
   "cell_type": "code",
   "source": [
    "fruits = [\"jabłko\", \"banan\", \"gruszka\"]\n",
    "fruits.append(\"kiwi\")        # dodanie elementu\n",
    "print(fruits)\n",
    "print(fruits[1])     # drugi element: \"banan\"\n"
   ],
   "id": "3287e940d3e37f49",
   "outputs": [
    {
     "name": "stdout",
     "output_type": "stream",
     "text": [
      "['jabłko', 'banan', 'gruszka', 'kiwi']\n",
      "banan\n"
     ]
    }
   ],
   "execution_count": 12
  },
  {
   "metadata": {
    "ExecuteTime": {
     "end_time": "2025-04-23T10:59:12.778748Z",
     "start_time": "2025-04-23T10:59:12.775306Z"
    }
   },
   "cell_type": "code",
   "source": [
    "coords = (10, 20)\n",
    "# nie można zmieniać elementów\n"
   ],
   "id": "f071d4d24ded4da0",
   "outputs": [],
   "execution_count": 13
  },
  {
   "metadata": {
    "ExecuteTime": {
     "end_time": "2025-04-23T10:59:38.152190Z",
     "start_time": "2025-04-23T10:59:38.147165Z"
    }
   },
   "cell_type": "code",
   "source": [
    "student = {\"imie\": \"Ala\", \"wiek\": 21}\n",
    "print(student[\"wiek\"])       # odczyt wartości po kluczu\n",
    "student[\"kierunek\"] = \"AI\"   # dodanie nowego klucza\n"
   ],
   "id": "9f0b7b79b4eb7c89",
   "outputs": [
    {
     "name": "stdout",
     "output_type": "stream",
     "text": [
      "21\n"
     ]
    }
   ],
   "execution_count": 14
  },
  {
   "metadata": {
    "ExecuteTime": {
     "end_time": "2025-04-23T11:00:13.238053Z",
     "start_time": "2025-04-23T11:00:13.233043Z"
    }
   },
   "cell_type": "code",
   "source": [
    "s = {1, 2, 3, 2}\n",
    "print(s)                     # {1, 2, 3}\n"
   ],
   "id": "76e268a28c148779",
   "outputs": [
    {
     "name": "stdout",
     "output_type": "stream",
     "text": [
      "{1, 2, 3}\n"
     ]
    }
   ],
   "execution_count": 15
  },
  {
   "metadata": {
    "ExecuteTime": {
     "end_time": "2025-04-23T11:00:40.694360Z",
     "start_time": "2025-04-23T11:00:40.689513Z"
    }
   },
   "cell_type": "code",
   "source": [
    "age = 12\n",
    "if age >= 18:\n",
    "    print(\"Pełnoletni\")\n",
    "else:\n",
    "    print(\"Niepełnoletni\")\n"
   ],
   "id": "bf7c89640645b107",
   "outputs": [
    {
     "name": "stdout",
     "output_type": "stream",
     "text": [
      "Niepełnoletni\n"
     ]
    }
   ],
   "execution_count": 17
  },
  {
   "metadata": {
    "ExecuteTime": {
     "end_time": "2025-04-23T11:01:09.725310Z",
     "start_time": "2025-04-23T11:01:09.720960Z"
    }
   },
   "cell_type": "code",
   "source": [
    "# for\n",
    "for i in range(5):          # i = 0,1,2,3,4\n",
    "    print(i)\n",
    "\n",
    "\n"
   ],
   "id": "6fdc868c3bc2dd0e",
   "outputs": [
    {
     "name": "stdout",
     "output_type": "stream",
     "text": [
      "0\n",
      "1\n",
      "2\n",
      "3\n",
      "4\n"
     ]
    }
   ],
   "execution_count": 19
  },
  {
   "metadata": {
    "ExecuteTime": {
     "end_time": "2025-04-23T11:01:13.530497Z",
     "start_time": "2025-04-23T11:01:13.525551Z"
    }
   },
   "cell_type": "code",
   "source": [
    "# while\n",
    "n = 3\n",
    "while n > 0:\n",
    "    print(n)\n",
    "    n -= 1"
   ],
   "id": "e332d0109ccc6dc4",
   "outputs": [
    {
     "name": "stdout",
     "output_type": "stream",
     "text": [
      "3\n",
      "2\n",
      "1\n"
     ]
    }
   ],
   "execution_count": 20
  },
  {
   "metadata": {},
   "cell_type": "markdown",
   "source": [
    "# Zadania na Dzień 1\n",
    "\n",
    "## Zadanie 1: Kalkulator BMI\n",
    "**Opis:**\n",
    "Napisz skrypt, który:\n",
    "1. Poprosi użytkownika o wzrost (w cm) i wagę (w kg).\n",
    "2. Obliczy BMI według wzoru:\n",
    "3. Wyświetli wynik z dwoma miejscami po przecinku.\n",
    "4. Na podstawie wartości BMI wydrukuje odpowiedni komunikat:\n",
    "- `< 18.5` → „Niedowaga”\n",
    "- `18.5 – 24.9` → „Waga prawidłowa”\n",
    "- `25.0 – 29.9` → „Nadwaga”\n",
    "- `>= 30.0` → „Otyłość”\n",
    "\n",
    "**Wskazówki:**\n",
    "- Użyj `input()` i rzuć wynik na `float`.\n",
    "- Zastosuj `if` / `elif` / `else`.\n",
    "- Zaokrąglanie osiągniesz przez formatowanie f-stringiem:\n",
    "```python\n",
    "print(f\"Twoje BMI: {bmi:.2f}\")\n"
   ],
   "id": "420f9f656f13d78b"
  },
  {
   "metadata": {},
   "cell_type": "code",
   "outputs": [
    {
     "name": "stdout",
     "output_type": "stream",
     "text": [
      "Twoje BMI: 23.37\n",
      "Waga prawidłowa\n"
     ]
    }
   ],
   "execution_count": 30,
   "source": [
    "# bmi_calculator.py\n",
    "wzrost_cm = float(input(\"Podaj wzrost w cm: \"))\n",
    "waga_kg   = float(input(\"Podaj wagę w kg: \"))\n",
    "\n",
    "# oblicz BMI\n",
    "bmi = waga_kg / ( (wzrost_cm/100) ** 2 )\n",
    "\n",
    "# zaokrąglenie i warunki\n",
    "print(f\"Twoje BMI: {bmi:.2f}\")\n",
    "\n",
    "if bmi < 18.5:\n",
    "    print(\"Niedowaga\")\n",
    "elif bmi < 25:\n",
    "    print(\"Waga prawidłowa\")\n",
    "elif bmi < 30:\n",
    "    print(\"Nadwaga\")\n",
    "else:\n",
    "    print(\"Otyłość\")\n"
   ],
   "id": "84626bc34b22f1c8"
  },
  {
   "metadata": {},
   "cell_type": "markdown",
   "source": [
    "## Zadanie 2: Lista zakupów\n",
    "**Opis:**\n",
    "Stwórz interaktywny program w Pythonie, który:\n",
    "1. Inicjalizuje pustą listę `zakupy = []`.\n",
    "2. W pętli `while True:` prosi o komendę:\n",
    "   - `dodaj <nazwa>` – doda wskazaną pozycję do listy\n",
    "   - `usun <nazwa>` – usunie wskazaną pozycję, jeśli istnieje (w przeciwnym razie wypisze informację o błędzie)\n",
    "   - `koniec` – zakończy program\n",
    "3. Po każdej operacji wypisuje aktualną zawartość listy zakupów.\n",
    "\n",
    "**Wskazówki:**\n",
    "- Użyj `input().split()`, żeby rozdzielić komendę od nazwy.\n",
    "- Metody list: `append()`, `remove()`.\n",
    "- `break` służy do wyjścia z pętli.\n"
   ],
   "id": "c2b8f75514537f3e"
  },
  {
   "metadata": {
    "ExecuteTime": {
     "end_time": "2025-04-23T11:24:21.725607Z",
     "start_time": "2025-04-23T11:23:57.624020Z"
    }
   },
   "cell_type": "code",
   "source": [
    "# lista_zakupow.py\n",
    "zakupy = []\n",
    "\n",
    "while True:\n",
    "    komenda = input(\"Podaj komendę (dodaj/usun koniec): \").split()\n",
    "    if not komenda:\n",
    "        continue\n",
    "\n",
    "    akcja = komenda[0]\n",
    "    if akcja == \"koniec\":\n",
    "        break\n",
    "\n",
    "    rzecz = \" \".join(komenda[1:])\n",
    "    if akcja == \"dodaj\":\n",
    "        zakupy.append(rzecz)\n",
    "    elif akcja == \"usun\":\n",
    "        if rzecz in zakupy:\n",
    "            zakupy.remove(rzecz)\n",
    "        else:\n",
    "            print(f\"{rzecz} nie ma na liście!\")\n",
    "    else:\n",
    "        print(\"Nieznana komenda!\")\n",
    "\n",
    "    print(\"Twoja lista:\", zakupy)\n"
   ],
   "id": "565b6a6c49aed381",
   "outputs": [
    {
     "name": "stdout",
     "output_type": "stream",
     "text": [
      "Twoja lista: ['mleko']\n",
      "Twoja lista: ['mleko', 'nóż']\n",
      "Twoja lista: ['mleko', 'nóż', 'zakupy']\n"
     ]
    }
   ],
   "execution_count": 37
  },
  {
   "metadata": {},
   "cell_type": "markdown",
   "source": [
    "## Zadanie 3: Słownik ocen\n",
    "\n",
    "**Opis:**\n",
    "Napisz program, który:\n",
    "\n",
    "1. Pyta, ile przedmiotów chcesz wprowadzić (np. 3).\n",
    "2. W pętli pobiera od użytkownika:\n",
    "   - nazwę przedmiotu\n",
    "   - ocenę (int)\n",
    "   i zapisuje je do słownika `oceny = {}`.\n",
    "\n",
    "Po zebraniu wszystkich ocen:\n",
    "- Oblicza i wyświetla średnią ocen.\n",
    "- Wyświetla przedmioty z ocenami ≥ 4 jako „dobrze poszło”, a poniżej 4 jako „do poprawy”.\n",
    "\n",
    "**Wskazówka:**\n",
    "- Do iteracji po słowniku użyj:  `for przedmiot, ocena in oceny.items():`\n",
    "- Średnia = `sum(oceny.values()) / len(oceny)`.\n"
   ],
   "id": "1f269f0ecb9138a1"
  },
  {
   "metadata": {},
   "cell_type": "code",
   "outputs": [
    {
     "name": "stdout",
     "output_type": "stream",
     "text": [
      "Średnia ocen: 1.67\n",
      "1: 1 → do poprawy\n",
      "3: 2 → do poprawy\n",
      "5: 2 → do poprawy\n"
     ]
    }
   ],
   "execution_count": 32,
   "source": [
    "# slownik_ocen.py\n",
    "oceny = {}\n",
    "n = int(input(\"Ile przedmiotów? \"))\n",
    "\n",
    "for _ in range(n):\n",
    "    pred = input(\"Nazwa przedmiotu: \")\n",
    "    oc = int(input(\"Ocena (1–5): \"))\n",
    "    oceny[pred] = oc\n",
    "\n",
    "srednia = sum(oceny.values()) / len(oceny)\n",
    "print(f\"Średnia ocen: {srednia:.2f}\")\n",
    "\n",
    "for pred, oc in oceny.items():\n",
    "    status = \"dobrze poszło\" if oc >= 4 else \"do poprawy\"\n",
    "    print(f\"{pred}: {oc} → {status}\")\n"
   ],
   "id": "209182792d25e79f"
  }
 ],
 "metadata": {
  "kernelspec": {
   "display_name": "Python 3",
   "language": "python",
   "name": "python3"
  },
  "language_info": {
   "codemirror_mode": {
    "name": "ipython",
    "version": 2
   },
   "file_extension": ".py",
   "mimetype": "text/x-python",
   "name": "python",
   "nbconvert_exporter": "python",
   "pygments_lexer": "ipython2",
   "version": "2.7.6"
  }
 },
 "nbformat": 4,
 "nbformat_minor": 5
}
