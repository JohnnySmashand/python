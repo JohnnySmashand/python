{
 "cells": [
  {
   "cell_type": "code",
   "id": "initial_id",
   "metadata": {
    "collapsed": true,
    "ExecuteTime": {
     "end_time": "2025-04-24T16:07:41.226889Z",
     "start_time": "2025-04-24T16:07:41.214434Z"
    }
   },
   "source": [
    "class Lampka:\n",
    "    def __init__(self, kolor, rok, cena, moc, wlacznik:bool):\n",
    "       self.kolor = kolor\n",
    "       self.rok = rok\n",
    "       self.cena = cena\n",
    "       self.moc = moc\n",
    "       self.wlacznik = wlacznik\n",
    "\n",
    "    def warunek(self):\n",
    "        if self.wlacznik == True:\n",
    "            return f\"włączona\"\n",
    "        else:\n",
    "            return f\"wyłączona\"\n",
    "\n",
    "    def tworzenie(self):\n",
    "        self.wlacznik = not self.wlacznik #obecne pudełko = nieobecne pudełko\n",
    "\n",
    "\n",
    "\n",
    "    def opis(self):\n",
    "        return f\"Lampka w kolorze {self.kolor}, wyprodukowana w {self.rok} roku, kosztuje {self.cena}zł, o mocy {self.moc}W, jest {self.warunek()}\"\n",
    "\n",
    "    def __repr__(self):\n",
    "       return self.opis()\n",
    "\n",
    "Przyklad1 = Lampka('zielona', 2024, 120, 50, True)\n",
    "\n",
    "print(Przyklad1)\n",
    "Przyklad1.tworzenie()\n",
    "print(Przyklad1)\n",
    "Przyklad1.tworzenie() #nadpisalismy i teraz wywolujemy funkcje ktora zmienia wlacznik\n",
    "print(Przyklad1)"
   ],
   "outputs": [
    {
     "name": "stdout",
     "output_type": "stream",
     "text": [
      "Lampka w kolorze zielona, wyprodukowana w 2024 roku, kosztuje 120zł, o mocy 50W, jest włączona\n",
      "Lampka w kolorze zielona, wyprodukowana w 2024 roku, kosztuje 120zł, o mocy 50W, jest wyłączona\n",
      "Lampka w kolorze zielona, wyprodukowana w 2024 roku, kosztuje 120zł, o mocy 50W, jest włączona\n"
     ]
    }
   ],
   "execution_count": 1
  }
 ],
 "metadata": {
  "kernelspec": {
   "display_name": "Python [conda env:base] *",
   "language": "python",
   "name": "conda-base-py"
  },
  "language_info": {
   "codemirror_mode": {
    "name": "ipython",
    "version": 2
   },
   "file_extension": ".py",
   "mimetype": "text/x-python",
   "name": "python",
   "nbconvert_exporter": "python",
   "pygments_lexer": "ipython2",
   "version": "2.7.6"
  }
 },
 "nbformat": 4,
 "nbformat_minor": 5
}
